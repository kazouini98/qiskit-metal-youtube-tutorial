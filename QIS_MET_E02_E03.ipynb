{
 "cells": [
  {
   "cell_type": "code",
   "execution_count": 1,
   "id": "ff6c0910",
   "metadata": {},
   "outputs": [],
   "source": [
    "%load_ext autoreload\n",
    "%autoreload 2"
   ]
  },
  {
   "cell_type": "code",
   "execution_count": 2,
   "id": "1f18c1d9",
   "metadata": {},
   "outputs": [
    {
     "data": {
      "text/html": [
       "\n",
       "    <h1 style=\"\n",
       "        background: #12c2e9;  /* fallback for old browsers */\n",
       "        background: -webkit-linear-gradient(to right, #d4418e 0%, #0652c5 74%);  /* Chrome 10-25, Safari 5.1-6 */\n",
       "        background: linear-gradient(315deg, #d4418e 0%, #0652c5 74%); /* W3C, IE 10+/ Edge, Firefox 16+, Chrome 26+, Opera 12+, Safari 7+ */\n",
       "        margin-top: 50px;\n",
       "        border-style: outset;\n",
       "        padding-top:100px;\n",
       "        padding-bottom:50px;\n",
       "        padding-left:25px;\n",
       "        color: white;\n",
       "    \"> Welcome to Qiskit Metal! <h1>\n",
       "        "
      ],
      "text/plain": [
       "<IPython.core.display.HTML object>"
      ]
     },
     "metadata": {},
     "output_type": "display_data"
    }
   ],
   "source": [
    "import qiskit_metal as metal\n",
    "from qiskit_metal import designs, draw\n",
    "from qiskit_metal import MetalGUI, Dict, open_docs\n",
    "\n",
    "\n",
    "%metal_heading Welcome to Qiskit Metal!"
   ]
  },
  {
   "cell_type": "markdown",
   "id": "af1b6737",
   "metadata": {},
   "source": [
    "# Layout"
   ]
  },
  {
   "cell_type": "code",
   "execution_count": 3,
   "id": "9bea5b01",
   "metadata": {},
   "outputs": [],
   "source": [
    "from qiskit_metal.qlibrary.qubits.transmon_pocket_6 import TransmonPocket6\n",
    "from qiskit_metal.qlibrary.qubits.transmon_cross_fl import TransmonCrossFL\n",
    "\n",
    "from qiskit_metal.qlibrary.tlines.meandered import RouteMeander\n",
    "from qiskit_metal.qlibrary.tlines.pathfinder import RoutePathfinder\n",
    "from qiskit_metal.qlibrary.tlines.straight_path import RouteStraight\n",
    "\n",
    "from qiskit_metal.qlibrary.lumped.cap_3_interdigital import Cap3Interdigital\n",
    "from qiskit_metal.qlibrary.lumped.cap_n_interdigital import CapNInterdigital\n",
    "from qiskit_metal.qlibrary.couplers.cap_n_interdigital_tee import CapNInterdigitalTee\n",
    "\n",
    "from qiskit_metal.qlibrary.terminations.launchpad_wb import LaunchpadWirebond"
   ]
  },
  {
   "cell_type": "code",
   "execution_count": 4,
   "id": "97b7c289",
   "metadata": {},
   "outputs": [],
   "source": [
    "#naming your design\n",
    "design = metal.designs.DesignPlanar()\n",
    "\n",
    "# launch of the Graphic User Interface\n",
    "gui = metal.MetalGUI(design)"
   ]
  },
  {
   "cell_type": "code",
   "execution_count": 5,
   "id": "3746c115",
   "metadata": {},
   "outputs": [
    {
     "data": {
      "text/plain": [
       "{'material': 'silicon',\n",
       " 'layer_start': '0',\n",
       " 'layer_end': '2048',\n",
       " 'size': {'center_x': '0.0mm',\n",
       "  'center_y': '0.0mm',\n",
       "  'center_z': '0.0mm',\n",
       "  'size_x': '9mm',\n",
       "  'size_y': '6mm',\n",
       "  'size_z': '-750um',\n",
       "  'sample_holder_top': '890um',\n",
       "  'sample_holder_bottom': '1650um'}}"
      ]
     },
     "execution_count": 5,
     "metadata": {},
     "output_type": "execute_result"
    }
   ],
   "source": [
    "# to be able to edit a lot we will enable overwrite\n",
    "design.overwrite_enabled = True\n",
    "\n",
    "# single substrate infaormtion\n",
    "design.chips.main"
   ]
  },
  {
   "cell_type": "code",
   "execution_count": 6,
   "id": "02c83a14",
   "metadata": {},
   "outputs": [],
   "source": [
    "# with this we can change the dimension of the chip. YES we can change the other properties\n",
    "design.chips.main.size.size_x = \"5mm\"\n",
    "design.chips.main.size.size_y = \"6mm\""
   ]
  },
  {
   "cell_type": "markdown",
   "id": "bea1ca77",
   "metadata": {},
   "source": [
    "# The Qubit"
   ]
  },
  {
   "cell_type": "code",
   "execution_count": 7,
   "id": "26fea285",
   "metadata": {},
   "outputs": [
    {
     "data": {
      "text/plain": [
       "{'pos_x': '0.0um',\n",
       " 'pos_y': '0.0um',\n",
       " 'orientation': '0.0',\n",
       " 'chip': 'main',\n",
       " 'layer': '1',\n",
       " 'connection_pads': {},\n",
       " '_default_connection_pads': {'pad_gap': '15um',\n",
       "  'pad_width': '125um',\n",
       "  'pad_height': '30um',\n",
       "  'pad_cpw_shift': '0um',\n",
       "  'pad_cpw_extent': '25um',\n",
       "  'cpw_width': '10um',\n",
       "  'cpw_gap': '6um',\n",
       "  'cpw_extend': '100um',\n",
       "  'pocket_extent': '5um',\n",
       "  'pocket_rise': '0um',\n",
       "  'loc_W': '+1',\n",
       "  'loc_H': '+1'},\n",
       " 'pad_gap': '30um',\n",
       " 'inductor_width': '20um',\n",
       " 'pad_width': '455um',\n",
       " 'pad_height': '90um',\n",
       " 'pocket_width': '650um',\n",
       " 'pocket_height': '650um',\n",
       " 'hfss_wire_bonds': False,\n",
       " 'q3d_wire_bonds': False,\n",
       " 'hfss_inductance': '10nH',\n",
       " 'hfss_capacitance': 0,\n",
       " 'hfss_resistance': 0,\n",
       " 'hfss_mesh_kw_jj': 7e-06,\n",
       " 'q3d_inductance': '10nH',\n",
       " 'q3d_capacitance': 0,\n",
       " 'q3d_resistance': 0,\n",
       " 'q3d_mesh_kw_jj': 7e-06,\n",
       " 'gds_cell_name': 'my_other_junction'}"
      ]
     },
     "execution_count": 7,
     "metadata": {},
     "output_type": "execute_result"
    }
   ],
   "source": [
    "# with this command you can see the options of the template\n",
    "TransmonPocket6.get_template_options(design)\n",
    "\n",
    "# we can't change the RENDUR? (correct spell?)"
   ]
  },
  {
   "cell_type": "code",
   "execution_count": 8,
   "id": "946eb3a9",
   "metadata": {},
   "outputs": [
    {
     "name": "stderr",
     "output_type": "stream",
     "text": [
      "WARNING:py.warnings:c:\\Users\\mohamad\\anaconda3\\envs\\metal22\\lib\\site-packages\\pandas\\core\\dtypes\\cast.py:122: ShapelyDeprecationWarning: The array interface is deprecated and will no longer work in Shapely 2.0. Convert the '.coords' to a numpy array instead.\n",
      "  arr = construct_1d_object_array_from_listlike(values)\n",
      "\n",
      "WARNING:py.warnings:c:\\Users\\mohamad\\anaconda3\\envs\\metal22\\lib\\site-packages\\pandas\\core\\dtypes\\cast.py:122: ShapelyDeprecationWarning: The array interface is deprecated and will no longer work in Shapely 2.0. Convert the '.coords' to a numpy array instead.\n",
      "  arr = construct_1d_object_array_from_listlike(values)\n",
      "\n",
      "WARNING:py.warnings:c:\\Users\\mohamad\\anaconda3\\envs\\metal22\\lib\\site-packages\\pandas\\core\\dtypes\\cast.py:122: ShapelyDeprecationWarning: The array interface is deprecated and will no longer work in Shapely 2.0. Convert the '.coords' to a numpy array instead.\n",
      "  arr = construct_1d_object_array_from_listlike(values)\n",
      "\n",
      "WARNING:py.warnings:c:\\Users\\mohamad\\anaconda3\\envs\\metal22\\lib\\site-packages\\pandas\\core\\dtypes\\cast.py:122: ShapelyDeprecationWarning: The array interface is deprecated and will no longer work in Shapely 2.0. Convert the '.coords' to a numpy array instead.\n",
      "  arr = construct_1d_object_array_from_listlike(values)\n",
      "\n",
      "WARNING:py.warnings:c:\\Users\\mohamad\\anaconda3\\envs\\metal22\\lib\\site-packages\\pandas\\core\\dtypes\\cast.py:122: ShapelyDeprecationWarning: The array interface is deprecated and will no longer work in Shapely 2.0. Convert the '.coords' to a numpy array instead.\n",
      "  arr = construct_1d_object_array_from_listlike(values)\n",
      "\n",
      "WARNING:py.warnings:c:\\Users\\mohamad\\anaconda3\\envs\\metal22\\lib\\site-packages\\pandas\\core\\dtypes\\cast.py:122: ShapelyDeprecationWarning: The array interface is deprecated and will no longer work in Shapely 2.0. Convert the '.coords' to a numpy array instead.\n",
      "  arr = construct_1d_object_array_from_listlike(values)\n",
      "\n",
      "WARNING:py.warnings:c:\\Users\\mohamad\\anaconda3\\envs\\metal22\\lib\\site-packages\\pandas\\core\\dtypes\\cast.py:122: ShapelyDeprecationWarning: The array interface is deprecated and will no longer work in Shapely 2.0. Convert the '.coords' to a numpy array instead.\n",
      "  arr = construct_1d_object_array_from_listlike(values)\n",
      "\n",
      "WARNING:py.warnings:c:\\Users\\mohamad\\anaconda3\\envs\\metal22\\lib\\site-packages\\pandas\\core\\dtypes\\cast.py:122: ShapelyDeprecationWarning: The array interface is deprecated and will no longer work in Shapely 2.0. Convert the '.coords' to a numpy array instead.\n",
      "  arr = construct_1d_object_array_from_listlike(values)\n",
      "\n",
      "WARNING:py.warnings:c:\\Users\\mohamad\\anaconda3\\envs\\metal22\\lib\\site-packages\\pandas\\core\\dtypes\\cast.py:122: ShapelyDeprecationWarning: The array interface is deprecated and will no longer work in Shapely 2.0. Convert the '.coords' to a numpy array instead.\n",
      "  arr = construct_1d_object_array_from_listlike(values)\n",
      "\n",
      "WARNING:py.warnings:c:\\Users\\mohamad\\anaconda3\\envs\\metal22\\lib\\site-packages\\pandas\\core\\dtypes\\cast.py:122: ShapelyDeprecationWarning: The array interface is deprecated and will no longer work in Shapely 2.0. Convert the '.coords' to a numpy array instead.\n",
      "  arr = construct_1d_object_array_from_listlike(values)\n",
      "\n",
      "WARNING:py.warnings:c:\\Users\\mohamad\\anaconda3\\envs\\metal22\\lib\\site-packages\\pandas\\core\\dtypes\\cast.py:122: ShapelyDeprecationWarning: The array interface is deprecated and will no longer work in Shapely 2.0. Convert the '.coords' to a numpy array instead.\n",
      "  arr = construct_1d_object_array_from_listlike(values)\n",
      "\n",
      "WARNING:py.warnings:c:\\Users\\mohamad\\anaconda3\\envs\\metal22\\lib\\site-packages\\pandas\\core\\dtypes\\cast.py:122: ShapelyDeprecationWarning: The array interface is deprecated and will no longer work in Shapely 2.0. Convert the '.coords' to a numpy array instead.\n",
      "  arr = construct_1d_object_array_from_listlike(values)\n",
      "\n",
      "WARNING:py.warnings:c:\\Users\\mohamad\\anaconda3\\envs\\metal22\\lib\\site-packages\\pandas\\core\\dtypes\\cast.py:122: ShapelyDeprecationWarning: The array interface is deprecated and will no longer work in Shapely 2.0. Convert the '.coords' to a numpy array instead.\n",
      "  arr = construct_1d_object_array_from_listlike(values)\n",
      "\n",
      "WARNING:py.warnings:c:\\Users\\mohamad\\anaconda3\\envs\\metal22\\lib\\site-packages\\pandas\\core\\dtypes\\cast.py:122: ShapelyDeprecationWarning: The array interface is deprecated and will no longer work in Shapely 2.0. Convert the '.coords' to a numpy array instead.\n",
      "  arr = construct_1d_object_array_from_listlike(values)\n",
      "\n",
      "WARNING:py.warnings:c:\\Users\\mohamad\\anaconda3\\envs\\metal22\\lib\\site-packages\\pandas\\core\\dtypes\\cast.py:122: ShapelyDeprecationWarning: The array interface is deprecated and will no longer work in Shapely 2.0. Convert the '.coords' to a numpy array instead.\n",
      "  arr = construct_1d_object_array_from_listlike(values)\n",
      "\n",
      "WARNING:py.warnings:c:\\Users\\mohamad\\anaconda3\\envs\\metal22\\lib\\site-packages\\pandas\\core\\dtypes\\cast.py:122: ShapelyDeprecationWarning: The array interface is deprecated and will no longer work in Shapely 2.0. Convert the '.coords' to a numpy array instead.\n",
      "  arr = construct_1d_object_array_from_listlike(values)\n",
      "\n",
      "WARNING:py.warnings:c:\\Users\\mohamad\\anaconda3\\envs\\metal22\\lib\\site-packages\\pandas\\core\\dtypes\\cast.py:122: ShapelyDeprecationWarning: The array interface is deprecated and will no longer work in Shapely 2.0. Convert the '.coords' to a numpy array instead.\n",
      "  arr = construct_1d_object_array_from_listlike(values)\n",
      "\n",
      "WARNING:py.warnings:c:\\Users\\mohamad\\anaconda3\\envs\\metal22\\lib\\site-packages\\pandas\\core\\dtypes\\cast.py:122: ShapelyDeprecationWarning: The array interface is deprecated and will no longer work in Shapely 2.0. Convert the '.coords' to a numpy array instead.\n",
      "  arr = construct_1d_object_array_from_listlike(values)\n",
      "\n",
      "WARNING:py.warnings:c:\\Users\\mohamad\\anaconda3\\envs\\metal22\\lib\\site-packages\\pandas\\core\\dtypes\\cast.py:122: ShapelyDeprecationWarning: The array interface is deprecated and will no longer work in Shapely 2.0. Convert the '.coords' to a numpy array instead.\n",
      "  arr = construct_1d_object_array_from_listlike(values)\n",
      "\n",
      "WARNING:py.warnings:c:\\Users\\mohamad\\anaconda3\\envs\\metal22\\lib\\site-packages\\pandas\\core\\dtypes\\cast.py:122: ShapelyDeprecationWarning: The array interface is deprecated and will no longer work in Shapely 2.0. Convert the '.coords' to a numpy array instead.\n",
      "  arr = construct_1d_object_array_from_listlike(values)\n",
      "\n",
      "WARNING:py.warnings:c:\\Users\\mohamad\\anaconda3\\envs\\metal22\\lib\\site-packages\\pandas\\core\\dtypes\\cast.py:122: ShapelyDeprecationWarning: The array interface is deprecated and will no longer work in Shapely 2.0. Convert the '.coords' to a numpy array instead.\n",
      "  arr = construct_1d_object_array_from_listlike(values)\n",
      "\n",
      "WARNING:py.warnings:c:\\Users\\mohamad\\anaconda3\\envs\\metal22\\lib\\site-packages\\pandas\\core\\dtypes\\cast.py:122: ShapelyDeprecationWarning: The array interface is deprecated and will no longer work in Shapely 2.0. Convert the '.coords' to a numpy array instead.\n",
      "  arr = construct_1d_object_array_from_listlike(values)\n",
      "\n",
      "WARNING:py.warnings:c:\\Users\\mohamad\\anaconda3\\envs\\metal22\\lib\\site-packages\\pandas\\core\\dtypes\\cast.py:122: ShapelyDeprecationWarning: The array interface is deprecated and will no longer work in Shapely 2.0. Convert the '.coords' to a numpy array instead.\n",
      "  arr = construct_1d_object_array_from_listlike(values)\n",
      "\n",
      "WARNING:py.warnings:c:\\Users\\mohamad\\anaconda3\\envs\\metal22\\lib\\site-packages\\pandas\\core\\dtypes\\cast.py:122: ShapelyDeprecationWarning: The array interface is deprecated and will no longer work in Shapely 2.0. Convert the '.coords' to a numpy array instead.\n",
      "  arr = construct_1d_object_array_from_listlike(values)\n",
      "\n",
      "WARNING:py.warnings:c:\\Users\\mohamad\\anaconda3\\envs\\metal22\\lib\\site-packages\\pandas\\core\\dtypes\\cast.py:122: ShapelyDeprecationWarning: The array interface is deprecated and will no longer work in Shapely 2.0. Convert the '.coords' to a numpy array instead.\n",
      "  arr = construct_1d_object_array_from_listlike(values)\n",
      "\n",
      "WARNING:py.warnings:c:\\Users\\mohamad\\anaconda3\\envs\\metal22\\lib\\site-packages\\pandas\\core\\dtypes\\cast.py:122: ShapelyDeprecationWarning: The array interface is deprecated and will no longer work in Shapely 2.0. Convert the '.coords' to a numpy array instead.\n",
      "  arr = construct_1d_object_array_from_listlike(values)\n",
      "\n",
      "WARNING:py.warnings:c:\\Users\\mohamad\\anaconda3\\envs\\metal22\\lib\\site-packages\\pandas\\core\\dtypes\\cast.py:122: ShapelyDeprecationWarning: The array interface is deprecated and will no longer work in Shapely 2.0. Convert the '.coords' to a numpy array instead.\n",
      "  arr = construct_1d_object_array_from_listlike(values)\n",
      "\n",
      "WARNING:py.warnings:c:\\Users\\mohamad\\anaconda3\\envs\\metal22\\lib\\site-packages\\pandas\\core\\dtypes\\cast.py:122: ShapelyDeprecationWarning: The array interface is deprecated and will no longer work in Shapely 2.0. Convert the '.coords' to a numpy array instead.\n",
      "  arr = construct_1d_object_array_from_listlike(values)\n",
      "\n"
     ]
    }
   ],
   "source": [
    "# first qubit\n",
    "q_0  = TransmonPocket6(design, \"Q_0\", options = dict(\n",
    "    pos_x= '-0.75mm',\n",
    "    pos_y= '0.5mm',\n",
    "    gds_cell_name= 'FakeJunction_01',\n",
    "    hfss_inductance= '14nH',\n",
    "    pad_width= '425um',\n",
    "    pocket_height= '650um',\n",
    "    connection_pads=dict(\n",
    "        readout = dict(loc_W = 0, loc_H = 1, pad_width = \"80um\", pad_gap = \"50um\"),\n",
    "        bus01 = dict(loc_W = 1, loc_H =-1, pad_width = \"60um\", pad_gap = \"10um\"),\n",
    "        bus02 = dict(loc_W = -1, loc_H =-1, pad_width = \"60um\", pad_gap = \"10um\")\n",
    ")))\n",
    "\n",
    "# second qubit\n",
    "q_1  = TransmonPocket6(design, \"Q_1\", options = dict(\n",
    "    pos_x= '0.75mm',\n",
    "    pos_y= '0.5mm',\n",
    "    gds_cell_name= 'FakeJunction_01',\n",
    "    hfss_inductance= '14nH',\n",
    "    pad_width= '425um',\n",
    "    pocket_height= '650um',\n",
    "    connection_pads=dict(\n",
    "        readout = dict(loc_W = 0, loc_H = 1, pad_width = \"80um\", pad_gap = \"50um\"),\n",
    "        bus01 = dict(loc_W = -1, loc_H =-1, pad_width = \"60um\", pad_gap = \"10um\"),\n",
    "        bus12 = dict(loc_W = 1, loc_H = -1, pad_width = \"60um\", pad_gap = \"10um\")\n",
    ")))\n",
    "\n",
    "\n",
    "gui.rebuild()\n",
    "gui.autoscale()"
   ]
  },
  {
   "cell_type": "code",
   "execution_count": 9,
   "id": "ce7a094b",
   "metadata": {},
   "outputs": [
    {
     "name": "stderr",
     "output_type": "stream",
     "text": [
      "WARNING:py.warnings:c:\\Users\\mohamad\\anaconda3\\envs\\metal22\\lib\\site-packages\\pandas\\core\\dtypes\\cast.py:122: ShapelyDeprecationWarning: The array interface is deprecated and will no longer work in Shapely 2.0. Convert the '.coords' to a numpy array instead.\n",
      "  arr = construct_1d_object_array_from_listlike(values)\n",
      "\n",
      "WARNING:py.warnings:c:\\Users\\mohamad\\anaconda3\\envs\\metal22\\lib\\site-packages\\pandas\\core\\dtypes\\cast.py:122: ShapelyDeprecationWarning: The array interface is deprecated and will no longer work in Shapely 2.0. Convert the '.coords' to a numpy array instead.\n",
      "  arr = construct_1d_object_array_from_listlike(values)\n",
      "\n",
      "WARNING:py.warnings:c:\\Users\\mohamad\\anaconda3\\envs\\metal22\\lib\\site-packages\\pandas\\core\\dtypes\\cast.py:122: ShapelyDeprecationWarning: The array interface is deprecated and will no longer work in Shapely 2.0. Convert the '.coords' to a numpy array instead.\n",
      "  arr = construct_1d_object_array_from_listlike(values)\n",
      "\n",
      "WARNING:py.warnings:c:\\Users\\mohamad\\anaconda3\\envs\\metal22\\lib\\site-packages\\pandas\\core\\dtypes\\cast.py:122: ShapelyDeprecationWarning: The array interface is deprecated and will no longer work in Shapely 2.0. Convert the '.coords' to a numpy array instead.\n",
      "  arr = construct_1d_object_array_from_listlike(values)\n",
      "\n",
      "WARNING:py.warnings:c:\\Users\\mohamad\\anaconda3\\envs\\metal22\\lib\\site-packages\\pandas\\core\\dtypes\\cast.py:122: ShapelyDeprecationWarning: The array interface is deprecated and will no longer work in Shapely 2.0. Convert the '.coords' to a numpy array instead.\n",
      "  arr = construct_1d_object_array_from_listlike(values)\n",
      "\n",
      "WARNING:py.warnings:c:\\Users\\mohamad\\anaconda3\\envs\\metal22\\lib\\site-packages\\pandas\\core\\dtypes\\cast.py:122: ShapelyDeprecationWarning: The array interface is deprecated and will no longer work in Shapely 2.0. Convert the '.coords' to a numpy array instead.\n",
      "  arr = construct_1d_object_array_from_listlike(values)\n",
      "\n",
      "WARNING:py.warnings:c:\\Users\\mohamad\\anaconda3\\envs\\metal22\\lib\\site-packages\\pandas\\core\\dtypes\\cast.py:122: ShapelyDeprecationWarning: The array interface is deprecated and will no longer work in Shapely 2.0. Convert the '.coords' to a numpy array instead.\n",
      "  arr = construct_1d_object_array_from_listlike(values)\n",
      "\n",
      "WARNING:py.warnings:c:\\Users\\mohamad\\anaconda3\\envs\\metal22\\lib\\site-packages\\pandas\\core\\dtypes\\cast.py:122: ShapelyDeprecationWarning: The array interface is deprecated and will no longer work in Shapely 2.0. Convert the '.coords' to a numpy array instead.\n",
      "  arr = construct_1d_object_array_from_listlike(values)\n",
      "\n",
      "WARNING:py.warnings:c:\\Users\\mohamad\\anaconda3\\envs\\metal22\\lib\\site-packages\\pandas\\core\\dtypes\\cast.py:122: ShapelyDeprecationWarning: The array interface is deprecated and will no longer work in Shapely 2.0. Convert the '.coords' to a numpy array instead.\n",
      "  arr = construct_1d_object_array_from_listlike(values)\n",
      "\n",
      "WARNING:py.warnings:c:\\Users\\mohamad\\anaconda3\\envs\\metal22\\lib\\site-packages\\pandas\\core\\dtypes\\cast.py:122: ShapelyDeprecationWarning: The array interface is deprecated and will no longer work in Shapely 2.0. Convert the '.coords' to a numpy array instead.\n",
      "  arr = construct_1d_object_array_from_listlike(values)\n",
      "\n",
      "WARNING:py.warnings:c:\\Users\\mohamad\\anaconda3\\envs\\metal22\\lib\\site-packages\\pandas\\core\\dtypes\\cast.py:122: ShapelyDeprecationWarning: The array interface is deprecated and will no longer work in Shapely 2.0. Convert the '.coords' to a numpy array instead.\n",
      "  arr = construct_1d_object_array_from_listlike(values)\n",
      "\n",
      "WARNING:py.warnings:c:\\Users\\mohamad\\anaconda3\\envs\\metal22\\lib\\site-packages\\pandas\\core\\dtypes\\cast.py:122: ShapelyDeprecationWarning: The array interface is deprecated and will no longer work in Shapely 2.0. Convert the '.coords' to a numpy array instead.\n",
      "  arr = construct_1d_object_array_from_listlike(values)\n",
      "\n",
      "WARNING:py.warnings:c:\\Users\\mohamad\\anaconda3\\envs\\metal22\\lib\\site-packages\\pandas\\core\\dtypes\\cast.py:122: ShapelyDeprecationWarning: The array interface is deprecated and will no longer work in Shapely 2.0. Convert the '.coords' to a numpy array instead.\n",
      "  arr = construct_1d_object_array_from_listlike(values)\n",
      "\n",
      "WARNING:py.warnings:c:\\Users\\mohamad\\anaconda3\\envs\\metal22\\lib\\site-packages\\pandas\\core\\dtypes\\cast.py:122: ShapelyDeprecationWarning: The array interface is deprecated and will no longer work in Shapely 2.0. Convert the '.coords' to a numpy array instead.\n",
      "  arr = construct_1d_object_array_from_listlike(values)\n",
      "\n",
      "WARNING:py.warnings:c:\\Users\\mohamad\\anaconda3\\envs\\metal22\\lib\\site-packages\\pandas\\core\\dtypes\\cast.py:122: ShapelyDeprecationWarning: The array interface is deprecated and will no longer work in Shapely 2.0. Convert the '.coords' to a numpy array instead.\n",
      "  arr = construct_1d_object_array_from_listlike(values)\n",
      "\n",
      "WARNING:py.warnings:c:\\Users\\mohamad\\anaconda3\\envs\\metal22\\lib\\site-packages\\pandas\\core\\dtypes\\cast.py:122: ShapelyDeprecationWarning: The array interface is deprecated and will no longer work in Shapely 2.0. Convert the '.coords' to a numpy array instead.\n",
      "  arr = construct_1d_object_array_from_listlike(values)\n",
      "\n",
      "WARNING:py.warnings:c:\\Users\\mohamad\\anaconda3\\envs\\metal22\\lib\\site-packages\\pandas\\core\\dtypes\\cast.py:122: ShapelyDeprecationWarning: The array interface is deprecated and will no longer work in Shapely 2.0. Convert the '.coords' to a numpy array instead.\n",
      "  arr = construct_1d_object_array_from_listlike(values)\n",
      "\n",
      "WARNING:py.warnings:c:\\Users\\mohamad\\anaconda3\\envs\\metal22\\lib\\site-packages\\pandas\\core\\dtypes\\cast.py:122: ShapelyDeprecationWarning: The array interface is deprecated and will no longer work in Shapely 2.0. Convert the '.coords' to a numpy array instead.\n",
      "  arr = construct_1d_object_array_from_listlike(values)\n",
      "\n",
      "WARNING:py.warnings:c:\\Users\\mohamad\\anaconda3\\envs\\metal22\\lib\\site-packages\\pandas\\core\\dtypes\\cast.py:122: ShapelyDeprecationWarning: The array interface is deprecated and will no longer work in Shapely 2.0. Convert the '.coords' to a numpy array instead.\n",
      "  arr = construct_1d_object_array_from_listlike(values)\n",
      "\n",
      "WARNING:py.warnings:c:\\Users\\mohamad\\anaconda3\\envs\\metal22\\lib\\site-packages\\pandas\\core\\dtypes\\cast.py:122: ShapelyDeprecationWarning: The array interface is deprecated and will no longer work in Shapely 2.0. Convert the '.coords' to a numpy array instead.\n",
      "  arr = construct_1d_object_array_from_listlike(values)\n",
      "\n"
     ]
    }
   ],
   "source": [
    "# third qubit\n",
    "q_2  = TransmonCrossFL(design, \"Q_2\", options = dict(\n",
    "    pos_x= '0.5mm',\n",
    "    pos_y= '-1.5mm',\n",
    "    orientation = \"90\",\n",
    "    connection_pads=dict(\n",
    "        readout = dict(connector_location = \"0\"),\n",
    "        bus02 = dict(connector_location = \"90\", claw_length = \"100um\"),\n",
    "        bus12 = dict(connector_location = \"180\", claw_length = \"100um\"),\n",
    "        fl_options = dict()\n",
    ")))\n",
    "\n",
    "gui.rebuild()\n",
    "gui.autoscale()"
   ]
  },
  {
   "cell_type": "markdown",
   "id": "3922342b",
   "metadata": {},
   "source": [
    "# The Busses"
   ]
  },
  {
   "cell_type": "markdown",
   "id": "6d16fb5d",
   "metadata": {},
   "source": [
    "We now couple the qubits to each other, primarily using RouteMeander. Although one needs to run simulations to properly tune the line lengths for target frequencies,an initial estimate could be determined from the below method"
   ]
  },
  {
   "cell_type": "code",
   "execution_count": 10,
   "id": "e2636752",
   "metadata": {},
   "outputs": [],
   "source": [
    "from qiskit_metal.analyses.em.cpw_calculations import guided_wavelength\n",
    "\n",
    "# ?guided_wavelength use this line to know further info.\n",
    "\n",
    "def find_resonator_length(frequency, line_width, line_gap, N):\n",
    "    # freq in GHz\n",
    "    # line_width/line_gap in um\n",
    "    # N = 2 for lambda/2, N = 4 for lambda/4\n",
    "    #substrate dimensions and properties already set\n",
    "    \n",
    "    [lambdaG, etfSqrt, q] = guided_wavelength(frequency*10**9, line_width*10**-6,\n",
    "                                              line_gap*10**-6, 750*10**-6, 200*10**-9, 11.9)\n",
    "    return str(lambdaG/N*10**3) + ' mm'"
   ]
  },
  {
   "cell_type": "code",
   "execution_count": 11,
   "id": "c5cb7eb7",
   "metadata": {},
   "outputs": [
    {
     "name": "stdout",
     "output_type": "stream",
     "text": [
      "\u001b[1;31mSignature:\u001b[0m\n",
      "\u001b[0mguided_wavelength\u001b[0m\u001b[1;33m(\u001b[0m\u001b[1;33m\n",
      "\u001b[0m    \u001b[0mfreq\u001b[0m\u001b[1;33m,\u001b[0m\u001b[1;33m\n",
      "\u001b[0m    \u001b[0mline_width\u001b[0m\u001b[1;33m,\u001b[0m\u001b[1;33m\n",
      "\u001b[0m    \u001b[0mline_gap\u001b[0m\u001b[1;33m,\u001b[0m\u001b[1;33m\n",
      "\u001b[0m    \u001b[0msubstrate_thickness\u001b[0m\u001b[1;33m,\u001b[0m\u001b[1;33m\n",
      "\u001b[0m    \u001b[0mfilm_thickness\u001b[0m\u001b[1;33m,\u001b[0m\u001b[1;33m\n",
      "\u001b[0m    \u001b[0mdielectric_constant\u001b[0m\u001b[1;33m=\u001b[0m\u001b[1;36m11.45\u001b[0m\u001b[1;33m,\u001b[0m\u001b[1;33m\n",
      "\u001b[0m\u001b[1;33m)\u001b[0m\u001b[1;33m\u001b[0m\u001b[1;33m\u001b[0m\u001b[0m\n",
      "\u001b[1;31mDocstring:\u001b[0m\n",
      "A simple calculator to determine the guided wavelength of a planar CPW\n",
      "transmission line. Assumes the substrate has relative permeability of 1.\n",
      "Assumes package grounds are far away.\n",
      "\n",
      "Args:\n",
      "    freq (float): The frequency of interest, in Hz (eg. 5*10**9).\n",
      "    line_width (float): The width of the CPW trace (center) line, in meters (eg. 10*10**-6).\n",
      "    line_gap (float): The width of the CPW gap (dielectric space), in meters (eg. 6*10**-6).\n",
      "    substrate_thickness (float): Thickness of the dielectric substrate, in meters (eg. 760*10**-6).\n",
      "    film_thickness (float): Thickness of the thin film, in meters (eg. 200*10**-9).\n",
      "    dielectric_constant (float): The relative permittivity of the substrate.\n",
      "        Defaults to 11.45, the value for Silicon at cryogenic temperatures.\n",
      "\n",
      "Returns:\n",
      "    tuple: Contents outlined below\n",
      "\n",
      "Tuple contents:\n",
      "    * lambdaG: The guided wavelength of the CPW based on the input parameters, in meters.\n",
      "      This value is for a full wavelength. Divide by 2 for a lambda/2 resonator, 4 for a lambda/4.\n",
      "    * etfSqrt: Effective dielectric constant (accounting for film thickness)\n",
      "    * q: Filling factor\n",
      "\u001b[1;31mFile:\u001b[0m      c:\\users\\mohamad\\github\\qiskit_metal\\qiskit-metal\\qiskit_metal\\analyses\\em\\cpw_calculations.py\n",
      "\u001b[1;31mType:\u001b[0m      function\n"
     ]
    }
   ],
   "source": [
    "?guided_wavelength"
   ]
  },
  {
   "cell_type": "markdown",
   "id": "cf660be2",
   "metadata": {},
   "source": [
    "First add a a direct coupler (\"High frequency coupler\") between Q_0 and Q_1. This can be accomplished with a simple straight CPW transmission line using RouteStraight. We merely have to state the two pins we wish to have connected, and the width/gap of the CPW transmission line. To determine the pins that we need to input to the route components, we can look at the GUI, or via the pin dictionary of the component"
   ]
  },
  {
   "cell_type": "code",
   "execution_count": 12,
   "id": "69505b2b",
   "metadata": {},
   "outputs": [
    {
     "data": {
      "text/plain": [
       "dict_keys(['readout', 'bus01', 'bus02'])"
      ]
     },
     "execution_count": 12,
     "metadata": {},
     "output_type": "execute_result"
    }
   ],
   "source": [
    "# this will help you to know the pins of your QComponent\n",
    "q_0.pins.keys()"
   ]
  },
  {
   "cell_type": "code",
   "execution_count": 13,
   "id": "f9e6d1c7",
   "metadata": {},
   "outputs": [
    {
     "name": "stderr",
     "output_type": "stream",
     "text": [
      "WARNING:py.warnings:c:\\Users\\mohamad\\anaconda3\\envs\\metal22\\lib\\site-packages\\pandas\\core\\dtypes\\cast.py:122: ShapelyDeprecationWarning: The array interface is deprecated and will no longer work in Shapely 2.0. Convert the '.coords' to a numpy array instead.\n",
      "  arr = construct_1d_object_array_from_listlike(values)\n",
      "\n",
      "WARNING:py.warnings:c:\\Users\\mohamad\\anaconda3\\envs\\metal22\\lib\\site-packages\\pandas\\core\\dtypes\\cast.py:122: ShapelyDeprecationWarning: The array interface is deprecated and will no longer work in Shapely 2.0. Convert the '.coords' to a numpy array instead.\n",
      "  arr = construct_1d_object_array_from_listlike(values)\n",
      "\n",
      "WARNING:py.warnings:c:\\Users\\mohamad\\anaconda3\\envs\\metal22\\lib\\site-packages\\pandas\\core\\dtypes\\cast.py:122: ShapelyDeprecationWarning: The array interface is deprecated and will no longer work in Shapely 2.0. Convert the '.coords' to a numpy array instead.\n",
      "  arr = construct_1d_object_array_from_listlike(values)\n",
      "\n",
      "WARNING:py.warnings:c:\\Users\\mohamad\\anaconda3\\envs\\metal22\\lib\\site-packages\\pandas\\core\\dtypes\\cast.py:122: ShapelyDeprecationWarning: The array interface is deprecated and will no longer work in Shapely 2.0. Convert the '.coords' to a numpy array instead.\n",
      "  arr = construct_1d_object_array_from_listlike(values)\n",
      "\n",
      "WARNING:py.warnings:c:\\Users\\mohamad\\anaconda3\\envs\\metal22\\lib\\site-packages\\pandas\\core\\dtypes\\cast.py:122: ShapelyDeprecationWarning: The array interface is deprecated and will no longer work in Shapely 2.0. Convert the '.coords' to a numpy array instead.\n",
      "  arr = construct_1d_object_array_from_listlike(values)\n",
      "\n",
      "WARNING:py.warnings:c:\\Users\\mohamad\\anaconda3\\envs\\metal22\\lib\\site-packages\\pandas\\core\\dtypes\\cast.py:122: ShapelyDeprecationWarning: The array interface is deprecated and will no longer work in Shapely 2.0. Convert the '.coords' to a numpy array instead.\n",
      "  arr = construct_1d_object_array_from_listlike(values)\n",
      "\n",
      "WARNING:py.warnings:c:\\Users\\mohamad\\anaconda3\\envs\\metal22\\lib\\site-packages\\pandas\\core\\dtypes\\cast.py:122: ShapelyDeprecationWarning: The array interface is deprecated and will no longer work in Shapely 2.0. Convert the '.coords' to a numpy array instead.\n",
      "  arr = construct_1d_object_array_from_listlike(values)\n",
      "\n",
      "WARNING:py.warnings:c:\\Users\\mohamad\\anaconda3\\envs\\metal22\\lib\\site-packages\\pandas\\core\\dtypes\\cast.py:122: ShapelyDeprecationWarning: The array interface is deprecated and will no longer work in Shapely 2.0. Convert the '.coords' to a numpy array instead.\n",
      "  arr = construct_1d_object_array_from_listlike(values)\n",
      "\n",
      "WARNING:py.warnings:c:\\Users\\mohamad\\anaconda3\\envs\\metal22\\lib\\site-packages\\pandas\\core\\dtypes\\cast.py:122: ShapelyDeprecationWarning: The array interface is deprecated and will no longer work in Shapely 2.0. Convert the '.coords' to a numpy array instead.\n",
      "  arr = construct_1d_object_array_from_listlike(values)\n",
      "\n",
      "WARNING:py.warnings:c:\\Users\\mohamad\\anaconda3\\envs\\metal22\\lib\\site-packages\\pandas\\core\\dtypes\\cast.py:122: ShapelyDeprecationWarning: The array interface is deprecated and will no longer work in Shapely 2.0. Convert the '.coords' to a numpy array instead.\n",
      "  arr = construct_1d_object_array_from_listlike(values)\n",
      "\n",
      "WARNING:py.warnings:c:\\Users\\mohamad\\anaconda3\\envs\\metal22\\lib\\site-packages\\pandas\\core\\dtypes\\cast.py:122: ShapelyDeprecationWarning: The array interface is deprecated and will no longer work in Shapely 2.0. Convert the '.coords' to a numpy array instead.\n",
      "  arr = construct_1d_object_array_from_listlike(values)\n",
      "\n",
      "WARNING:py.warnings:c:\\Users\\mohamad\\anaconda3\\envs\\metal22\\lib\\site-packages\\pandas\\core\\dtypes\\cast.py:122: ShapelyDeprecationWarning: The array interface is deprecated and will no longer work in Shapely 2.0. Convert the '.coords' to a numpy array instead.\n",
      "  arr = construct_1d_object_array_from_listlike(values)\n",
      "\n",
      "WARNING:py.warnings:c:\\Users\\mohamad\\anaconda3\\envs\\metal22\\lib\\site-packages\\pandas\\core\\dtypes\\cast.py:122: ShapelyDeprecationWarning: The array interface is deprecated and will no longer work in Shapely 2.0. Convert the '.coords' to a numpy array instead.\n",
      "  arr = construct_1d_object_array_from_listlike(values)\n",
      "\n",
      "WARNING:py.warnings:c:\\Users\\mohamad\\anaconda3\\envs\\metal22\\lib\\site-packages\\pandas\\core\\dtypes\\cast.py:122: ShapelyDeprecationWarning: The array interface is deprecated and will no longer work in Shapely 2.0. Convert the '.coords' to a numpy array instead.\n",
      "  arr = construct_1d_object_array_from_listlike(values)\n",
      "\n",
      "WARNING:py.warnings:c:\\Users\\mohamad\\anaconda3\\envs\\metal22\\lib\\site-packages\\pandas\\core\\dtypes\\cast.py:122: ShapelyDeprecationWarning: The array interface is deprecated and will no longer work in Shapely 2.0. Convert the '.coords' to a numpy array instead.\n",
      "  arr = construct_1d_object_array_from_listlike(values)\n",
      "\n",
      "WARNING:py.warnings:c:\\Users\\mohamad\\anaconda3\\envs\\metal22\\lib\\site-packages\\pandas\\core\\dtypes\\cast.py:122: ShapelyDeprecationWarning: The array interface is deprecated and will no longer work in Shapely 2.0. Convert the '.coords' to a numpy array instead.\n",
      "  arr = construct_1d_object_array_from_listlike(values)\n",
      "\n",
      "WARNING:py.warnings:c:\\Users\\mohamad\\anaconda3\\envs\\metal22\\lib\\site-packages\\pandas\\core\\dtypes\\cast.py:122: ShapelyDeprecationWarning: The array interface is deprecated and will no longer work in Shapely 2.0. Convert the '.coords' to a numpy array instead.\n",
      "  arr = construct_1d_object_array_from_listlike(values)\n",
      "\n",
      "WARNING:py.warnings:c:\\Users\\mohamad\\anaconda3\\envs\\metal22\\lib\\site-packages\\pandas\\core\\dtypes\\cast.py:122: ShapelyDeprecationWarning: The array interface is deprecated and will no longer work in Shapely 2.0. Convert the '.coords' to a numpy array instead.\n",
      "  arr = construct_1d_object_array_from_listlike(values)\n",
      "\n",
      "WARNING:py.warnings:c:\\Users\\mohamad\\anaconda3\\envs\\metal22\\lib\\site-packages\\pandas\\core\\dtypes\\cast.py:122: ShapelyDeprecationWarning: The array interface is deprecated and will no longer work in Shapely 2.0. Convert the '.coords' to a numpy array instead.\n",
      "  arr = construct_1d_object_array_from_listlike(values)\n",
      "\n",
      "WARNING:py.warnings:c:\\Users\\mohamad\\anaconda3\\envs\\metal22\\lib\\site-packages\\pandas\\core\\dtypes\\cast.py:122: ShapelyDeprecationWarning: The array interface is deprecated and will no longer work in Shapely 2.0. Convert the '.coords' to a numpy array instead.\n",
      "  arr = construct_1d_object_array_from_listlike(values)\n",
      "\n",
      "WARNING:py.warnings:c:\\Users\\mohamad\\anaconda3\\envs\\metal22\\lib\\site-packages\\pandas\\core\\dtypes\\cast.py:122: ShapelyDeprecationWarning: The array interface is deprecated and will no longer work in Shapely 2.0. Convert the '.coords' to a numpy array instead.\n",
      "  arr = construct_1d_object_array_from_listlike(values)\n",
      "\n"
     ]
    }
   ],
   "source": [
    "bus_01  = RouteStraight(design, \"Bus_01\", options= dict(hfss_wire_bonds = True,\n",
    "                                                        pin_inputs = Dict(\n",
    "                                                            start_pin=Dict(\n",
    "                                                                component='Q_0',\n",
    "                                                                pin='bus01'),\n",
    "                                                            end_pin=Dict(\n",
    "                                                                component='Q_1',\n",
    "                                                                pin='bus01')),\n",
    "                                                        trace_width = '10um',\n",
    "                                                        trace_gap = '6um'\n",
    "                                                       ))\n",
    "\n",
    "gui.rebuild()\n",
    "gui.autoscale()"
   ]
  },
  {
   "cell_type": "markdown",
   "id": "d36d7c19",
   "metadata": {},
   "source": [
    "We now add in two resonator busses, from Qubit 0 to Qubit 2, and Qubit 1 to Qubit 2. We will target frequencies of 5.8GHz and 6.2GHz respectively. First one can generate the resonator with RouteMeander using minimal options, and change the lead lengths, jogs and assymetry to have the resonator placed in a manner best fitting the desire overall layout"
   ]
  },
  {
   "cell_type": "code",
   "execution_count": 14,
   "id": "edb96561",
   "metadata": {},
   "outputs": [
    {
     "name": "stdout",
     "output_type": "stream",
     "text": [
      "\u001b[1;31mSignature:\u001b[0m \u001b[0mfind_resonator_length\u001b[0m\u001b[1;33m(\u001b[0m\u001b[0mfrequency\u001b[0m\u001b[1;33m,\u001b[0m \u001b[0mline_width\u001b[0m\u001b[1;33m,\u001b[0m \u001b[0mline_gap\u001b[0m\u001b[1;33m,\u001b[0m \u001b[0mN\u001b[0m\u001b[1;33m)\u001b[0m\u001b[1;33m\u001b[0m\u001b[1;33m\u001b[0m\u001b[0m\n",
      "\u001b[1;31mDocstring:\u001b[0m <no docstring>\n",
      "\u001b[1;31mFile:\u001b[0m      c:\\users\\mohamad\\appdata\\local\\temp\\ipykernel_3864\\3249232864.py\n",
      "\u001b[1;31mType:\u001b[0m      function\n"
     ]
    }
   ],
   "source": [
    "?find_resonator_length"
   ]
  },
  {
   "cell_type": "code",
   "execution_count": 15,
   "id": "1e2bf875",
   "metadata": {},
   "outputs": [
    {
     "data": {
      "text/plain": [
       "'9.644788880592413 mm'"
      ]
     },
     "execution_count": 15,
     "metadata": {},
     "output_type": "execute_result"
    }
   ],
   "source": [
    "find_resonator_length(6.2, 10, 6, 2)\n",
    "# I am getting error here\n",
    "# this will not give us the correct length because:\n",
    "# 1. when coupling it, the resonator will shift its frequency\n",
    "# 2. at the pin we have an addition segment of CPW\n",
    "# so in general this calculator is giving an uper limit"
   ]
  },
  {
   "cell_type": "code",
   "execution_count": 16,
   "id": "89b4d8af",
   "metadata": {},
   "outputs": [
    {
     "name": "stderr",
     "output_type": "stream",
     "text": [
      "WARNING:py.warnings:c:\\Users\\mohamad\\anaconda3\\envs\\metal22\\lib\\site-packages\\pandas\\core\\dtypes\\cast.py:122: ShapelyDeprecationWarning: The array interface is deprecated and will no longer work in Shapely 2.0. Convert the '.coords' to a numpy array instead.\n",
      "  arr = construct_1d_object_array_from_listlike(values)\n",
      "\n",
      "WARNING:py.warnings:c:\\Users\\mohamad\\anaconda3\\envs\\metal22\\lib\\site-packages\\pandas\\core\\dtypes\\cast.py:122: ShapelyDeprecationWarning: The array interface is deprecated and will no longer work in Shapely 2.0. Convert the '.coords' to a numpy array instead.\n",
      "  arr = construct_1d_object_array_from_listlike(values)\n",
      "\n",
      "12:08PM 19s WARNING [check_lengths]: For path table, component=Bus_12, key=trace has short segments that could cause issues with fillet. Values in (12-13)  are index(es) in shapely geometry.\n",
      "WARNING:py.warnings:c:\\Users\\mohamad\\anaconda3\\envs\\metal22\\lib\\site-packages\\pandas\\core\\dtypes\\cast.py:122: ShapelyDeprecationWarning: The array interface is deprecated and will no longer work in Shapely 2.0. Convert the '.coords' to a numpy array instead.\n",
      "  arr = construct_1d_object_array_from_listlike(values)\n",
      "\n",
      "12:08PM 19s WARNING [check_lengths]: For path table, component=Bus_12, key=cut has short segments that could cause issues with fillet. Values in (12-13)  are index(es) in shapely geometry.\n",
      "WARNING:py.warnings:c:\\Users\\mohamad\\anaconda3\\envs\\metal22\\lib\\site-packages\\pandas\\core\\dtypes\\cast.py:122: ShapelyDeprecationWarning: The array interface is deprecated and will no longer work in Shapely 2.0. Convert the '.coords' to a numpy array instead.\n",
      "  arr = construct_1d_object_array_from_listlike(values)\n",
      "\n",
      "WARNING:py.warnings:c:\\Users\\mohamad\\anaconda3\\envs\\metal22\\lib\\site-packages\\pandas\\core\\dtypes\\cast.py:122: ShapelyDeprecationWarning: The array interface is deprecated and will no longer work in Shapely 2.0. Convert the '.coords' to a numpy array instead.\n",
      "  arr = construct_1d_object_array_from_listlike(values)\n",
      "\n",
      "WARNING:py.warnings:c:\\Users\\mohamad\\anaconda3\\envs\\metal22\\lib\\site-packages\\pandas\\core\\dtypes\\cast.py:122: ShapelyDeprecationWarning: The array interface is deprecated and will no longer work in Shapely 2.0. Convert the '.coords' to a numpy array instead.\n",
      "  arr = construct_1d_object_array_from_listlike(values)\n",
      "\n",
      "WARNING:py.warnings:c:\\Users\\mohamad\\anaconda3\\envs\\metal22\\lib\\site-packages\\pandas\\core\\dtypes\\cast.py:122: ShapelyDeprecationWarning: The array interface is deprecated and will no longer work in Shapely 2.0. Convert the '.coords' to a numpy array instead.\n",
      "  arr = construct_1d_object_array_from_listlike(values)\n",
      "\n",
      "WARNING:py.warnings:c:\\Users\\mohamad\\anaconda3\\envs\\metal22\\lib\\site-packages\\pandas\\core\\dtypes\\cast.py:122: ShapelyDeprecationWarning: The array interface is deprecated and will no longer work in Shapely 2.0. Convert the '.coords' to a numpy array instead.\n",
      "  arr = construct_1d_object_array_from_listlike(values)\n",
      "\n",
      "WARNING:py.warnings:c:\\Users\\mohamad\\anaconda3\\envs\\metal22\\lib\\site-packages\\pandas\\core\\dtypes\\cast.py:122: ShapelyDeprecationWarning: The array interface is deprecated and will no longer work in Shapely 2.0. Convert the '.coords' to a numpy array instead.\n",
      "  arr = construct_1d_object_array_from_listlike(values)\n",
      "\n",
      "WARNING:py.warnings:c:\\Users\\mohamad\\anaconda3\\envs\\metal22\\lib\\site-packages\\pandas\\core\\dtypes\\cast.py:122: ShapelyDeprecationWarning: The array interface is deprecated and will no longer work in Shapely 2.0. Convert the '.coords' to a numpy array instead.\n",
      "  arr = construct_1d_object_array_from_listlike(values)\n",
      "\n",
      "WARNING:py.warnings:c:\\Users\\mohamad\\anaconda3\\envs\\metal22\\lib\\site-packages\\pandas\\core\\dtypes\\cast.py:122: ShapelyDeprecationWarning: The array interface is deprecated and will no longer work in Shapely 2.0. Convert the '.coords' to a numpy array instead.\n",
      "  arr = construct_1d_object_array_from_listlike(values)\n",
      "\n",
      "WARNING:py.warnings:c:\\Users\\mohamad\\anaconda3\\envs\\metal22\\lib\\site-packages\\pandas\\core\\dtypes\\cast.py:122: ShapelyDeprecationWarning: The array interface is deprecated and will no longer work in Shapely 2.0. Convert the '.coords' to a numpy array instead.\n",
      "  arr = construct_1d_object_array_from_listlike(values)\n",
      "\n",
      "WARNING:py.warnings:c:\\Users\\mohamad\\anaconda3\\envs\\metal22\\lib\\site-packages\\pandas\\core\\dtypes\\cast.py:122: ShapelyDeprecationWarning: The array interface is deprecated and will no longer work in Shapely 2.0. Convert the '.coords' to a numpy array instead.\n",
      "  arr = construct_1d_object_array_from_listlike(values)\n",
      "\n",
      "WARNING:py.warnings:c:\\Users\\mohamad\\anaconda3\\envs\\metal22\\lib\\site-packages\\pandas\\core\\dtypes\\cast.py:122: ShapelyDeprecationWarning: The array interface is deprecated and will no longer work in Shapely 2.0. Convert the '.coords' to a numpy array instead.\n",
      "  arr = construct_1d_object_array_from_listlike(values)\n",
      "\n",
      "WARNING:py.warnings:c:\\Users\\mohamad\\anaconda3\\envs\\metal22\\lib\\site-packages\\pandas\\core\\dtypes\\cast.py:122: ShapelyDeprecationWarning: The array interface is deprecated and will no longer work in Shapely 2.0. Convert the '.coords' to a numpy array instead.\n",
      "  arr = construct_1d_object_array_from_listlike(values)\n",
      "\n",
      "WARNING:py.warnings:c:\\Users\\mohamad\\anaconda3\\envs\\metal22\\lib\\site-packages\\pandas\\core\\dtypes\\cast.py:122: ShapelyDeprecationWarning: The array interface is deprecated and will no longer work in Shapely 2.0. Convert the '.coords' to a numpy array instead.\n",
      "  arr = construct_1d_object_array_from_listlike(values)\n",
      "\n",
      "WARNING:py.warnings:c:\\Users\\mohamad\\anaconda3\\envs\\metal22\\lib\\site-packages\\pandas\\core\\dtypes\\cast.py:122: ShapelyDeprecationWarning: The array interface is deprecated and will no longer work in Shapely 2.0. Convert the '.coords' to a numpy array instead.\n",
      "  arr = construct_1d_object_array_from_listlike(values)\n",
      "\n",
      "WARNING:py.warnings:c:\\Users\\mohamad\\anaconda3\\envs\\metal22\\lib\\site-packages\\pandas\\core\\dtypes\\cast.py:122: ShapelyDeprecationWarning: The array interface is deprecated and will no longer work in Shapely 2.0. Convert the '.coords' to a numpy array instead.\n",
      "  arr = construct_1d_object_array_from_listlike(values)\n",
      "\n",
      "WARNING:py.warnings:c:\\Users\\mohamad\\anaconda3\\envs\\metal22\\lib\\site-packages\\pandas\\core\\dtypes\\cast.py:122: ShapelyDeprecationWarning: The array interface is deprecated and will no longer work in Shapely 2.0. Convert the '.coords' to a numpy array instead.\n",
      "  arr = construct_1d_object_array_from_listlike(values)\n",
      "\n",
      "WARNING:py.warnings:c:\\Users\\mohamad\\anaconda3\\envs\\metal22\\lib\\site-packages\\pandas\\core\\dtypes\\cast.py:122: ShapelyDeprecationWarning: The array interface is deprecated and will no longer work in Shapely 2.0. Convert the '.coords' to a numpy array instead.\n",
      "  arr = construct_1d_object_array_from_listlike(values)\n",
      "\n",
      "WARNING:py.warnings:c:\\Users\\mohamad\\anaconda3\\envs\\metal22\\lib\\site-packages\\pandas\\core\\dtypes\\cast.py:122: ShapelyDeprecationWarning: The array interface is deprecated and will no longer work in Shapely 2.0. Convert the '.coords' to a numpy array instead.\n",
      "  arr = construct_1d_object_array_from_listlike(values)\n",
      "\n",
      "WARNING:py.warnings:c:\\Users\\mohamad\\anaconda3\\envs\\metal22\\lib\\site-packages\\pandas\\core\\dtypes\\cast.py:122: ShapelyDeprecationWarning: The array interface is deprecated and will no longer work in Shapely 2.0. Convert the '.coords' to a numpy array instead.\n",
      "  arr = construct_1d_object_array_from_listlike(values)\n",
      "\n",
      "WARNING:py.warnings:c:\\Users\\mohamad\\anaconda3\\envs\\metal22\\lib\\site-packages\\pandas\\core\\dtypes\\cast.py:122: ShapelyDeprecationWarning: The array interface is deprecated and will no longer work in Shapely 2.0. Convert the '.coords' to a numpy array instead.\n",
      "  arr = construct_1d_object_array_from_listlike(values)\n",
      "\n",
      "WARNING:py.warnings:c:\\Users\\mohamad\\anaconda3\\envs\\metal22\\lib\\site-packages\\pandas\\core\\dtypes\\cast.py:122: ShapelyDeprecationWarning: The array interface is deprecated and will no longer work in Shapely 2.0. Convert the '.coords' to a numpy array instead.\n",
      "  arr = construct_1d_object_array_from_listlike(values)\n",
      "\n",
      "WARNING:py.warnings:c:\\Users\\mohamad\\anaconda3\\envs\\metal22\\lib\\site-packages\\pandas\\core\\dtypes\\cast.py:122: ShapelyDeprecationWarning: The array interface is deprecated and will no longer work in Shapely 2.0. Convert the '.coords' to a numpy array instead.\n",
      "  arr = construct_1d_object_array_from_listlike(values)\n",
      "\n",
      "12:08PM 19s WARNING [check_lengths]: For path table, component=Bus_12, key=trace has short segments that could cause issues with fillet. Values in (12-13)  are index(es) in shapely geometry.\n",
      "WARNING:py.warnings:c:\\Users\\mohamad\\anaconda3\\envs\\metal22\\lib\\site-packages\\pandas\\core\\dtypes\\cast.py:122: ShapelyDeprecationWarning: The array interface is deprecated and will no longer work in Shapely 2.0. Convert the '.coords' to a numpy array instead.\n",
      "  arr = construct_1d_object_array_from_listlike(values)\n",
      "\n",
      "12:08PM 19s WARNING [check_lengths]: For path table, component=Bus_12, key=cut has short segments that could cause issues with fillet. Values in (12-13)  are index(es) in shapely geometry.\n",
      "WARNING:py.warnings:c:\\Users\\mohamad\\anaconda3\\envs\\metal22\\lib\\site-packages\\pandas\\core\\dtypes\\cast.py:122: ShapelyDeprecationWarning: The array interface is deprecated and will no longer work in Shapely 2.0. Convert the '.coords' to a numpy array instead.\n",
      "  arr = construct_1d_object_array_from_listlike(values)\n",
      "\n"
     ]
    }
   ],
   "source": [
    "bus_02 = RouteMeander(design, 'Bus_02', options= dict(hfss_wire_bonds = True,\n",
    "                                                        pin_inputs = Dict(\n",
    "                                                            start_pin=Dict(\n",
    "                                                                component='Q_0',\n",
    "                                                                pin='bus02'),\n",
    "                                                            end_pin=Dict(\n",
    "                                                                component='Q_2',\n",
    "                                                                pin='bus02')),\n",
    "                                                        lead=Dict(start_straight= '125um',\n",
    "                                                              end_straight= '125um'),\n",
    "                                                        meander = Dict(asymmetry = '50um'), # shift the meander right or left\n",
    "                                                        fillet = '99um',\n",
    "                                                        total_length = '10mm'))\n",
    "\n",
    "bus_12 = RouteMeander(design, 'Bus_12', options= dict(hfss_wire_bonds = True,\n",
    "                                                        pin_inputs = Dict(\n",
    "                                                            start_pin=Dict(\n",
    "                                                                component='Q_1',\n",
    "                                                                pin='bus12'),\n",
    "                                                            end_pin=Dict(\n",
    "                                                                component='Q_2',\n",
    "                                                                pin='bus12')),\n",
    "                                                        lead=Dict(start_straight= '125um',\n",
    "                                                                end_straight= '125um'),\n",
    "                                                        meander = Dict(asymmetry = '50um'),\n",
    "                                                        fillet = '99um',\n",
    "                                                        total_length = '9.7mm'))\n",
    "\n",
    "gui.rebuild()\n",
    "gui.autoscale()"
   ]
  },
  {
   "cell_type": "markdown",
   "id": "f16e5c1b",
   "metadata": {},
   "source": [
    "the problem with that is that we have an ugly design of the meander and we can see that in bus12 we have like a jump, and I will not sell a computer contaning a circuit like that. However this can be solfed by shifting the meander to the left or right, buttttttttt we will face the problem that we have large open spaces!!\n",
    "The solution for that is to make jogs"
   ]
  },
  {
   "cell_type": "code",
   "execution_count": 17,
   "id": "9ad18f33",
   "metadata": {},
   "outputs": [
    {
     "name": "stderr",
     "output_type": "stream",
     "text": [
      "WARNING:py.warnings:c:\\Users\\mohamad\\anaconda3\\envs\\metal22\\lib\\site-packages\\pandas\\core\\dtypes\\cast.py:122: ShapelyDeprecationWarning: The array interface is deprecated and will no longer work in Shapely 2.0. Convert the '.coords' to a numpy array instead.\n",
      "  arr = construct_1d_object_array_from_listlike(values)\n",
      "\n",
      "WARNING:py.warnings:c:\\Users\\mohamad\\anaconda3\\envs\\metal22\\lib\\site-packages\\pandas\\core\\dtypes\\cast.py:122: ShapelyDeprecationWarning: The array interface is deprecated and will no longer work in Shapely 2.0. Convert the '.coords' to a numpy array instead.\n",
      "  arr = construct_1d_object_array_from_listlike(values)\n",
      "\n",
      "WARNING:py.warnings:c:\\Users\\mohamad\\anaconda3\\envs\\metal22\\lib\\site-packages\\pandas\\core\\dtypes\\cast.py:122: ShapelyDeprecationWarning: The array interface is deprecated and will no longer work in Shapely 2.0. Convert the '.coords' to a numpy array instead.\n",
      "  arr = construct_1d_object_array_from_listlike(values)\n",
      "\n",
      "WARNING:py.warnings:c:\\Users\\mohamad\\anaconda3\\envs\\metal22\\lib\\site-packages\\pandas\\core\\dtypes\\cast.py:122: ShapelyDeprecationWarning: The array interface is deprecated and will no longer work in Shapely 2.0. Convert the '.coords' to a numpy array instead.\n",
      "  arr = construct_1d_object_array_from_listlike(values)\n",
      "\n",
      "WARNING:py.warnings:c:\\Users\\mohamad\\anaconda3\\envs\\metal22\\lib\\site-packages\\pandas\\core\\dtypes\\cast.py:122: ShapelyDeprecationWarning: The array interface is deprecated and will no longer work in Shapely 2.0. Convert the '.coords' to a numpy array instead.\n",
      "  arr = construct_1d_object_array_from_listlike(values)\n",
      "\n",
      "WARNING:py.warnings:c:\\Users\\mohamad\\anaconda3\\envs\\metal22\\lib\\site-packages\\pandas\\core\\dtypes\\cast.py:122: ShapelyDeprecationWarning: The array interface is deprecated and will no longer work in Shapely 2.0. Convert the '.coords' to a numpy array instead.\n",
      "  arr = construct_1d_object_array_from_listlike(values)\n",
      "\n",
      "WARNING:py.warnings:c:\\Users\\mohamad\\anaconda3\\envs\\metal22\\lib\\site-packages\\pandas\\core\\dtypes\\cast.py:122: ShapelyDeprecationWarning: The array interface is deprecated and will no longer work in Shapely 2.0. Convert the '.coords' to a numpy array instead.\n",
      "  arr = construct_1d_object_array_from_listlike(values)\n",
      "\n",
      "WARNING:py.warnings:c:\\Users\\mohamad\\anaconda3\\envs\\metal22\\lib\\site-packages\\pandas\\core\\dtypes\\cast.py:122: ShapelyDeprecationWarning: The array interface is deprecated and will no longer work in Shapely 2.0. Convert the '.coords' to a numpy array instead.\n",
      "  arr = construct_1d_object_array_from_listlike(values)\n",
      "\n",
      "WARNING:py.warnings:c:\\Users\\mohamad\\anaconda3\\envs\\metal22\\lib\\site-packages\\pandas\\core\\dtypes\\cast.py:122: ShapelyDeprecationWarning: The array interface is deprecated and will no longer work in Shapely 2.0. Convert the '.coords' to a numpy array instead.\n",
      "  arr = construct_1d_object_array_from_listlike(values)\n",
      "\n",
      "WARNING:py.warnings:c:\\Users\\mohamad\\anaconda3\\envs\\metal22\\lib\\site-packages\\pandas\\core\\dtypes\\cast.py:122: ShapelyDeprecationWarning: The array interface is deprecated and will no longer work in Shapely 2.0. Convert the '.coords' to a numpy array instead.\n",
      "  arr = construct_1d_object_array_from_listlike(values)\n",
      "\n",
      "WARNING:py.warnings:c:\\Users\\mohamad\\anaconda3\\envs\\metal22\\lib\\site-packages\\pandas\\core\\dtypes\\cast.py:122: ShapelyDeprecationWarning: The array interface is deprecated and will no longer work in Shapely 2.0. Convert the '.coords' to a numpy array instead.\n",
      "  arr = construct_1d_object_array_from_listlike(values)\n",
      "\n",
      "WARNING:py.warnings:c:\\Users\\mohamad\\anaconda3\\envs\\metal22\\lib\\site-packages\\pandas\\core\\dtypes\\cast.py:122: ShapelyDeprecationWarning: The array interface is deprecated and will no longer work in Shapely 2.0. Convert the '.coords' to a numpy array instead.\n",
      "  arr = construct_1d_object_array_from_listlike(values)\n",
      "\n",
      "WARNING:py.warnings:c:\\Users\\mohamad\\anaconda3\\envs\\metal22\\lib\\site-packages\\pandas\\core\\dtypes\\cast.py:122: ShapelyDeprecationWarning: The array interface is deprecated and will no longer work in Shapely 2.0. Convert the '.coords' to a numpy array instead.\n",
      "  arr = construct_1d_object_array_from_listlike(values)\n",
      "\n",
      "WARNING:py.warnings:c:\\Users\\mohamad\\anaconda3\\envs\\metal22\\lib\\site-packages\\pandas\\core\\dtypes\\cast.py:122: ShapelyDeprecationWarning: The array interface is deprecated and will no longer work in Shapely 2.0. Convert the '.coords' to a numpy array instead.\n",
      "  arr = construct_1d_object_array_from_listlike(values)\n",
      "\n",
      "WARNING:py.warnings:c:\\Users\\mohamad\\anaconda3\\envs\\metal22\\lib\\site-packages\\pandas\\core\\dtypes\\cast.py:122: ShapelyDeprecationWarning: The array interface is deprecated and will no longer work in Shapely 2.0. Convert the '.coords' to a numpy array instead.\n",
      "  arr = construct_1d_object_array_from_listlike(values)\n",
      "\n",
      "WARNING:py.warnings:c:\\Users\\mohamad\\anaconda3\\envs\\metal22\\lib\\site-packages\\pandas\\core\\dtypes\\cast.py:122: ShapelyDeprecationWarning: The array interface is deprecated and will no longer work in Shapely 2.0. Convert the '.coords' to a numpy array instead.\n",
      "  arr = construct_1d_object_array_from_listlike(values)\n",
      "\n",
      "WARNING:py.warnings:c:\\Users\\mohamad\\anaconda3\\envs\\metal22\\lib\\site-packages\\pandas\\core\\dtypes\\cast.py:122: ShapelyDeprecationWarning: The array interface is deprecated and will no longer work in Shapely 2.0. Convert the '.coords' to a numpy array instead.\n",
      "  arr = construct_1d_object_array_from_listlike(values)\n",
      "\n",
      "WARNING:py.warnings:c:\\Users\\mohamad\\anaconda3\\envs\\metal22\\lib\\site-packages\\pandas\\core\\dtypes\\cast.py:122: ShapelyDeprecationWarning: The array interface is deprecated and will no longer work in Shapely 2.0. Convert the '.coords' to a numpy array instead.\n",
      "  arr = construct_1d_object_array_from_listlike(values)\n",
      "\n",
      "WARNING:py.warnings:c:\\Users\\mohamad\\anaconda3\\envs\\metal22\\lib\\site-packages\\pandas\\core\\dtypes\\cast.py:122: ShapelyDeprecationWarning: The array interface is deprecated and will no longer work in Shapely 2.0. Convert the '.coords' to a numpy array instead.\n",
      "  arr = construct_1d_object_array_from_listlike(values)\n",
      "\n",
      "WARNING:py.warnings:c:\\Users\\mohamad\\anaconda3\\envs\\metal22\\lib\\site-packages\\pandas\\core\\dtypes\\cast.py:122: ShapelyDeprecationWarning: The array interface is deprecated and will no longer work in Shapely 2.0. Convert the '.coords' to a numpy array instead.\n",
      "  arr = construct_1d_object_array_from_listlike(values)\n",
      "\n",
      "WARNING:py.warnings:c:\\Users\\mohamad\\anaconda3\\envs\\metal22\\lib\\site-packages\\pandas\\core\\dtypes\\cast.py:122: ShapelyDeprecationWarning: The array interface is deprecated and will no longer work in Shapely 2.0. Convert the '.coords' to a numpy array instead.\n",
      "  arr = construct_1d_object_array_from_listlike(values)\n",
      "\n",
      "WARNING:py.warnings:c:\\Users\\mohamad\\anaconda3\\envs\\metal22\\lib\\site-packages\\pandas\\core\\dtypes\\cast.py:122: ShapelyDeprecationWarning: The array interface is deprecated and will no longer work in Shapely 2.0. Convert the '.coords' to a numpy array instead.\n",
      "  arr = construct_1d_object_array_from_listlike(values)\n",
      "\n",
      "WARNING:py.warnings:c:\\Users\\mohamad\\anaconda3\\envs\\metal22\\lib\\site-packages\\pandas\\core\\dtypes\\cast.py:122: ShapelyDeprecationWarning: The array interface is deprecated and will no longer work in Shapely 2.0. Convert the '.coords' to a numpy array instead.\n",
      "  arr = construct_1d_object_array_from_listlike(values)\n",
      "\n",
      "WARNING:py.warnings:c:\\Users\\mohamad\\anaconda3\\envs\\metal22\\lib\\site-packages\\pandas\\core\\dtypes\\cast.py:122: ShapelyDeprecationWarning: The array interface is deprecated and will no longer work in Shapely 2.0. Convert the '.coords' to a numpy array instead.\n",
      "  arr = construct_1d_object_array_from_listlike(values)\n",
      "\n",
      "WARNING:py.warnings:c:\\Users\\mohamad\\anaconda3\\envs\\metal22\\lib\\site-packages\\pandas\\core\\dtypes\\cast.py:122: ShapelyDeprecationWarning: The array interface is deprecated and will no longer work in Shapely 2.0. Convert the '.coords' to a numpy array instead.\n",
      "  arr = construct_1d_object_array_from_listlike(values)\n",
      "\n",
      "WARNING:py.warnings:c:\\Users\\mohamad\\anaconda3\\envs\\metal22\\lib\\site-packages\\pandas\\core\\dtypes\\cast.py:122: ShapelyDeprecationWarning: The array interface is deprecated and will no longer work in Shapely 2.0. Convert the '.coords' to a numpy array instead.\n",
      "  arr = construct_1d_object_array_from_listlike(values)\n",
      "\n",
      "WARNING:py.warnings:c:\\Users\\mohamad\\anaconda3\\envs\\metal22\\lib\\site-packages\\pandas\\core\\dtypes\\cast.py:122: ShapelyDeprecationWarning: The array interface is deprecated and will no longer work in Shapely 2.0. Convert the '.coords' to a numpy array instead.\n",
      "  arr = construct_1d_object_array_from_listlike(values)\n",
      "\n"
     ]
    }
   ],
   "source": [
    "from collections import OrderedDict\n",
    "jogs_start = OrderedDict()\n",
    "jogs_start[0] = ['L', '350um']\n",
    "jogs_start[1] = ['L', '550um']\n",
    "\n",
    "# jogs_end = OrderedDict()\n",
    "# jogs_end[0] = ['L', '600um']\n",
    "\n",
    "\n",
    "bus_02 = RouteMeander(design, 'Bus_02', options= dict(hfss_wire_bonds = True,\n",
    "                                                        pin_inputs = Dict(\n",
    "                                                            start_pin=Dict(\n",
    "                                                                component='Q_0',\n",
    "                                                                pin='bus02'),\n",
    "                                                            end_pin=Dict(\n",
    "                                                                component='Q_2',\n",
    "                                                                pin='bus02')\n",
    "                                                        ),\n",
    "                                                     lead=Dict(start_straight= '125um',\n",
    "                                                               end_straight= '225um',\n",
    "                                                               start_jogged_extension= jogs_start,\n",
    "                                                               # end_jogged_extension= jogs_end\n",
    "                                                              ),\n",
    "                                                     meander = Dict(asymmetry = '-50um'), # shift the meander right or left\n",
    "                                                     fillet = '99um',\n",
    "                                                     total_length = '10mm'))\n",
    "\n",
    "\n",
    "jogs_start = OrderedDict()\n",
    "jogs_start[0] = ['R', '350um']\n",
    "jogs_start[1] = ['R', '750um']\n",
    "\n",
    "\n",
    "bus_12 = RouteMeander(design, 'Bus_12', options= dict(hfss_wire_bonds = True,\n",
    "                                                        pin_inputs = Dict(\n",
    "                                                            start_pin=Dict(\n",
    "                                                                component='Q_1',\n",
    "                                                                pin='bus12'),\n",
    "                                                            end_pin=Dict(\n",
    "                                                                component='Q_2',\n",
    "                                                                pin='bus12')\n",
    "                                                        ),\n",
    "                                                     lead=Dict(start_straight= '325um',\n",
    "                                                               end_straight= '25um',\n",
    "                                                               start_jogged_extension= jogs_start,\n",
    "                                                              ),\n",
    "                                                     meander = Dict(asymmetry = '50um'), # shift the meander right or left\n",
    "                                                     fillet = '99um',\n",
    "                                                     total_length = '10mm'))\n",
    "\n",
    "gui.rebuild()\n",
    "gui.autoscale()"
   ]
  },
  {
   "cell_type": "markdown",
   "id": "d47a29a6",
   "metadata": {},
   "source": [
    "# Readouts and Control Lines"
   ]
  },
  {
   "cell_type": "markdown",
   "id": "74d0a325",
   "metadata": {},
   "source": [
    "with the qubits placed and connected to each other, we want to start placing the readout and control circuits on to the chip. For this design, we will have the two north transmons multiplexed to a readout line, with the transmon having its own direct readout. So we will need to add three launchpads for wirebonding, with one additional for the flux line of the crossmon"
   ]
  },
  {
   "cell_type": "code",
   "execution_count": 19,
   "id": "d660dbe0",
   "metadata": {},
   "outputs": [
    {
     "name": "stderr",
     "output_type": "stream",
     "text": [
      "WARNING:py.warnings:c:\\Users\\mohamad\\anaconda3\\envs\\metal22\\lib\\site-packages\\pandas\\core\\dtypes\\cast.py:122: ShapelyDeprecationWarning: The array interface is deprecated and will no longer work in Shapely 2.0. Convert the '.coords' to a numpy array instead.\n",
      "  arr = construct_1d_object_array_from_listlike(values)\n",
      "\n",
      "WARNING:py.warnings:c:\\Users\\mohamad\\anaconda3\\envs\\metal22\\lib\\site-packages\\pandas\\core\\dtypes\\cast.py:122: ShapelyDeprecationWarning: The array interface is deprecated and will no longer work in Shapely 2.0. Convert the '.coords' to a numpy array instead.\n",
      "  arr = construct_1d_object_array_from_listlike(values)\n",
      "\n",
      "WARNING:py.warnings:c:\\Users\\mohamad\\anaconda3\\envs\\metal22\\lib\\site-packages\\pandas\\core\\dtypes\\cast.py:122: ShapelyDeprecationWarning: The array interface is deprecated and will no longer work in Shapely 2.0. Convert the '.coords' to a numpy array instead.\n",
      "  arr = construct_1d_object_array_from_listlike(values)\n",
      "\n",
      "WARNING:py.warnings:c:\\Users\\mohamad\\anaconda3\\envs\\metal22\\lib\\site-packages\\pandas\\core\\dtypes\\cast.py:122: ShapelyDeprecationWarning: The array interface is deprecated and will no longer work in Shapely 2.0. Convert the '.coords' to a numpy array instead.\n",
      "  arr = construct_1d_object_array_from_listlike(values)\n",
      "\n",
      "WARNING:py.warnings:c:\\Users\\mohamad\\anaconda3\\envs\\metal22\\lib\\site-packages\\pandas\\core\\dtypes\\cast.py:122: ShapelyDeprecationWarning: The array interface is deprecated and will no longer work in Shapely 2.0. Convert the '.coords' to a numpy array instead.\n",
      "  arr = construct_1d_object_array_from_listlike(values)\n",
      "\n",
      "WARNING:py.warnings:c:\\Users\\mohamad\\anaconda3\\envs\\metal22\\lib\\site-packages\\pandas\\core\\dtypes\\cast.py:122: ShapelyDeprecationWarning: The array interface is deprecated and will no longer work in Shapely 2.0. Convert the '.coords' to a numpy array instead.\n",
      "  arr = construct_1d_object_array_from_listlike(values)\n",
      "\n",
      "WARNING:py.warnings:c:\\Users\\mohamad\\anaconda3\\envs\\metal22\\lib\\site-packages\\pandas\\core\\dtypes\\cast.py:122: ShapelyDeprecationWarning: The array interface is deprecated and will no longer work in Shapely 2.0. Convert the '.coords' to a numpy array instead.\n",
      "  arr = construct_1d_object_array_from_listlike(values)\n",
      "\n",
      "WARNING:py.warnings:c:\\Users\\mohamad\\anaconda3\\envs\\metal22\\lib\\site-packages\\pandas\\core\\dtypes\\cast.py:122: ShapelyDeprecationWarning: The array interface is deprecated and will no longer work in Shapely 2.0. Convert the '.coords' to a numpy array instead.\n",
      "  arr = construct_1d_object_array_from_listlike(values)\n",
      "\n",
      "WARNING:py.warnings:c:\\Users\\mohamad\\anaconda3\\envs\\metal22\\lib\\site-packages\\pandas\\core\\dtypes\\cast.py:122: ShapelyDeprecationWarning: The array interface is deprecated and will no longer work in Shapely 2.0. Convert the '.coords' to a numpy array instead.\n",
      "  arr = construct_1d_object_array_from_listlike(values)\n",
      "\n",
      "WARNING:py.warnings:c:\\Users\\mohamad\\anaconda3\\envs\\metal22\\lib\\site-packages\\pandas\\core\\dtypes\\cast.py:122: ShapelyDeprecationWarning: The array interface is deprecated and will no longer work in Shapely 2.0. Convert the '.coords' to a numpy array instead.\n",
      "  arr = construct_1d_object_array_from_listlike(values)\n",
      "\n",
      "WARNING:py.warnings:c:\\Users\\mohamad\\anaconda3\\envs\\metal22\\lib\\site-packages\\pandas\\core\\dtypes\\cast.py:122: ShapelyDeprecationWarning: The array interface is deprecated and will no longer work in Shapely 2.0. Convert the '.coords' to a numpy array instead.\n",
      "  arr = construct_1d_object_array_from_listlike(values)\n",
      "\n",
      "WARNING:py.warnings:c:\\Users\\mohamad\\anaconda3\\envs\\metal22\\lib\\site-packages\\pandas\\core\\dtypes\\cast.py:122: ShapelyDeprecationWarning: The array interface is deprecated and will no longer work in Shapely 2.0. Convert the '.coords' to a numpy array instead.\n",
      "  arr = construct_1d_object_array_from_listlike(values)\n",
      "\n",
      "WARNING:py.warnings:c:\\Users\\mohamad\\anaconda3\\envs\\metal22\\lib\\site-packages\\pandas\\core\\dtypes\\cast.py:122: ShapelyDeprecationWarning: The array interface is deprecated and will no longer work in Shapely 2.0. Convert the '.coords' to a numpy array instead.\n",
      "  arr = construct_1d_object_array_from_listlike(values)\n",
      "\n",
      "WARNING:py.warnings:c:\\Users\\mohamad\\anaconda3\\envs\\metal22\\lib\\site-packages\\pandas\\core\\dtypes\\cast.py:122: ShapelyDeprecationWarning: The array interface is deprecated and will no longer work in Shapely 2.0. Convert the '.coords' to a numpy array instead.\n",
      "  arr = construct_1d_object_array_from_listlike(values)\n",
      "\n",
      "WARNING:py.warnings:c:\\Users\\mohamad\\anaconda3\\envs\\metal22\\lib\\site-packages\\pandas\\core\\dtypes\\cast.py:122: ShapelyDeprecationWarning: The array interface is deprecated and will no longer work in Shapely 2.0. Convert the '.coords' to a numpy array instead.\n",
      "  arr = construct_1d_object_array_from_listlike(values)\n",
      "\n",
      "WARNING:py.warnings:c:\\Users\\mohamad\\anaconda3\\envs\\metal22\\lib\\site-packages\\pandas\\core\\dtypes\\cast.py:122: ShapelyDeprecationWarning: The array interface is deprecated and will no longer work in Shapely 2.0. Convert the '.coords' to a numpy array instead.\n",
      "  arr = construct_1d_object_array_from_listlike(values)\n",
      "\n",
      "WARNING:py.warnings:c:\\Users\\mohamad\\anaconda3\\envs\\metal22\\lib\\site-packages\\pandas\\core\\dtypes\\cast.py:122: ShapelyDeprecationWarning: The array interface is deprecated and will no longer work in Shapely 2.0. Convert the '.coords' to a numpy array instead.\n",
      "  arr = construct_1d_object_array_from_listlike(values)\n",
      "\n",
      "WARNING:py.warnings:c:\\Users\\mohamad\\anaconda3\\envs\\metal22\\lib\\site-packages\\pandas\\core\\dtypes\\cast.py:122: ShapelyDeprecationWarning: The array interface is deprecated and will no longer work in Shapely 2.0. Convert the '.coords' to a numpy array instead.\n",
      "  arr = construct_1d_object_array_from_listlike(values)\n",
      "\n",
      "WARNING:py.warnings:c:\\Users\\mohamad\\anaconda3\\envs\\metal22\\lib\\site-packages\\pandas\\core\\dtypes\\cast.py:122: ShapelyDeprecationWarning: The array interface is deprecated and will no longer work in Shapely 2.0. Convert the '.coords' to a numpy array instead.\n",
      "  arr = construct_1d_object_array_from_listlike(values)\n",
      "\n",
      "WARNING:py.warnings:c:\\Users\\mohamad\\anaconda3\\envs\\metal22\\lib\\site-packages\\pandas\\core\\dtypes\\cast.py:122: ShapelyDeprecationWarning: The array interface is deprecated and will no longer work in Shapely 2.0. Convert the '.coords' to a numpy array instead.\n",
      "  arr = construct_1d_object_array_from_listlike(values)\n",
      "\n",
      "WARNING:py.warnings:c:\\Users\\mohamad\\anaconda3\\envs\\metal22\\lib\\site-packages\\pandas\\core\\dtypes\\cast.py:122: ShapelyDeprecationWarning: The array interface is deprecated and will no longer work in Shapely 2.0. Convert the '.coords' to a numpy array instead.\n",
      "  arr = construct_1d_object_array_from_listlike(values)\n",
      "\n",
      "WARNING:py.warnings:c:\\Users\\mohamad\\anaconda3\\envs\\metal22\\lib\\site-packages\\pandas\\core\\dtypes\\cast.py:122: ShapelyDeprecationWarning: The array interface is deprecated and will no longer work in Shapely 2.0. Convert the '.coords' to a numpy array instead.\n",
      "  arr = construct_1d_object_array_from_listlike(values)\n",
      "\n",
      "WARNING:py.warnings:c:\\Users\\mohamad\\anaconda3\\envs\\metal22\\lib\\site-packages\\pandas\\core\\dtypes\\cast.py:122: ShapelyDeprecationWarning: The array interface is deprecated and will no longer work in Shapely 2.0. Convert the '.coords' to a numpy array instead.\n",
      "  arr = construct_1d_object_array_from_listlike(values)\n",
      "\n"
     ]
    }
   ],
   "source": [
    "launch_readout_q_0 = LaunchpadWirebond(design, \"Launch_Readout_Q_0\",\n",
    "                                       options= dict(pos_x= '-2mm',\n",
    "                                                     pos_y= '2.5mm',\n",
    "                                                     orientation= '-90'))\n",
    "\n",
    "launch_readout_q_1 = LaunchpadWirebond(design, \"Launch_Readout_Q_1\",\n",
    "                                       options= dict(pos_x= '2mm',\n",
    "                                                     pos_y= '2.5mm',\n",
    "                                                     orientation= '-90'))\n",
    "\n",
    "launch_readout_q_2 = LaunchpadWirebond(design, \"Launch_Readout_Q_2\",\n",
    "                                       options= dict(pos_x= '-2mm',\n",
    "                                                     pos_y= '-2.5mm',\n",
    "                                                     orientation= '90'))\n",
    "\n",
    "launch_fl_q_2 = LaunchpadWirebond(design, \"Launch_FL_Q_2\",\n",
    "                                  options= dict(pos_x= '2mm',\n",
    "                                                pos_y= '-2.5mm',\n",
    "                                                orientation= '90',\n",
    "                                                trace_width= '5um',\n",
    "                                                trace_gap= '3um'))\n",
    "\n",
    "gui.rebuild()\n",
    "gui.autoscale()"
   ]
  },
  {
   "cell_type": "markdown",
   "id": "b86202ce",
   "metadata": {},
   "source": [
    "The readout line for the crossmon will nead a capacitor before the readout pad, and the two transmon pockets will require some form of coupling to the readout transmission line, for which we will use the CPWFingerCap. We will aim to have a Q_external of 2000 for the readout resonators, though for the time being we will generatr them with the default options and later hit the desire coupling strength via simulations."
   ]
  },
  {
   "cell_type": "code",
   "execution_count": 20,
   "id": "bb5464cf",
   "metadata": {},
   "outputs": [
    {
     "name": "stderr",
     "output_type": "stream",
     "text": [
      "WARNING:py.warnings:c:\\Users\\mohamad\\anaconda3\\envs\\metal22\\lib\\site-packages\\pandas\\core\\dtypes\\cast.py:122: ShapelyDeprecationWarning: The array interface is deprecated and will no longer work in Shapely 2.0. Convert the '.coords' to a numpy array instead.\n",
      "  arr = construct_1d_object_array_from_listlike(values)\n",
      "\n",
      "WARNING:py.warnings:c:\\Users\\mohamad\\anaconda3\\envs\\metal22\\lib\\site-packages\\pandas\\core\\dtypes\\cast.py:122: ShapelyDeprecationWarning: The array interface is deprecated and will no longer work in Shapely 2.0. Convert the '.coords' to a numpy array instead.\n",
      "  arr = construct_1d_object_array_from_listlike(values)\n",
      "\n",
      "WARNING:py.warnings:c:\\Users\\mohamad\\anaconda3\\envs\\metal22\\lib\\site-packages\\pandas\\core\\dtypes\\cast.py:122: ShapelyDeprecationWarning: The array interface is deprecated and will no longer work in Shapely 2.0. Convert the '.coords' to a numpy array instead.\n",
      "  arr = construct_1d_object_array_from_listlike(values)\n",
      "\n",
      "WARNING:py.warnings:c:\\Users\\mohamad\\anaconda3\\envs\\metal22\\lib\\site-packages\\pandas\\core\\dtypes\\cast.py:122: ShapelyDeprecationWarning: The array interface is deprecated and will no longer work in Shapely 2.0. Convert the '.coords' to a numpy array instead.\n",
      "  arr = construct_1d_object_array_from_listlike(values)\n",
      "\n",
      "WARNING:py.warnings:c:\\Users\\mohamad\\anaconda3\\envs\\metal22\\lib\\site-packages\\pandas\\core\\dtypes\\cast.py:122: ShapelyDeprecationWarning: The array interface is deprecated and will no longer work in Shapely 2.0. Convert the '.coords' to a numpy array instead.\n",
      "  arr = construct_1d_object_array_from_listlike(values)\n",
      "\n",
      "WARNING:py.warnings:c:\\Users\\mohamad\\anaconda3\\envs\\metal22\\lib\\site-packages\\pandas\\core\\dtypes\\cast.py:122: ShapelyDeprecationWarning: The array interface is deprecated and will no longer work in Shapely 2.0. Convert the '.coords' to a numpy array instead.\n",
      "  arr = construct_1d_object_array_from_listlike(values)\n",
      "\n",
      "WARNING:py.warnings:c:\\Users\\mohamad\\anaconda3\\envs\\metal22\\lib\\site-packages\\pandas\\core\\dtypes\\cast.py:122: ShapelyDeprecationWarning: The array interface is deprecated and will no longer work in Shapely 2.0. Convert the '.coords' to a numpy array instead.\n",
      "  arr = construct_1d_object_array_from_listlike(values)\n",
      "\n",
      "WARNING:py.warnings:c:\\Users\\mohamad\\anaconda3\\envs\\metal22\\lib\\site-packages\\pandas\\core\\dtypes\\cast.py:122: ShapelyDeprecationWarning: The array interface is deprecated and will no longer work in Shapely 2.0. Convert the '.coords' to a numpy array instead.\n",
      "  arr = construct_1d_object_array_from_listlike(values)\n",
      "\n",
      "WARNING:py.warnings:c:\\Users\\mohamad\\anaconda3\\envs\\metal22\\lib\\site-packages\\pandas\\core\\dtypes\\cast.py:122: ShapelyDeprecationWarning: The array interface is deprecated and will no longer work in Shapely 2.0. Convert the '.coords' to a numpy array instead.\n",
      "  arr = construct_1d_object_array_from_listlike(values)\n",
      "\n",
      "WARNING:py.warnings:c:\\Users\\mohamad\\anaconda3\\envs\\metal22\\lib\\site-packages\\pandas\\core\\dtypes\\cast.py:122: ShapelyDeprecationWarning: The array interface is deprecated and will no longer work in Shapely 2.0. Convert the '.coords' to a numpy array instead.\n",
      "  arr = construct_1d_object_array_from_listlike(values)\n",
      "\n",
      "WARNING:py.warnings:c:\\Users\\mohamad\\anaconda3\\envs\\metal22\\lib\\site-packages\\pandas\\core\\dtypes\\cast.py:122: ShapelyDeprecationWarning: The array interface is deprecated and will no longer work in Shapely 2.0. Convert the '.coords' to a numpy array instead.\n",
      "  arr = construct_1d_object_array_from_listlike(values)\n",
      "\n",
      "WARNING:py.warnings:c:\\Users\\mohamad\\anaconda3\\envs\\metal22\\lib\\site-packages\\pandas\\core\\dtypes\\cast.py:122: ShapelyDeprecationWarning: The array interface is deprecated and will no longer work in Shapely 2.0. Convert the '.coords' to a numpy array instead.\n",
      "  arr = construct_1d_object_array_from_listlike(values)\n",
      "\n",
      "WARNING:py.warnings:c:\\Users\\mohamad\\anaconda3\\envs\\metal22\\lib\\site-packages\\pandas\\core\\dtypes\\cast.py:122: ShapelyDeprecationWarning: The array interface is deprecated and will no longer work in Shapely 2.0. Convert the '.coords' to a numpy array instead.\n",
      "  arr = construct_1d_object_array_from_listlike(values)\n",
      "\n",
      "WARNING:py.warnings:c:\\Users\\mohamad\\anaconda3\\envs\\metal22\\lib\\site-packages\\pandas\\core\\dtypes\\cast.py:122: ShapelyDeprecationWarning: The array interface is deprecated and will no longer work in Shapely 2.0. Convert the '.coords' to a numpy array instead.\n",
      "  arr = construct_1d_object_array_from_listlike(values)\n",
      "\n",
      "WARNING:py.warnings:c:\\Users\\mohamad\\anaconda3\\envs\\metal22\\lib\\site-packages\\pandas\\core\\dtypes\\cast.py:122: ShapelyDeprecationWarning: The array interface is deprecated and will no longer work in Shapely 2.0. Convert the '.coords' to a numpy array instead.\n",
      "  arr = construct_1d_object_array_from_listlike(values)\n",
      "\n",
      "WARNING:py.warnings:c:\\Users\\mohamad\\anaconda3\\envs\\metal22\\lib\\site-packages\\pandas\\core\\dtypes\\cast.py:122: ShapelyDeprecationWarning: The array interface is deprecated and will no longer work in Shapely 2.0. Convert the '.coords' to a numpy array instead.\n",
      "  arr = construct_1d_object_array_from_listlike(values)\n",
      "\n",
      "WARNING:py.warnings:c:\\Users\\mohamad\\anaconda3\\envs\\metal22\\lib\\site-packages\\pandas\\core\\dtypes\\cast.py:122: ShapelyDeprecationWarning: The array interface is deprecated and will no longer work in Shapely 2.0. Convert the '.coords' to a numpy array instead.\n",
      "  arr = construct_1d_object_array_from_listlike(values)\n",
      "\n",
      "WARNING:py.warnings:c:\\Users\\mohamad\\anaconda3\\envs\\metal22\\lib\\site-packages\\pandas\\core\\dtypes\\cast.py:122: ShapelyDeprecationWarning: The array interface is deprecated and will no longer work in Shapely 2.0. Convert the '.coords' to a numpy array instead.\n",
      "  arr = construct_1d_object_array_from_listlike(values)\n",
      "\n",
      "WARNING:py.warnings:c:\\Users\\mohamad\\anaconda3\\envs\\metal22\\lib\\site-packages\\pandas\\core\\dtypes\\cast.py:122: ShapelyDeprecationWarning: The array interface is deprecated and will no longer work in Shapely 2.0. Convert the '.coords' to a numpy array instead.\n",
      "  arr = construct_1d_object_array_from_listlike(values)\n",
      "\n",
      "WARNING:py.warnings:c:\\Users\\mohamad\\anaconda3\\envs\\metal22\\lib\\site-packages\\pandas\\core\\dtypes\\cast.py:122: ShapelyDeprecationWarning: The array interface is deprecated and will no longer work in Shapely 2.0. Convert the '.coords' to a numpy array instead.\n",
      "  arr = construct_1d_object_array_from_listlike(values)\n",
      "\n",
      "WARNING:py.warnings:c:\\Users\\mohamad\\anaconda3\\envs\\metal22\\lib\\site-packages\\pandas\\core\\dtypes\\cast.py:122: ShapelyDeprecationWarning: The array interface is deprecated and will no longer work in Shapely 2.0. Convert the '.coords' to a numpy array instead.\n",
      "  arr = construct_1d_object_array_from_listlike(values)\n",
      "\n",
      "WARNING:py.warnings:c:\\Users\\mohamad\\anaconda3\\envs\\metal22\\lib\\site-packages\\pandas\\core\\dtypes\\cast.py:122: ShapelyDeprecationWarning: The array interface is deprecated and will no longer work in Shapely 2.0. Convert the '.coords' to a numpy array instead.\n",
      "  arr = construct_1d_object_array_from_listlike(values)\n",
      "\n",
      "WARNING:py.warnings:c:\\Users\\mohamad\\anaconda3\\envs\\metal22\\lib\\site-packages\\pandas\\core\\dtypes\\cast.py:122: ShapelyDeprecationWarning: The array interface is deprecated and will no longer work in Shapely 2.0. Convert the '.coords' to a numpy array instead.\n",
      "  arr = construct_1d_object_array_from_listlike(values)\n",
      "\n",
      "WARNING:py.warnings:c:\\Users\\mohamad\\anaconda3\\envs\\metal22\\lib\\site-packages\\pandas\\core\\dtypes\\cast.py:122: ShapelyDeprecationWarning: The array interface is deprecated and will no longer work in Shapely 2.0. Convert the '.coords' to a numpy array instead.\n",
      "  arr = construct_1d_object_array_from_listlike(values)\n",
      "\n",
      "WARNING:py.warnings:c:\\Users\\mohamad\\anaconda3\\envs\\metal22\\lib\\site-packages\\pandas\\core\\dtypes\\cast.py:122: ShapelyDeprecationWarning: The array interface is deprecated and will no longer work in Shapely 2.0. Convert the '.coords' to a numpy array instead.\n",
      "  arr = construct_1d_object_array_from_listlike(values)\n",
      "\n",
      "WARNING:py.warnings:c:\\Users\\mohamad\\anaconda3\\envs\\metal22\\lib\\site-packages\\pandas\\core\\dtypes\\cast.py:122: ShapelyDeprecationWarning: The array interface is deprecated and will no longer work in Shapely 2.0. Convert the '.coords' to a numpy array instead.\n",
      "  arr = construct_1d_object_array_from_listlike(values)\n",
      "\n",
      "WARNING:py.warnings:c:\\Users\\mohamad\\anaconda3\\envs\\metal22\\lib\\site-packages\\pandas\\core\\dtypes\\cast.py:122: ShapelyDeprecationWarning: The array interface is deprecated and will no longer work in Shapely 2.0. Convert the '.coords' to a numpy array instead.\n",
      "  arr = construct_1d_object_array_from_listlike(values)\n",
      "\n",
      "WARNING:py.warnings:c:\\Users\\mohamad\\anaconda3\\envs\\metal22\\lib\\site-packages\\pandas\\core\\dtypes\\cast.py:122: ShapelyDeprecationWarning: The array interface is deprecated and will no longer work in Shapely 2.0. Convert the '.coords' to a numpy array instead.\n",
      "  arr = construct_1d_object_array_from_listlike(values)\n",
      "\n",
      "WARNING:py.warnings:c:\\Users\\mohamad\\anaconda3\\envs\\metal22\\lib\\site-packages\\pandas\\core\\dtypes\\cast.py:122: ShapelyDeprecationWarning: The array interface is deprecated and will no longer work in Shapely 2.0. Convert the '.coords' to a numpy array instead.\n",
      "  arr = construct_1d_object_array_from_listlike(values)\n",
      "\n",
      "WARNING:py.warnings:c:\\Users\\mohamad\\anaconda3\\envs\\metal22\\lib\\site-packages\\pandas\\core\\dtypes\\cast.py:122: ShapelyDeprecationWarning: The array interface is deprecated and will no longer work in Shapely 2.0. Convert the '.coords' to a numpy array instead.\n",
      "  arr = construct_1d_object_array_from_listlike(values)\n",
      "\n",
      "WARNING:py.warnings:c:\\Users\\mohamad\\anaconda3\\envs\\metal22\\lib\\site-packages\\pandas\\core\\dtypes\\cast.py:122: ShapelyDeprecationWarning: The array interface is deprecated and will no longer work in Shapely 2.0. Convert the '.coords' to a numpy array instead.\n",
      "  arr = construct_1d_object_array_from_listlike(values)\n",
      "\n",
      "WARNING:py.warnings:c:\\Users\\mohamad\\anaconda3\\envs\\metal22\\lib\\site-packages\\pandas\\core\\dtypes\\cast.py:122: ShapelyDeprecationWarning: The array interface is deprecated and will no longer work in Shapely 2.0. Convert the '.coords' to a numpy array instead.\n",
      "  arr = construct_1d_object_array_from_listlike(values)\n",
      "\n",
      "WARNING:py.warnings:c:\\Users\\mohamad\\anaconda3\\envs\\metal22\\lib\\site-packages\\pandas\\core\\dtypes\\cast.py:122: ShapelyDeprecationWarning: The array interface is deprecated and will no longer work in Shapely 2.0. Convert the '.coords' to a numpy array instead.\n",
      "  arr = construct_1d_object_array_from_listlike(values)\n",
      "\n",
      "WARNING:py.warnings:c:\\Users\\mohamad\\anaconda3\\envs\\metal22\\lib\\site-packages\\pandas\\core\\dtypes\\cast.py:122: ShapelyDeprecationWarning: The array interface is deprecated and will no longer work in Shapely 2.0. Convert the '.coords' to a numpy array instead.\n",
      "  arr = construct_1d_object_array_from_listlike(values)\n",
      "\n",
      "WARNING:py.warnings:c:\\Users\\mohamad\\anaconda3\\envs\\metal22\\lib\\site-packages\\pandas\\core\\dtypes\\cast.py:122: ShapelyDeprecationWarning: The array interface is deprecated and will no longer work in Shapely 2.0. Convert the '.coords' to a numpy array instead.\n",
      "  arr = construct_1d_object_array_from_listlike(values)\n",
      "\n",
      "WARNING:py.warnings:c:\\Users\\mohamad\\anaconda3\\envs\\metal22\\lib\\site-packages\\pandas\\core\\dtypes\\cast.py:122: ShapelyDeprecationWarning: The array interface is deprecated and will no longer work in Shapely 2.0. Convert the '.coords' to a numpy array instead.\n",
      "  arr = construct_1d_object_array_from_listlike(values)\n",
      "\n",
      "WARNING:py.warnings:c:\\Users\\mohamad\\anaconda3\\envs\\metal22\\lib\\site-packages\\pandas\\core\\dtypes\\cast.py:122: ShapelyDeprecationWarning: The array interface is deprecated and will no longer work in Shapely 2.0. Convert the '.coords' to a numpy array instead.\n",
      "  arr = construct_1d_object_array_from_listlike(values)\n",
      "\n",
      "WARNING:py.warnings:c:\\Users\\mohamad\\anaconda3\\envs\\metal22\\lib\\site-packages\\pandas\\core\\dtypes\\cast.py:122: ShapelyDeprecationWarning: The array interface is deprecated and will no longer work in Shapely 2.0. Convert the '.coords' to a numpy array instead.\n",
      "  arr = construct_1d_object_array_from_listlike(values)\n",
      "\n",
      "WARNING:py.warnings:c:\\Users\\mohamad\\anaconda3\\envs\\metal22\\lib\\site-packages\\pandas\\core\\dtypes\\cast.py:122: ShapelyDeprecationWarning: The array interface is deprecated and will no longer work in Shapely 2.0. Convert the '.coords' to a numpy array instead.\n",
      "  arr = construct_1d_object_array_from_listlike(values)\n",
      "\n",
      "WARNING:py.warnings:c:\\Users\\mohamad\\anaconda3\\envs\\metal22\\lib\\site-packages\\pandas\\core\\dtypes\\cast.py:122: ShapelyDeprecationWarning: The array interface is deprecated and will no longer work in Shapely 2.0. Convert the '.coords' to a numpy array instead.\n",
      "  arr = construct_1d_object_array_from_listlike(values)\n",
      "\n",
      "WARNING:py.warnings:c:\\Users\\mohamad\\anaconda3\\envs\\metal22\\lib\\site-packages\\pandas\\core\\dtypes\\cast.py:122: ShapelyDeprecationWarning: The array interface is deprecated and will no longer work in Shapely 2.0. Convert the '.coords' to a numpy array instead.\n",
      "  arr = construct_1d_object_array_from_listlike(values)\n",
      "\n",
      "WARNING:py.warnings:c:\\Users\\mohamad\\anaconda3\\envs\\metal22\\lib\\site-packages\\pandas\\core\\dtypes\\cast.py:122: ShapelyDeprecationWarning: The array interface is deprecated and will no longer work in Shapely 2.0. Convert the '.coords' to a numpy array instead.\n",
      "  arr = construct_1d_object_array_from_listlike(values)\n",
      "\n",
      "WARNING:py.warnings:c:\\Users\\mohamad\\anaconda3\\envs\\metal22\\lib\\site-packages\\pandas\\core\\dtypes\\cast.py:122: ShapelyDeprecationWarning: The array interface is deprecated and will no longer work in Shapely 2.0. Convert the '.coords' to a numpy array instead.\n",
      "  arr = construct_1d_object_array_from_listlike(values)\n",
      "\n",
      "WARNING:py.warnings:c:\\Users\\mohamad\\anaconda3\\envs\\metal22\\lib\\site-packages\\pandas\\core\\dtypes\\cast.py:122: ShapelyDeprecationWarning: The array interface is deprecated and will no longer work in Shapely 2.0. Convert the '.coords' to a numpy array instead.\n",
      "  arr = construct_1d_object_array_from_listlike(values)\n",
      "\n",
      "WARNING:py.warnings:c:\\Users\\mohamad\\anaconda3\\envs\\metal22\\lib\\site-packages\\pandas\\core\\dtypes\\cast.py:122: ShapelyDeprecationWarning: The array interface is deprecated and will no longer work in Shapely 2.0. Convert the '.coords' to a numpy array instead.\n",
      "  arr = construct_1d_object_array_from_listlike(values)\n",
      "\n",
      "WARNING:py.warnings:c:\\Users\\mohamad\\anaconda3\\envs\\metal22\\lib\\site-packages\\pandas\\core\\dtypes\\cast.py:122: ShapelyDeprecationWarning: The array interface is deprecated and will no longer work in Shapely 2.0. Convert the '.coords' to a numpy array instead.\n",
      "  arr = construct_1d_object_array_from_listlike(values)\n",
      "\n",
      "WARNING:py.warnings:c:\\Users\\mohamad\\anaconda3\\envs\\metal22\\lib\\site-packages\\pandas\\core\\dtypes\\cast.py:122: ShapelyDeprecationWarning: The array interface is deprecated and will no longer work in Shapely 2.0. Convert the '.coords' to a numpy array instead.\n",
      "  arr = construct_1d_object_array_from_listlike(values)\n",
      "\n"
     ]
    }
   ],
   "source": [
    "cap_readout_q_2 = CapNInterdigital(design, \"Cap_Readout_Q_2\",\n",
    "                                    options= dict(pos_x= '-2mm',\n",
    "                                                pos_y= '-2.25mm',\n",
    "                                                orientation= '0'))\n",
    "\n",
    "cap_readout_q_0 = CapNInterdigitalTee(design, \"Cap_Readout_Q_0\",\n",
    "                                    options= dict(pos_x= '-1.5mm',\n",
    "                                                pos_y= '2.25mm',\n",
    "                                                orientation= '0'))\n",
    "\n",
    "cap_readout_q_1 = CapNInterdigitalTee(design, \"Cap_Readout_Q_1\",\n",
    "                                    options= dict(pos_x= '1.5mm',\n",
    "                                                pos_y= '2.25mm',\n",
    "                                                orientation= '0'))\n",
    "\n",
    "gui.rebuild()\n",
    "gui.autoscale()"
   ]
  },
  {
   "cell_type": "markdown",
   "id": "0109356d",
   "metadata": {},
   "source": [
    "Now, we need some resonators for the readout by adding meandered lines between the qubits and their respective capacitors we just added. We will aim for readout frequencies of 6.8, 7, 7.2 GHz respectively. We can look at the GUI to make sure we are referencing the correct pins for the pin_inputs options"
   ]
  },
  {
   "cell_type": "code",
   "execution_count": 21,
   "id": "4e5b0803",
   "metadata": {},
   "outputs": [
    {
     "data": {
      "text/plain": [
       "'8.305234863383255 mm'"
      ]
     },
     "execution_count": 21,
     "metadata": {},
     "output_type": "execute_result"
    }
   ],
   "source": [
    "find_resonator_length(7.2, 10, 6, 2)"
   ]
  },
  {
   "cell_type": "code",
   "execution_count": 24,
   "id": "b0c00d07",
   "metadata": {},
   "outputs": [
    {
     "name": "stderr",
     "output_type": "stream",
     "text": [
      "WARNING:py.warnings:c:\\Users\\mohamad\\anaconda3\\envs\\metal22\\lib\\site-packages\\pandas\\core\\dtypes\\cast.py:122: ShapelyDeprecationWarning: The array interface is deprecated and will no longer work in Shapely 2.0. Convert the '.coords' to a numpy array instead.\n",
      "  arr = construct_1d_object_array_from_listlike(values)\n",
      "\n",
      "WARNING:py.warnings:c:\\Users\\mohamad\\anaconda3\\envs\\metal22\\lib\\site-packages\\pandas\\core\\dtypes\\cast.py:122: ShapelyDeprecationWarning: The array interface is deprecated and will no longer work in Shapely 2.0. Convert the '.coords' to a numpy array instead.\n",
      "  arr = construct_1d_object_array_from_listlike(values)\n",
      "\n",
      "WARNING:py.warnings:c:\\Users\\mohamad\\anaconda3\\envs\\metal22\\lib\\site-packages\\pandas\\core\\dtypes\\cast.py:122: ShapelyDeprecationWarning: The array interface is deprecated and will no longer work in Shapely 2.0. Convert the '.coords' to a numpy array instead.\n",
      "  arr = construct_1d_object_array_from_listlike(values)\n",
      "\n",
      "WARNING:py.warnings:c:\\Users\\mohamad\\anaconda3\\envs\\metal22\\lib\\site-packages\\pandas\\core\\dtypes\\cast.py:122: ShapelyDeprecationWarning: The array interface is deprecated and will no longer work in Shapely 2.0. Convert the '.coords' to a numpy array instead.\n",
      "  arr = construct_1d_object_array_from_listlike(values)\n",
      "\n",
      "WARNING:py.warnings:c:\\Users\\mohamad\\anaconda3\\envs\\metal22\\lib\\site-packages\\pandas\\core\\dtypes\\cast.py:122: ShapelyDeprecationWarning: The array interface is deprecated and will no longer work in Shapely 2.0. Convert the '.coords' to a numpy array instead.\n",
      "  arr = construct_1d_object_array_from_listlike(values)\n",
      "\n",
      "WARNING:py.warnings:c:\\Users\\mohamad\\anaconda3\\envs\\metal22\\lib\\site-packages\\pandas\\core\\dtypes\\cast.py:122: ShapelyDeprecationWarning: The array interface is deprecated and will no longer work in Shapely 2.0. Convert the '.coords' to a numpy array instead.\n",
      "  arr = construct_1d_object_array_from_listlike(values)\n",
      "\n",
      "WARNING:py.warnings:c:\\Users\\mohamad\\anaconda3\\envs\\metal22\\lib\\site-packages\\pandas\\core\\dtypes\\cast.py:122: ShapelyDeprecationWarning: The array interface is deprecated and will no longer work in Shapely 2.0. Convert the '.coords' to a numpy array instead.\n",
      "  arr = construct_1d_object_array_from_listlike(values)\n",
      "\n",
      "WARNING:py.warnings:c:\\Users\\mohamad\\anaconda3\\envs\\metal22\\lib\\site-packages\\pandas\\core\\dtypes\\cast.py:122: ShapelyDeprecationWarning: The array interface is deprecated and will no longer work in Shapely 2.0. Convert the '.coords' to a numpy array instead.\n",
      "  arr = construct_1d_object_array_from_listlike(values)\n",
      "\n",
      "WARNING:py.warnings:c:\\Users\\mohamad\\anaconda3\\envs\\metal22\\lib\\site-packages\\pandas\\core\\dtypes\\cast.py:122: ShapelyDeprecationWarning: The array interface is deprecated and will no longer work in Shapely 2.0. Convert the '.coords' to a numpy array instead.\n",
      "  arr = construct_1d_object_array_from_listlike(values)\n",
      "\n",
      "WARNING:py.warnings:c:\\Users\\mohamad\\anaconda3\\envs\\metal22\\lib\\site-packages\\pandas\\core\\dtypes\\cast.py:122: ShapelyDeprecationWarning: The array interface is deprecated and will no longer work in Shapely 2.0. Convert the '.coords' to a numpy array instead.\n",
      "  arr = construct_1d_object_array_from_listlike(values)\n",
      "\n",
      "WARNING:py.warnings:c:\\Users\\mohamad\\anaconda3\\envs\\metal22\\lib\\site-packages\\pandas\\core\\dtypes\\cast.py:122: ShapelyDeprecationWarning: The array interface is deprecated and will no longer work in Shapely 2.0. Convert the '.coords' to a numpy array instead.\n",
      "  arr = construct_1d_object_array_from_listlike(values)\n",
      "\n",
      "WARNING:py.warnings:c:\\Users\\mohamad\\anaconda3\\envs\\metal22\\lib\\site-packages\\pandas\\core\\dtypes\\cast.py:122: ShapelyDeprecationWarning: The array interface is deprecated and will no longer work in Shapely 2.0. Convert the '.coords' to a numpy array instead.\n",
      "  arr = construct_1d_object_array_from_listlike(values)\n",
      "\n",
      "WARNING:py.warnings:c:\\Users\\mohamad\\anaconda3\\envs\\metal22\\lib\\site-packages\\pandas\\core\\dtypes\\cast.py:122: ShapelyDeprecationWarning: The array interface is deprecated and will no longer work in Shapely 2.0. Convert the '.coords' to a numpy array instead.\n",
      "  arr = construct_1d_object_array_from_listlike(values)\n",
      "\n",
      "WARNING:py.warnings:c:\\Users\\mohamad\\anaconda3\\envs\\metal22\\lib\\site-packages\\pandas\\core\\dtypes\\cast.py:122: ShapelyDeprecationWarning: The array interface is deprecated and will no longer work in Shapely 2.0. Convert the '.coords' to a numpy array instead.\n",
      "  arr = construct_1d_object_array_from_listlike(values)\n",
      "\n",
      "WARNING:py.warnings:c:\\Users\\mohamad\\anaconda3\\envs\\metal22\\lib\\site-packages\\pandas\\core\\dtypes\\cast.py:122: ShapelyDeprecationWarning: The array interface is deprecated and will no longer work in Shapely 2.0. Convert the '.coords' to a numpy array instead.\n",
      "  arr = construct_1d_object_array_from_listlike(values)\n",
      "\n",
      "WARNING:py.warnings:c:\\Users\\mohamad\\anaconda3\\envs\\metal22\\lib\\site-packages\\pandas\\core\\dtypes\\cast.py:122: ShapelyDeprecationWarning: The array interface is deprecated and will no longer work in Shapely 2.0. Convert the '.coords' to a numpy array instead.\n",
      "  arr = construct_1d_object_array_from_listlike(values)\n",
      "\n",
      "WARNING:py.warnings:c:\\Users\\mohamad\\anaconda3\\envs\\metal22\\lib\\site-packages\\pandas\\core\\dtypes\\cast.py:122: ShapelyDeprecationWarning: The array interface is deprecated and will no longer work in Shapely 2.0. Convert the '.coords' to a numpy array instead.\n",
      "  arr = construct_1d_object_array_from_listlike(values)\n",
      "\n",
      "WARNING:py.warnings:c:\\Users\\mohamad\\anaconda3\\envs\\metal22\\lib\\site-packages\\pandas\\core\\dtypes\\cast.py:122: ShapelyDeprecationWarning: The array interface is deprecated and will no longer work in Shapely 2.0. Convert the '.coords' to a numpy array instead.\n",
      "  arr = construct_1d_object_array_from_listlike(values)\n",
      "\n",
      "WARNING:py.warnings:c:\\Users\\mohamad\\anaconda3\\envs\\metal22\\lib\\site-packages\\pandas\\core\\dtypes\\cast.py:122: ShapelyDeprecationWarning: The array interface is deprecated and will no longer work in Shapely 2.0. Convert the '.coords' to a numpy array instead.\n",
      "  arr = construct_1d_object_array_from_listlike(values)\n",
      "\n",
      "WARNING:py.warnings:c:\\Users\\mohamad\\anaconda3\\envs\\metal22\\lib\\site-packages\\pandas\\core\\dtypes\\cast.py:122: ShapelyDeprecationWarning: The array interface is deprecated and will no longer work in Shapely 2.0. Convert the '.coords' to a numpy array instead.\n",
      "  arr = construct_1d_object_array_from_listlike(values)\n",
      "\n",
      "WARNING:py.warnings:c:\\Users\\mohamad\\anaconda3\\envs\\metal22\\lib\\site-packages\\pandas\\core\\dtypes\\cast.py:122: ShapelyDeprecationWarning: The array interface is deprecated and will no longer work in Shapely 2.0. Convert the '.coords' to a numpy array instead.\n",
      "  arr = construct_1d_object_array_from_listlike(values)\n",
      "\n",
      "WARNING:py.warnings:c:\\Users\\mohamad\\anaconda3\\envs\\metal22\\lib\\site-packages\\pandas\\core\\dtypes\\cast.py:122: ShapelyDeprecationWarning: The array interface is deprecated and will no longer work in Shapely 2.0. Convert the '.coords' to a numpy array instead.\n",
      "  arr = construct_1d_object_array_from_listlike(values)\n",
      "\n",
      "WARNING:py.warnings:c:\\Users\\mohamad\\anaconda3\\envs\\metal22\\lib\\site-packages\\pandas\\core\\dtypes\\cast.py:122: ShapelyDeprecationWarning: The array interface is deprecated and will no longer work in Shapely 2.0. Convert the '.coords' to a numpy array instead.\n",
      "  arr = construct_1d_object_array_from_listlike(values)\n",
      "\n",
      "WARNING:py.warnings:c:\\Users\\mohamad\\anaconda3\\envs\\metal22\\lib\\site-packages\\pandas\\core\\dtypes\\cast.py:122: ShapelyDeprecationWarning: The array interface is deprecated and will no longer work in Shapely 2.0. Convert the '.coords' to a numpy array instead.\n",
      "  arr = construct_1d_object_array_from_listlike(values)\n",
      "\n",
      "WARNING:py.warnings:c:\\Users\\mohamad\\anaconda3\\envs\\metal22\\lib\\site-packages\\pandas\\core\\dtypes\\cast.py:122: ShapelyDeprecationWarning: The array interface is deprecated and will no longer work in Shapely 2.0. Convert the '.coords' to a numpy array instead.\n",
      "  arr = construct_1d_object_array_from_listlike(values)\n",
      "\n",
      "WARNING:py.warnings:c:\\Users\\mohamad\\anaconda3\\envs\\metal22\\lib\\site-packages\\pandas\\core\\dtypes\\cast.py:122: ShapelyDeprecationWarning: The array interface is deprecated and will no longer work in Shapely 2.0. Convert the '.coords' to a numpy array instead.\n",
      "  arr = construct_1d_object_array_from_listlike(values)\n",
      "\n",
      "WARNING:py.warnings:c:\\Users\\mohamad\\anaconda3\\envs\\metal22\\lib\\site-packages\\pandas\\core\\dtypes\\cast.py:122: ShapelyDeprecationWarning: The array interface is deprecated and will no longer work in Shapely 2.0. Convert the '.coords' to a numpy array instead.\n",
      "  arr = construct_1d_object_array_from_listlike(values)\n",
      "\n",
      "WARNING:py.warnings:c:\\Users\\mohamad\\anaconda3\\envs\\metal22\\lib\\site-packages\\pandas\\core\\dtypes\\cast.py:122: ShapelyDeprecationWarning: The array interface is deprecated and will no longer work in Shapely 2.0. Convert the '.coords' to a numpy array instead.\n",
      "  arr = construct_1d_object_array_from_listlike(values)\n",
      "\n",
      "WARNING:py.warnings:c:\\Users\\mohamad\\anaconda3\\envs\\metal22\\lib\\site-packages\\pandas\\core\\dtypes\\cast.py:122: ShapelyDeprecationWarning: The array interface is deprecated and will no longer work in Shapely 2.0. Convert the '.coords' to a numpy array instead.\n",
      "  arr = construct_1d_object_array_from_listlike(values)\n",
      "\n",
      "WARNING:py.warnings:c:\\Users\\mohamad\\anaconda3\\envs\\metal22\\lib\\site-packages\\pandas\\core\\dtypes\\cast.py:122: ShapelyDeprecationWarning: The array interface is deprecated and will no longer work in Shapely 2.0. Convert the '.coords' to a numpy array instead.\n",
      "  arr = construct_1d_object_array_from_listlike(values)\n",
      "\n",
      "WARNING:py.warnings:c:\\Users\\mohamad\\anaconda3\\envs\\metal22\\lib\\site-packages\\pandas\\core\\dtypes\\cast.py:122: ShapelyDeprecationWarning: The array interface is deprecated and will no longer work in Shapely 2.0. Convert the '.coords' to a numpy array instead.\n",
      "  arr = construct_1d_object_array_from_listlike(values)\n",
      "\n",
      "WARNING:py.warnings:c:\\Users\\mohamad\\anaconda3\\envs\\metal22\\lib\\site-packages\\pandas\\core\\dtypes\\cast.py:122: ShapelyDeprecationWarning: The array interface is deprecated and will no longer work in Shapely 2.0. Convert the '.coords' to a numpy array instead.\n",
      "  arr = construct_1d_object_array_from_listlike(values)\n",
      "\n",
      "WARNING:py.warnings:c:\\Users\\mohamad\\anaconda3\\envs\\metal22\\lib\\site-packages\\pandas\\core\\dtypes\\cast.py:122: ShapelyDeprecationWarning: The array interface is deprecated and will no longer work in Shapely 2.0. Convert the '.coords' to a numpy array instead.\n",
      "  arr = construct_1d_object_array_from_listlike(values)\n",
      "\n",
      "WARNING:py.warnings:c:\\Users\\mohamad\\anaconda3\\envs\\metal22\\lib\\site-packages\\pandas\\core\\dtypes\\cast.py:122: ShapelyDeprecationWarning: The array interface is deprecated and will no longer work in Shapely 2.0. Convert the '.coords' to a numpy array instead.\n",
      "  arr = construct_1d_object_array_from_listlike(values)\n",
      "\n",
      "WARNING:py.warnings:c:\\Users\\mohamad\\anaconda3\\envs\\metal22\\lib\\site-packages\\pandas\\core\\dtypes\\cast.py:122: ShapelyDeprecationWarning: The array interface is deprecated and will no longer work in Shapely 2.0. Convert the '.coords' to a numpy array instead.\n",
      "  arr = construct_1d_object_array_from_listlike(values)\n",
      "\n",
      "WARNING:py.warnings:c:\\Users\\mohamad\\anaconda3\\envs\\metal22\\lib\\site-packages\\pandas\\core\\dtypes\\cast.py:122: ShapelyDeprecationWarning: The array interface is deprecated and will no longer work in Shapely 2.0. Convert the '.coords' to a numpy array instead.\n",
      "  arr = construct_1d_object_array_from_listlike(values)\n",
      "\n",
      "WARNING:py.warnings:c:\\Users\\mohamad\\anaconda3\\envs\\metal22\\lib\\site-packages\\pandas\\core\\dtypes\\cast.py:122: ShapelyDeprecationWarning: The array interface is deprecated and will no longer work in Shapely 2.0. Convert the '.coords' to a numpy array instead.\n",
      "  arr = construct_1d_object_array_from_listlike(values)\n",
      "\n",
      "WARNING:py.warnings:c:\\Users\\mohamad\\anaconda3\\envs\\metal22\\lib\\site-packages\\pandas\\core\\dtypes\\cast.py:122: ShapelyDeprecationWarning: The array interface is deprecated and will no longer work in Shapely 2.0. Convert the '.coords' to a numpy array instead.\n",
      "  arr = construct_1d_object_array_from_listlike(values)\n",
      "\n",
      "WARNING:py.warnings:c:\\Users\\mohamad\\anaconda3\\envs\\metal22\\lib\\site-packages\\pandas\\core\\dtypes\\cast.py:122: ShapelyDeprecationWarning: The array interface is deprecated and will no longer work in Shapely 2.0. Convert the '.coords' to a numpy array instead.\n",
      "  arr = construct_1d_object_array_from_listlike(values)\n",
      "\n",
      "WARNING:py.warnings:c:\\Users\\mohamad\\anaconda3\\envs\\metal22\\lib\\site-packages\\pandas\\core\\dtypes\\cast.py:122: ShapelyDeprecationWarning: The array interface is deprecated and will no longer work in Shapely 2.0. Convert the '.coords' to a numpy array instead.\n",
      "  arr = construct_1d_object_array_from_listlike(values)\n",
      "\n",
      "WARNING:py.warnings:c:\\Users\\mohamad\\anaconda3\\envs\\metal22\\lib\\site-packages\\pandas\\core\\dtypes\\cast.py:122: ShapelyDeprecationWarning: The array interface is deprecated and will no longer work in Shapely 2.0. Convert the '.coords' to a numpy array instead.\n",
      "  arr = construct_1d_object_array_from_listlike(values)\n",
      "\n",
      "WARNING:py.warnings:c:\\Users\\mohamad\\anaconda3\\envs\\metal22\\lib\\site-packages\\pandas\\core\\dtypes\\cast.py:122: ShapelyDeprecationWarning: The array interface is deprecated and will no longer work in Shapely 2.0. Convert the '.coords' to a numpy array instead.\n",
      "  arr = construct_1d_object_array_from_listlike(values)\n",
      "\n",
      "WARNING:py.warnings:c:\\Users\\mohamad\\anaconda3\\envs\\metal22\\lib\\site-packages\\pandas\\core\\dtypes\\cast.py:122: ShapelyDeprecationWarning: The array interface is deprecated and will no longer work in Shapely 2.0. Convert the '.coords' to a numpy array instead.\n",
      "  arr = construct_1d_object_array_from_listlike(values)\n",
      "\n",
      "WARNING:py.warnings:c:\\Users\\mohamad\\anaconda3\\envs\\metal22\\lib\\site-packages\\pandas\\core\\dtypes\\cast.py:122: ShapelyDeprecationWarning: The array interface is deprecated and will no longer work in Shapely 2.0. Convert the '.coords' to a numpy array instead.\n",
      "  arr = construct_1d_object_array_from_listlike(values)\n",
      "\n",
      "WARNING:py.warnings:c:\\Users\\mohamad\\anaconda3\\envs\\metal22\\lib\\site-packages\\pandas\\core\\dtypes\\cast.py:122: ShapelyDeprecationWarning: The array interface is deprecated and will no longer work in Shapely 2.0. Convert the '.coords' to a numpy array instead.\n",
      "  arr = construct_1d_object_array_from_listlike(values)\n",
      "\n",
      "WARNING:py.warnings:c:\\Users\\mohamad\\anaconda3\\envs\\metal22\\lib\\site-packages\\pandas\\core\\dtypes\\cast.py:122: ShapelyDeprecationWarning: The array interface is deprecated and will no longer work in Shapely 2.0. Convert the '.coords' to a numpy array instead.\n",
      "  arr = construct_1d_object_array_from_listlike(values)\n",
      "\n",
      "WARNING:py.warnings:c:\\Users\\mohamad\\anaconda3\\envs\\metal22\\lib\\site-packages\\pandas\\core\\dtypes\\cast.py:122: ShapelyDeprecationWarning: The array interface is deprecated and will no longer work in Shapely 2.0. Convert the '.coords' to a numpy array instead.\n",
      "  arr = construct_1d_object_array_from_listlike(values)\n",
      "\n",
      "WARNING:py.warnings:c:\\Users\\mohamad\\anaconda3\\envs\\metal22\\lib\\site-packages\\pandas\\core\\dtypes\\cast.py:122: ShapelyDeprecationWarning: The array interface is deprecated and will no longer work in Shapely 2.0. Convert the '.coords' to a numpy array instead.\n",
      "  arr = construct_1d_object_array_from_listlike(values)\n",
      "\n",
      "WARNING:py.warnings:c:\\Users\\mohamad\\anaconda3\\envs\\metal22\\lib\\site-packages\\pandas\\core\\dtypes\\cast.py:122: ShapelyDeprecationWarning: The array interface is deprecated and will no longer work in Shapely 2.0. Convert the '.coords' to a numpy array instead.\n",
      "  arr = construct_1d_object_array_from_listlike(values)\n",
      "\n",
      "WARNING:py.warnings:c:\\Users\\mohamad\\anaconda3\\envs\\metal22\\lib\\site-packages\\pandas\\core\\dtypes\\cast.py:122: ShapelyDeprecationWarning: The array interface is deprecated and will no longer work in Shapely 2.0. Convert the '.coords' to a numpy array instead.\n",
      "  arr = construct_1d_object_array_from_listlike(values)\n",
      "\n",
      "WARNING:py.warnings:c:\\Users\\mohamad\\anaconda3\\envs\\metal22\\lib\\site-packages\\pandas\\core\\dtypes\\cast.py:122: ShapelyDeprecationWarning: The array interface is deprecated and will no longer work in Shapely 2.0. Convert the '.coords' to a numpy array instead.\n",
      "  arr = construct_1d_object_array_from_listlike(values)\n",
      "\n",
      "WARNING:py.warnings:c:\\Users\\mohamad\\anaconda3\\envs\\metal22\\lib\\site-packages\\pandas\\core\\dtypes\\cast.py:122: ShapelyDeprecationWarning: The array interface is deprecated and will no longer work in Shapely 2.0. Convert the '.coords' to a numpy array instead.\n",
      "  arr = construct_1d_object_array_from_listlike(values)\n",
      "\n",
      "WARNING:py.warnings:c:\\Users\\mohamad\\anaconda3\\envs\\metal22\\lib\\site-packages\\pandas\\core\\dtypes\\cast.py:122: ShapelyDeprecationWarning: The array interface is deprecated and will no longer work in Shapely 2.0. Convert the '.coords' to a numpy array instead.\n",
      "  arr = construct_1d_object_array_from_listlike(values)\n",
      "\n",
      "WARNING:py.warnings:c:\\Users\\mohamad\\anaconda3\\envs\\metal22\\lib\\site-packages\\pandas\\core\\dtypes\\cast.py:122: ShapelyDeprecationWarning: The array interface is deprecated and will no longer work in Shapely 2.0. Convert the '.coords' to a numpy array instead.\n",
      "  arr = construct_1d_object_array_from_listlike(values)\n",
      "\n",
      "WARNING:py.warnings:c:\\Users\\mohamad\\anaconda3\\envs\\metal22\\lib\\site-packages\\pandas\\core\\dtypes\\cast.py:122: ShapelyDeprecationWarning: The array interface is deprecated and will no longer work in Shapely 2.0. Convert the '.coords' to a numpy array instead.\n",
      "  arr = construct_1d_object_array_from_listlike(values)\n",
      "\n",
      "WARNING:py.warnings:c:\\Users\\mohamad\\anaconda3\\envs\\metal22\\lib\\site-packages\\pandas\\core\\dtypes\\cast.py:122: ShapelyDeprecationWarning: The array interface is deprecated and will no longer work in Shapely 2.0. Convert the '.coords' to a numpy array instead.\n",
      "  arr = construct_1d_object_array_from_listlike(values)\n",
      "\n",
      "WARNING:py.warnings:c:\\Users\\mohamad\\anaconda3\\envs\\metal22\\lib\\site-packages\\pandas\\core\\dtypes\\cast.py:122: ShapelyDeprecationWarning: The array interface is deprecated and will no longer work in Shapely 2.0. Convert the '.coords' to a numpy array instead.\n",
      "  arr = construct_1d_object_array_from_listlike(values)\n",
      "\n"
     ]
    }
   ],
   "source": [
    "jog_start = OrderedDict()\n",
    "jogs_start[0] = ['L', '350um']\n",
    "# jogs_start[1] = ['L', '700um']\n",
    "\n",
    "\n",
    "\n",
    "readout_0 = RouteMeander(design, 'Readout_0', options= dict(hfss_wire_bonds = True,\n",
    "                                                        pin_inputs = Dict(\n",
    "                                                            start_pin=Dict(\n",
    "                                                                component='Q_0',\n",
    "                                                                pin='readout'),\n",
    "                                                            end_pin=Dict(\n",
    "                                                                component='Cap_Readout_Q_0',\n",
    "                                                                pin='second_end')\n",
    "                                                        ),\n",
    "                                                        lead=Dict(start_straight= '125um',\n",
    "                                                               end_straight= '25um',\n",
    "                                                               start_jogged_extension= jogs_start,\n",
    "                                                               # end_jogged_extension= jogs_end\n",
    "                                                              ),\n",
    "                                                        meander = Dict(asymmetry = '50um'), # shift the meander right or left\n",
    "                                                        fillet = '99um',\n",
    "                                                        total_length = '8.8mm'))\n",
    "\n",
    "\n",
    "jogs_start = OrderedDict()\n",
    "jogs_start[0] = ['R', '350um']\n",
    "\n",
    "readout_1 = RouteMeander(design, 'Readout_1', options= dict(hfss_wire_bonds = True,\n",
    "                                                        pin_inputs = Dict(\n",
    "                                                            start_pin=Dict(\n",
    "                                                                component='Q_1',\n",
    "                                                                pin='readout'),\n",
    "                                                            end_pin=Dict(\n",
    "                                                                component='Cap_Readout_Q_1',\n",
    "                                                                pin='second_end')\n",
    "                                                        ),\n",
    "                                                        lead=Dict(start_straight= '125um',\n",
    "                                                               end_straight= '25um',\n",
    "                                                               start_jogged_extension= jogs_start\n",
    "                                                              ),\n",
    "                                                        meander = Dict(asymmetry = '50um'), # shift the meander right or left\n",
    "                                                        fillet = '99um',\n",
    "                                                        total_length = '8.5mm'))\n",
    "\n",
    "\n",
    "readout_2 = RouteMeander(design, 'Readout_2', options= dict(hfss_wire_bonds = True,\n",
    "                                                        pin_inputs = Dict(\n",
    "                                                            start_pin=Dict(\n",
    "                                                                component='Q_2',\n",
    "                                                                pin='readout'),\n",
    "                                                            end_pin=Dict(\n",
    "                                                                component='Cap_Readout_Q_2',\n",
    "                                                                pin='north_end')\n",
    "                                                        ),\n",
    "                                                        lead=Dict(start_straight= '125um',\n",
    "                                                               end_straight= '25um'\n",
    "                                                              ),\n",
    "                                                        meander = Dict(asymmetry = '150um'), # shift the meander right or left\n",
    "                                                        fillet = '99um',\n",
    "                                                        total_length = '8.3mm'))\n",
    "\n",
    "\n",
    "gui.rebuild()\n",
    "gui.autoscale()"
   ]
  },
  {
   "cell_type": "markdown",
   "id": "d6706461",
   "metadata": {},
   "source": [
    "The flux line for the crossmon, and the remaining sections of CPW transmission line are all that remain to be added"
   ]
  },
  {
   "cell_type": "code",
   "execution_count": 23,
   "id": "6d0eaa47",
   "metadata": {},
   "outputs": [
    {
     "name": "stderr",
     "output_type": "stream",
     "text": [
      "WARNING:py.warnings:c:\\Users\\mohamad\\anaconda3\\envs\\metal22\\lib\\site-packages\\pandas\\core\\dtypes\\cast.py:122: ShapelyDeprecationWarning: The array interface is deprecated and will no longer work in Shapely 2.0. Convert the '.coords' to a numpy array instead.\n",
      "  arr = construct_1d_object_array_from_listlike(values)\n",
      "\n",
      "WARNING:py.warnings:c:\\Users\\mohamad\\anaconda3\\envs\\metal22\\lib\\site-packages\\pandas\\core\\dtypes\\cast.py:122: ShapelyDeprecationWarning: The array interface is deprecated and will no longer work in Shapely 2.0. Convert the '.coords' to a numpy array instead.\n",
      "  arr = construct_1d_object_array_from_listlike(values)\n",
      "\n",
      "WARNING:py.warnings:c:\\Users\\mohamad\\anaconda3\\envs\\metal22\\lib\\site-packages\\pandas\\core\\dtypes\\cast.py:122: ShapelyDeprecationWarning: The array interface is deprecated and will no longer work in Shapely 2.0. Convert the '.coords' to a numpy array instead.\n",
      "  arr = construct_1d_object_array_from_listlike(values)\n",
      "\n",
      "WARNING:py.warnings:c:\\Users\\mohamad\\anaconda3\\envs\\metal22\\lib\\site-packages\\pandas\\core\\dtypes\\cast.py:122: ShapelyDeprecationWarning: The array interface is deprecated and will no longer work in Shapely 2.0. Convert the '.coords' to a numpy array instead.\n",
      "  arr = construct_1d_object_array_from_listlike(values)\n",
      "\n",
      "WARNING:py.warnings:c:\\Users\\mohamad\\anaconda3\\envs\\metal22\\lib\\site-packages\\pandas\\core\\dtypes\\cast.py:122: ShapelyDeprecationWarning: The array interface is deprecated and will no longer work in Shapely 2.0. Convert the '.coords' to a numpy array instead.\n",
      "  arr = construct_1d_object_array_from_listlike(values)\n",
      "\n",
      "WARNING:py.warnings:c:\\Users\\mohamad\\anaconda3\\envs\\metal22\\lib\\site-packages\\pandas\\core\\dtypes\\cast.py:122: ShapelyDeprecationWarning: The array interface is deprecated and will no longer work in Shapely 2.0. Convert the '.coords' to a numpy array instead.\n",
      "  arr = construct_1d_object_array_from_listlike(values)\n",
      "\n",
      "WARNING:py.warnings:c:\\Users\\mohamad\\anaconda3\\envs\\metal22\\lib\\site-packages\\pandas\\core\\dtypes\\cast.py:122: ShapelyDeprecationWarning: The array interface is deprecated and will no longer work in Shapely 2.0. Convert the '.coords' to a numpy array instead.\n",
      "  arr = construct_1d_object_array_from_listlike(values)\n",
      "\n",
      "WARNING:py.warnings:c:\\Users\\mohamad\\anaconda3\\envs\\metal22\\lib\\site-packages\\pandas\\core\\dtypes\\cast.py:122: ShapelyDeprecationWarning: The array interface is deprecated and will no longer work in Shapely 2.0. Convert the '.coords' to a numpy array instead.\n",
      "  arr = construct_1d_object_array_from_listlike(values)\n",
      "\n",
      "WARNING:py.warnings:c:\\Users\\mohamad\\anaconda3\\envs\\metal22\\lib\\site-packages\\pandas\\core\\dtypes\\cast.py:122: ShapelyDeprecationWarning: The array interface is deprecated and will no longer work in Shapely 2.0. Convert the '.coords' to a numpy array instead.\n",
      "  arr = construct_1d_object_array_from_listlike(values)\n",
      "\n",
      "WARNING:py.warnings:c:\\Users\\mohamad\\anaconda3\\envs\\metal22\\lib\\site-packages\\pandas\\core\\dtypes\\cast.py:122: ShapelyDeprecationWarning: The array interface is deprecated and will no longer work in Shapely 2.0. Convert the '.coords' to a numpy array instead.\n",
      "  arr = construct_1d_object_array_from_listlike(values)\n",
      "\n",
      "WARNING:py.warnings:c:\\Users\\mohamad\\anaconda3\\envs\\metal22\\lib\\site-packages\\pandas\\core\\dtypes\\cast.py:122: ShapelyDeprecationWarning: The array interface is deprecated and will no longer work in Shapely 2.0. Convert the '.coords' to a numpy array instead.\n",
      "  arr = construct_1d_object_array_from_listlike(values)\n",
      "\n",
      "WARNING:py.warnings:c:\\Users\\mohamad\\anaconda3\\envs\\metal22\\lib\\site-packages\\pandas\\core\\dtypes\\cast.py:122: ShapelyDeprecationWarning: The array interface is deprecated and will no longer work in Shapely 2.0. Convert the '.coords' to a numpy array instead.\n",
      "  arr = construct_1d_object_array_from_listlike(values)\n",
      "\n",
      "WARNING:py.warnings:c:\\Users\\mohamad\\anaconda3\\envs\\metal22\\lib\\site-packages\\pandas\\core\\dtypes\\cast.py:122: ShapelyDeprecationWarning: The array interface is deprecated and will no longer work in Shapely 2.0. Convert the '.coords' to a numpy array instead.\n",
      "  arr = construct_1d_object_array_from_listlike(values)\n",
      "\n",
      "WARNING:py.warnings:c:\\Users\\mohamad\\anaconda3\\envs\\metal22\\lib\\site-packages\\pandas\\core\\dtypes\\cast.py:122: ShapelyDeprecationWarning: The array interface is deprecated and will no longer work in Shapely 2.0. Convert the '.coords' to a numpy array instead.\n",
      "  arr = construct_1d_object_array_from_listlike(values)\n",
      "\n",
      "WARNING:py.warnings:c:\\Users\\mohamad\\anaconda3\\envs\\metal22\\lib\\site-packages\\pandas\\core\\dtypes\\cast.py:122: ShapelyDeprecationWarning: The array interface is deprecated and will no longer work in Shapely 2.0. Convert the '.coords' to a numpy array instead.\n",
      "  arr = construct_1d_object_array_from_listlike(values)\n",
      "\n",
      "WARNING:py.warnings:c:\\Users\\mohamad\\anaconda3\\envs\\metal22\\lib\\site-packages\\pandas\\core\\dtypes\\cast.py:122: ShapelyDeprecationWarning: The array interface is deprecated and will no longer work in Shapely 2.0. Convert the '.coords' to a numpy array instead.\n",
      "  arr = construct_1d_object_array_from_listlike(values)\n",
      "\n",
      "WARNING:py.warnings:c:\\Users\\mohamad\\anaconda3\\envs\\metal22\\lib\\site-packages\\pandas\\core\\dtypes\\cast.py:122: ShapelyDeprecationWarning: The array interface is deprecated and will no longer work in Shapely 2.0. Convert the '.coords' to a numpy array instead.\n",
      "  arr = construct_1d_object_array_from_listlike(values)\n",
      "\n",
      "WARNING:py.warnings:c:\\Users\\mohamad\\anaconda3\\envs\\metal22\\lib\\site-packages\\pandas\\core\\dtypes\\cast.py:122: ShapelyDeprecationWarning: The array interface is deprecated and will no longer work in Shapely 2.0. Convert the '.coords' to a numpy array instead.\n",
      "  arr = construct_1d_object_array_from_listlike(values)\n",
      "\n",
      "WARNING:py.warnings:c:\\Users\\mohamad\\anaconda3\\envs\\metal22\\lib\\site-packages\\pandas\\core\\dtypes\\cast.py:122: ShapelyDeprecationWarning: The array interface is deprecated and will no longer work in Shapely 2.0. Convert the '.coords' to a numpy array instead.\n",
      "  arr = construct_1d_object_array_from_listlike(values)\n",
      "\n",
      "WARNING:py.warnings:c:\\Users\\mohamad\\anaconda3\\envs\\metal22\\lib\\site-packages\\pandas\\core\\dtypes\\cast.py:122: ShapelyDeprecationWarning: The array interface is deprecated and will no longer work in Shapely 2.0. Convert the '.coords' to a numpy array instead.\n",
      "  arr = construct_1d_object_array_from_listlike(values)\n",
      "\n",
      "WARNING:py.warnings:c:\\Users\\mohamad\\anaconda3\\envs\\metal22\\lib\\site-packages\\pandas\\core\\dtypes\\cast.py:122: ShapelyDeprecationWarning: The array interface is deprecated and will no longer work in Shapely 2.0. Convert the '.coords' to a numpy array instead.\n",
      "  arr = construct_1d_object_array_from_listlike(values)\n",
      "\n",
      "WARNING:py.warnings:c:\\Users\\mohamad\\anaconda3\\envs\\metal22\\lib\\site-packages\\pandas\\core\\dtypes\\cast.py:122: ShapelyDeprecationWarning: The array interface is deprecated and will no longer work in Shapely 2.0. Convert the '.coords' to a numpy array instead.\n",
      "  arr = construct_1d_object_array_from_listlike(values)\n",
      "\n",
      "WARNING:py.warnings:c:\\Users\\mohamad\\anaconda3\\envs\\metal22\\lib\\site-packages\\pandas\\core\\dtypes\\cast.py:122: ShapelyDeprecationWarning: The array interface is deprecated and will no longer work in Shapely 2.0. Convert the '.coords' to a numpy array instead.\n",
      "  arr = construct_1d_object_array_from_listlike(values)\n",
      "\n",
      "WARNING:py.warnings:c:\\Users\\mohamad\\anaconda3\\envs\\metal22\\lib\\site-packages\\pandas\\core\\dtypes\\cast.py:122: ShapelyDeprecationWarning: The array interface is deprecated and will no longer work in Shapely 2.0. Convert the '.coords' to a numpy array instead.\n",
      "  arr = construct_1d_object_array_from_listlike(values)\n",
      "\n",
      "WARNING:py.warnings:c:\\Users\\mohamad\\anaconda3\\envs\\metal22\\lib\\site-packages\\pandas\\core\\dtypes\\cast.py:122: ShapelyDeprecationWarning: The array interface is deprecated and will no longer work in Shapely 2.0. Convert the '.coords' to a numpy array instead.\n",
      "  arr = construct_1d_object_array_from_listlike(values)\n",
      "\n",
      "WARNING:py.warnings:c:\\Users\\mohamad\\anaconda3\\envs\\metal22\\lib\\site-packages\\pandas\\core\\dtypes\\cast.py:122: ShapelyDeprecationWarning: The array interface is deprecated and will no longer work in Shapely 2.0. Convert the '.coords' to a numpy array instead.\n",
      "  arr = construct_1d_object_array_from_listlike(values)\n",
      "\n",
      "WARNING:py.warnings:c:\\Users\\mohamad\\anaconda3\\envs\\metal22\\lib\\site-packages\\pandas\\core\\dtypes\\cast.py:122: ShapelyDeprecationWarning: The array interface is deprecated and will no longer work in Shapely 2.0. Convert the '.coords' to a numpy array instead.\n",
      "  arr = construct_1d_object_array_from_listlike(values)\n",
      "\n",
      "WARNING:py.warnings:c:\\Users\\mohamad\\anaconda3\\envs\\metal22\\lib\\site-packages\\pandas\\core\\dtypes\\cast.py:122: ShapelyDeprecationWarning: The array interface is deprecated and will no longer work in Shapely 2.0. Convert the '.coords' to a numpy array instead.\n",
      "  arr = construct_1d_object_array_from_listlike(values)\n",
      "\n",
      "WARNING:py.warnings:c:\\Users\\mohamad\\anaconda3\\envs\\metal22\\lib\\site-packages\\pandas\\core\\dtypes\\cast.py:122: ShapelyDeprecationWarning: The array interface is deprecated and will no longer work in Shapely 2.0. Convert the '.coords' to a numpy array instead.\n",
      "  arr = construct_1d_object_array_from_listlike(values)\n",
      "\n",
      "WARNING:py.warnings:c:\\Users\\mohamad\\anaconda3\\envs\\metal22\\lib\\site-packages\\pandas\\core\\dtypes\\cast.py:122: ShapelyDeprecationWarning: The array interface is deprecated and will no longer work in Shapely 2.0. Convert the '.coords' to a numpy array instead.\n",
      "  arr = construct_1d_object_array_from_listlike(values)\n",
      "\n",
      "WARNING:py.warnings:c:\\Users\\mohamad\\anaconda3\\envs\\metal22\\lib\\site-packages\\pandas\\core\\dtypes\\cast.py:122: ShapelyDeprecationWarning: The array interface is deprecated and will no longer work in Shapely 2.0. Convert the '.coords' to a numpy array instead.\n",
      "  arr = construct_1d_object_array_from_listlike(values)\n",
      "\n",
      "WARNING:py.warnings:c:\\Users\\mohamad\\anaconda3\\envs\\metal22\\lib\\site-packages\\pandas\\core\\dtypes\\cast.py:122: ShapelyDeprecationWarning: The array interface is deprecated and will no longer work in Shapely 2.0. Convert the '.coords' to a numpy array instead.\n",
      "  arr = construct_1d_object_array_from_listlike(values)\n",
      "\n",
      "WARNING:py.warnings:c:\\Users\\mohamad\\anaconda3\\envs\\metal22\\lib\\site-packages\\pandas\\core\\dtypes\\cast.py:122: ShapelyDeprecationWarning: The array interface is deprecated and will no longer work in Shapely 2.0. Convert the '.coords' to a numpy array instead.\n",
      "  arr = construct_1d_object_array_from_listlike(values)\n",
      "\n",
      "WARNING:py.warnings:c:\\Users\\mohamad\\anaconda3\\envs\\metal22\\lib\\site-packages\\pandas\\core\\dtypes\\cast.py:122: ShapelyDeprecationWarning: The array interface is deprecated and will no longer work in Shapely 2.0. Convert the '.coords' to a numpy array instead.\n",
      "  arr = construct_1d_object_array_from_listlike(values)\n",
      "\n",
      "WARNING:py.warnings:c:\\Users\\mohamad\\anaconda3\\envs\\metal22\\lib\\site-packages\\pandas\\core\\dtypes\\cast.py:122: ShapelyDeprecationWarning: The array interface is deprecated and will no longer work in Shapely 2.0. Convert the '.coords' to a numpy array instead.\n",
      "  arr = construct_1d_object_array_from_listlike(values)\n",
      "\n",
      "WARNING:py.warnings:c:\\Users\\mohamad\\anaconda3\\envs\\metal22\\lib\\site-packages\\pandas\\core\\dtypes\\cast.py:122: ShapelyDeprecationWarning: The array interface is deprecated and will no longer work in Shapely 2.0. Convert the '.coords' to a numpy array instead.\n",
      "  arr = construct_1d_object_array_from_listlike(values)\n",
      "\n",
      "WARNING:py.warnings:c:\\Users\\mohamad\\anaconda3\\envs\\metal22\\lib\\site-packages\\pandas\\core\\dtypes\\cast.py:122: ShapelyDeprecationWarning: The array interface is deprecated and will no longer work in Shapely 2.0. Convert the '.coords' to a numpy array instead.\n",
      "  arr = construct_1d_object_array_from_listlike(values)\n",
      "\n",
      "WARNING:py.warnings:c:\\Users\\mohamad\\anaconda3\\envs\\metal22\\lib\\site-packages\\pandas\\core\\dtypes\\cast.py:122: ShapelyDeprecationWarning: The array interface is deprecated and will no longer work in Shapely 2.0. Convert the '.coords' to a numpy array instead.\n",
      "  arr = construct_1d_object_array_from_listlike(values)\n",
      "\n",
      "WARNING:py.warnings:c:\\Users\\mohamad\\anaconda3\\envs\\metal22\\lib\\site-packages\\pandas\\core\\dtypes\\cast.py:122: ShapelyDeprecationWarning: The array interface is deprecated and will no longer work in Shapely 2.0. Convert the '.coords' to a numpy array instead.\n",
      "  arr = construct_1d_object_array_from_listlike(values)\n",
      "\n",
      "WARNING:py.warnings:c:\\Users\\mohamad\\anaconda3\\envs\\metal22\\lib\\site-packages\\pandas\\core\\dtypes\\cast.py:122: ShapelyDeprecationWarning: The array interface is deprecated and will no longer work in Shapely 2.0. Convert the '.coords' to a numpy array instead.\n",
      "  arr = construct_1d_object_array_from_listlike(values)\n",
      "\n",
      "WARNING:py.warnings:c:\\Users\\mohamad\\anaconda3\\envs\\metal22\\lib\\site-packages\\pandas\\core\\dtypes\\cast.py:122: ShapelyDeprecationWarning: The array interface is deprecated and will no longer work in Shapely 2.0. Convert the '.coords' to a numpy array instead.\n",
      "  arr = construct_1d_object_array_from_listlike(values)\n",
      "\n",
      "WARNING:py.warnings:c:\\Users\\mohamad\\anaconda3\\envs\\metal22\\lib\\site-packages\\pandas\\core\\dtypes\\cast.py:122: ShapelyDeprecationWarning: The array interface is deprecated and will no longer work in Shapely 2.0. Convert the '.coords' to a numpy array instead.\n",
      "  arr = construct_1d_object_array_from_listlike(values)\n",
      "\n",
      "WARNING:py.warnings:c:\\Users\\mohamad\\anaconda3\\envs\\metal22\\lib\\site-packages\\pandas\\core\\dtypes\\cast.py:122: ShapelyDeprecationWarning: The array interface is deprecated and will no longer work in Shapely 2.0. Convert the '.coords' to a numpy array instead.\n",
      "  arr = construct_1d_object_array_from_listlike(values)\n",
      "\n",
      "WARNING:py.warnings:c:\\Users\\mohamad\\anaconda3\\envs\\metal22\\lib\\site-packages\\pandas\\core\\dtypes\\cast.py:122: ShapelyDeprecationWarning: The array interface is deprecated and will no longer work in Shapely 2.0. Convert the '.coords' to a numpy array instead.\n",
      "  arr = construct_1d_object_array_from_listlike(values)\n",
      "\n",
      "WARNING:py.warnings:c:\\Users\\mohamad\\anaconda3\\envs\\metal22\\lib\\site-packages\\pandas\\core\\dtypes\\cast.py:122: ShapelyDeprecationWarning: The array interface is deprecated and will no longer work in Shapely 2.0. Convert the '.coords' to a numpy array instead.\n",
      "  arr = construct_1d_object_array_from_listlike(values)\n",
      "\n",
      "WARNING:py.warnings:c:\\Users\\mohamad\\anaconda3\\envs\\metal22\\lib\\site-packages\\pandas\\core\\dtypes\\cast.py:122: ShapelyDeprecationWarning: The array interface is deprecated and will no longer work in Shapely 2.0. Convert the '.coords' to a numpy array instead.\n",
      "  arr = construct_1d_object_array_from_listlike(values)\n",
      "\n",
      "WARNING:py.warnings:c:\\Users\\mohamad\\anaconda3\\envs\\metal22\\lib\\site-packages\\pandas\\core\\dtypes\\cast.py:122: ShapelyDeprecationWarning: The array interface is deprecated and will no longer work in Shapely 2.0. Convert the '.coords' to a numpy array instead.\n",
      "  arr = construct_1d_object_array_from_listlike(values)\n",
      "\n",
      "WARNING:py.warnings:c:\\Users\\mohamad\\anaconda3\\envs\\metal22\\lib\\site-packages\\pandas\\core\\dtypes\\cast.py:122: ShapelyDeprecationWarning: The array interface is deprecated and will no longer work in Shapely 2.0. Convert the '.coords' to a numpy array instead.\n",
      "  arr = construct_1d_object_array_from_listlike(values)\n",
      "\n",
      "WARNING:py.warnings:c:\\Users\\mohamad\\anaconda3\\envs\\metal22\\lib\\site-packages\\pandas\\core\\dtypes\\cast.py:122: ShapelyDeprecationWarning: The array interface is deprecated and will no longer work in Shapely 2.0. Convert the '.coords' to a numpy array instead.\n",
      "  arr = construct_1d_object_array_from_listlike(values)\n",
      "\n",
      "WARNING:py.warnings:c:\\Users\\mohamad\\anaconda3\\envs\\metal22\\lib\\site-packages\\pandas\\core\\dtypes\\cast.py:122: ShapelyDeprecationWarning: The array interface is deprecated and will no longer work in Shapely 2.0. Convert the '.coords' to a numpy array instead.\n",
      "  arr = construct_1d_object_array_from_listlike(values)\n",
      "\n",
      "WARNING:py.warnings:c:\\Users\\mohamad\\anaconda3\\envs\\metal22\\lib\\site-packages\\pandas\\core\\dtypes\\cast.py:122: ShapelyDeprecationWarning: The array interface is deprecated and will no longer work in Shapely 2.0. Convert the '.coords' to a numpy array instead.\n",
      "  arr = construct_1d_object_array_from_listlike(values)\n",
      "\n",
      "WARNING:py.warnings:c:\\Users\\mohamad\\anaconda3\\envs\\metal22\\lib\\site-packages\\pandas\\core\\dtypes\\cast.py:122: ShapelyDeprecationWarning: The array interface is deprecated and will no longer work in Shapely 2.0. Convert the '.coords' to a numpy array instead.\n",
      "  arr = construct_1d_object_array_from_listlike(values)\n",
      "\n",
      "WARNING:py.warnings:c:\\Users\\mohamad\\anaconda3\\envs\\metal22\\lib\\site-packages\\pandas\\core\\dtypes\\cast.py:122: ShapelyDeprecationWarning: The array interface is deprecated and will no longer work in Shapely 2.0. Convert the '.coords' to a numpy array instead.\n",
      "  arr = construct_1d_object_array_from_listlike(values)\n",
      "\n",
      "WARNING:py.warnings:c:\\Users\\mohamad\\anaconda3\\envs\\metal22\\lib\\site-packages\\pandas\\core\\dtypes\\cast.py:122: ShapelyDeprecationWarning: The array interface is deprecated and will no longer work in Shapely 2.0. Convert the '.coords' to a numpy array instead.\n",
      "  arr = construct_1d_object_array_from_listlike(values)\n",
      "\n",
      "WARNING:py.warnings:c:\\Users\\mohamad\\anaconda3\\envs\\metal22\\lib\\site-packages\\pandas\\core\\dtypes\\cast.py:122: ShapelyDeprecationWarning: The array interface is deprecated and will no longer work in Shapely 2.0. Convert the '.coords' to a numpy array instead.\n",
      "  arr = construct_1d_object_array_from_listlike(values)\n",
      "\n",
      "WARNING:py.warnings:c:\\Users\\mohamad\\anaconda3\\envs\\metal22\\lib\\site-packages\\pandas\\core\\dtypes\\cast.py:122: ShapelyDeprecationWarning: The array interface is deprecated and will no longer work in Shapely 2.0. Convert the '.coords' to a numpy array instead.\n",
      "  arr = construct_1d_object_array_from_listlike(values)\n",
      "\n",
      "WARNING:py.warnings:c:\\Users\\mohamad\\anaconda3\\envs\\metal22\\lib\\site-packages\\pandas\\core\\dtypes\\cast.py:122: ShapelyDeprecationWarning: The array interface is deprecated and will no longer work in Shapely 2.0. Convert the '.coords' to a numpy array instead.\n",
      "  arr = construct_1d_object_array_from_listlike(values)\n",
      "\n",
      "WARNING:py.warnings:c:\\Users\\mohamad\\anaconda3\\envs\\metal22\\lib\\site-packages\\pandas\\core\\dtypes\\cast.py:122: ShapelyDeprecationWarning: The array interface is deprecated and will no longer work in Shapely 2.0. Convert the '.coords' to a numpy array instead.\n",
      "  arr = construct_1d_object_array_from_listlike(values)\n",
      "\n",
      "WARNING:py.warnings:c:\\Users\\mohamad\\anaconda3\\envs\\metal22\\lib\\site-packages\\pandas\\core\\dtypes\\cast.py:122: ShapelyDeprecationWarning: The array interface is deprecated and will no longer work in Shapely 2.0. Convert the '.coords' to a numpy array instead.\n",
      "  arr = construct_1d_object_array_from_listlike(values)\n",
      "\n",
      "WARNING:py.warnings:c:\\Users\\mohamad\\anaconda3\\envs\\metal22\\lib\\site-packages\\pandas\\core\\dtypes\\cast.py:122: ShapelyDeprecationWarning: The array interface is deprecated and will no longer work in Shapely 2.0. Convert the '.coords' to a numpy array instead.\n",
      "  arr = construct_1d_object_array_from_listlike(values)\n",
      "\n",
      "WARNING:py.warnings:c:\\Users\\mohamad\\anaconda3\\envs\\metal22\\lib\\site-packages\\pandas\\core\\dtypes\\cast.py:122: ShapelyDeprecationWarning: The array interface is deprecated and will no longer work in Shapely 2.0. Convert the '.coords' to a numpy array instead.\n",
      "  arr = construct_1d_object_array_from_listlike(values)\n",
      "\n"
     ]
    }
   ],
   "source": [
    "flux_line_q_2 = RoutePathfinder(design, 'Flux_Line_Q_2', dict(hfss_wire_bonds = True,\n",
    "                                                        pin_inputs = Dict(\n",
    "                                                            start_pin=Dict(\n",
    "                                                                component='Q_2',\n",
    "                                                                pin='flux_line'),\n",
    "                                                            end_pin=Dict(\n",
    "                                                                component='Launch_FL_Q_2',\n",
    "                                                                pin='tie')\n",
    "                                                        ),\n",
    "                                                        fillet = '99um',\n",
    "                                                        trace_width = '5um',\n",
    "                                                        trace_gap = '3um'))\n",
    "\n",
    "\n",
    "tl_readout_q_2 = RoutePathfinder(design, 'TL_Readout_Q_2', dict(hfss_wire_bonds = True,\n",
    "                                                        pin_inputs = Dict(\n",
    "                                                            start_pin=Dict(\n",
    "                                                                component='Cap_Readout_Q_2',\n",
    "                                                                pin='south_end'),\n",
    "                                                            end_pin=Dict(\n",
    "                                                                component='Launch_Readout_Q_2',\n",
    "                                                                pin='tie')\n",
    "                                                        ),\n",
    "                                                        trace_width = '10um',\n",
    "                                                        trace_gap = '6um'))\n",
    "\n",
    "\n",
    "tl_readout_q_0 = RoutePathfinder(design, 'TL_Readout_Q_0', dict(hfss_wire_bonds = True,\n",
    "                                                        pin_inputs = Dict(\n",
    "                                                            start_pin=Dict(\n",
    "                                                                component='Cap_Readout_Q_0',\n",
    "                                                                pin='prime_start'),\n",
    "                                                            end_pin=Dict(\n",
    "                                                                component='Launch_Readout_Q_0',\n",
    "                                                                pin='tie')\n",
    "                                                        ),\n",
    "                                                        fillet = '99um',\n",
    "                                                        trace_width = '10um',\n",
    "                                                        trace_gap = '6um'))\n",
    "\n",
    "\n",
    "tl_readout_q_1 = RoutePathfinder(design, 'TL_Readout_Q_1', dict(hfss_wire_bonds = True,\n",
    "                                                        pin_inputs = Dict(\n",
    "                                                            start_pin=Dict(\n",
    "                                                                component='Cap_Readout_Q_1',\n",
    "                                                                pin='prime_end'),\n",
    "                                                            end_pin=Dict(\n",
    "                                                                component='Launch_Readout_Q_1',\n",
    "                                                                pin='tie')\n",
    "                                                        ),\n",
    "                                                        fillet = '99um',\n",
    "                                                        trace_width = '10um',\n",
    "                                                        trace_gap = '6um'))\n",
    "\n",
    "\n",
    "tl_readout_q_01 = RoutePathfinder(design, 'TL_Readout_Q_01', dict(hfss_wire_bonds = True,\n",
    "                                                        pin_inputs = Dict(\n",
    "                                                            start_pin=Dict(\n",
    "                                                                component='Cap_Readout_Q_0',\n",
    "                                                                pin='prime_end'),\n",
    "                                                            end_pin=Dict(\n",
    "                                                                component='Cap_Readout_Q_1',\n",
    "                                                                pin='prime_start')\n",
    "                                                        ),\n",
    "                                                        fillet = '99um',\n",
    "                                                        trace_width = '10um',\n",
    "                                                        trace_gap = '6um'))\n",
    "\n",
    "gui.rebuild()\n",
    "gui.autoscale()"
   ]
  },
  {
   "cell_type": "markdown",
   "id": "bbd6c934",
   "metadata": {},
   "source": [
    "# Simulation and Analysis"
   ]
  },
  {
   "cell_type": "markdown",
   "id": "c6c0d91c",
   "metadata": {},
   "source": [
    "With our fully designed chip now laid out, we can start focus on tuning the components to hit the circuit parameters we are interested in. These will tend to be;\n",
    "* Qubit: frequency, the anharmonicity/alpha, and the coupling strength (as chi, g, or others)\n",
    "* Busses: frequency (if resonant),  and the coupling strength\n",
    "* readout: frequency, coupling strength, coupling to external lines (as kappa, Q_external, or other)\n",
    "\n",
    "All of the qubit parameters can initially be tuned via a capacitance matrix and the lumped oscillator method. This analysis is not as accurate as others, but allows for fairly fast and small simulations. We will start setting up this simulationby rendering the qubit of interest into Ansys Q3D\n",
    "\n",
    "As a reminder, our target parameters are approximately;\n",
    "\n",
    "* qubit frequency => 4.8, 5, 5.2 GHz\n",
    "* qubit anharmonicity => 300 MHz\n",
    "* qubit-bus (g) => 80 MHz\n",
    "* qubit-readout (chi) => 1 MHz\n",
    "* bus frequency => 5.8, 6.2 GHz\n",
    "* qubit frequency (bus01, bus02) => 5.8, 6.2 GHz \n",
    "* readout frequencies => 6.8, 7, 7.2 GHz\n",
    "* readout Q_external => 2000\n",
    "\n",
    "Not all analysis and tuning will be followed in this notebook, but each type and step necessary shall be.\n",
    "\n",
    "### Qubit and Lumped Oscillator Modeb(LOM)\n",
    "we will focus on Qubit 0 for this step of the simulation and analysis. We first create an instance of a Q3D render, connect it to Ansys, add a design, and modify the options for the simulation we want. If Ansys is not yet open, we can also open it via fourq_q3d.open_ansys(), but be sure to wait for Ansys to open completely if do so."
   ]
  },
  {
   "cell_type": "code",
   "execution_count": 23,
   "id": "0556eced",
   "metadata": {},
   "outputs": [],
   "source": [
    "q0_q3d = design.renderers.q3d"
   ]
  },
  {
   "cell_type": "markdown",
   "id": "7d39698b",
   "metadata": {},
   "source": [
    "We can check what the simulation default settings are via `q0_q3d.options`, and change any that do not meet are requirements."
   ]
  },
  {
   "cell_type": "code",
   "execution_count": 27,
   "id": "e1bfdebe",
   "metadata": {},
   "outputs": [
    {
     "data": {
      "text/plain": [
       "{'Lj': '10nH',\n",
       " 'Cj': 0,\n",
       " '_Rj': 0,\n",
       " 'max_mesh_length_jj': '7um',\n",
       " 'max_mesh_length_port': '7um',\n",
       " 'project_path': None,\n",
       " 'project_name': None,\n",
       " 'design_name': None,\n",
       " 'x_buffer_width_mm': 0.2,\n",
       " 'y_buffer_width_mm': 0.2,\n",
       " 'wb_threshold': '400um',\n",
       " 'wb_offset': '0um',\n",
       " 'wb_size': 5,\n",
       " 'plot_ansys_fields_options': {'name': 'NAME:Mag_E1',\n",
       "  'UserSpecifyName': '0',\n",
       "  'UserSpecifyFolder': '0',\n",
       "  'QuantityName': 'Mag_E',\n",
       "  'PlotFolder': 'E Field',\n",
       "  'StreamlinePlot': 'False',\n",
       "  'AdjacentSidePlot': 'False',\n",
       "  'FullModelPlot': 'False',\n",
       "  'IntrinsicVar': \"Phase='0deg'\",\n",
       "  'PlotGeomInfo_0': '1',\n",
       "  'PlotGeomInfo_1': 'Surface',\n",
       "  'PlotGeomInfo_2': 'FacesList',\n",
       "  'PlotGeomInfo_3': '1'}}"
      ]
     },
     "execution_count": 27,
     "metadata": {},
     "output_type": "execute_result"
    }
   ],
   "source": [
    "q0_q3d.options"
   ]
  },
  {
   "cell_type": "markdown",
   "id": "f47fb2bb",
   "metadata": {},
   "source": [
    "In addition to the settings for the LOM analysis."
   ]
  },
  {
   "cell_type": "code",
   "execution_count": null,
   "id": "95d3b54a",
   "metadata": {},
   "outputs": [],
   "source": [
    "q_0_LOM.setup"
   ]
  },
  {
   "cell_type": "markdown",
   "id": "f47207ea",
   "metadata": {},
   "source": [
    "This connects Qiskit metal to ansys"
   ]
  },
  {
   "cell_type": "code",
   "execution_count": null,
   "id": "b3291dee",
   "metadata": {},
   "outputs": [],
   "source": [
    "q0_q3d.connect_ansys()"
   ]
  },
  {
   "cell_type": "code",
   "execution_count": null,
   "id": "91361be4",
   "metadata": {},
   "outputs": [],
   "source": [
    "#this is used to activate my design on q3d\n",
    "q0_q3d.activate_q3d_design(\"Q0_LOM\")"
   ]
  },
  {
   "cell_type": "markdown",
   "id": "03102b03",
   "metadata": {},
   "source": [
    "Next, we add a simulation setup. What options one should choose will choose for their simulatio will vary, depending on what you are simulating and desired accuracy on the simulation. For the LOM analysis, we may find the Q3D convergence doesn't quite give a satisfactory convergence on our quantum parameters, and may require modifying our max passes or our convergence condition."
   ]
  },
  {
   "cell_type": "code",
   "execution_count": null,
   "id": "62773b6b",
   "metadata": {},
   "outputs": [],
   "source": [
    "q0_q3d.add_q3d_setup(freq_ghz = 4.8, name = \"LOM_Sim\", max_passes = 16, percent_error = 0.2)"
   ]
  },
  {
   "cell_type": "code",
   "execution_count": null,
   "id": "e8de6eb4",
   "metadata": {},
   "outputs": [],
   "source": [
    "q0_q3d.activate_q3d_setup('LOM_sim')"
   ]
  },
  {
   "cell_type": "markdown",
   "id": "dd8b214e",
   "metadata": {},
   "source": [
    "We then render the qubit of interest into Q3D, specifying if we want any open pins (because in the render the pins will not be connected to anything) so we terminate them as open as we want the capacitivecoupling to each connection pad. We do not need to enter the entire chip for the simulation, so we will leave the default of the bounding box for the rendering. In case we have forgotten what those pins are we can look at gui or run:"
   ]
  },
  {
   "cell_type": "markdown",
   "id": "eb7afe64",
   "metadata": {},
   "source": [
    "the pins that are not connected to anything will be shorted, but we dont want that"
   ]
  },
  {
   "cell_type": "code",
   "execution_count": 34,
   "id": "e23fdc54",
   "metadata": {},
   "outputs": [
    {
     "data": {
      "text/plain": [
       "dict_keys(['readout', 'bus01', 'bus02'])"
      ]
     },
     "execution_count": 34,
     "metadata": {},
     "output_type": "execute_result"
    }
   ],
   "source": [
    "# remember the pins\n",
    "q_0.pins.keys()"
   ]
  },
  {
   "cell_type": "code",
   "execution_count": 36,
   "id": "0095a51a",
   "metadata": {},
   "outputs": [
    {
     "name": "stdout",
     "output_type": "stream",
     "text": [
      "Object `q0_q3.render_design` not found.\n"
     ]
    }
   ],
   "source": [
    "?q0_q3.render_design"
   ]
  },
  {
   "cell_type": "code",
   "execution_count": null,
   "id": "050e4d38",
   "metadata": {},
   "outputs": [],
   "source": [
    "# i will render the design and the pins will be open\n",
    "q0_q3.render_design([''],[('Q_0','readout'),('Q_0','bus_01'),('Q_0','bus_02')])"
   ]
  },
  {
   "cell_type": "markdown",
   "id": "21d3cae5",
   "metadata": {},
   "source": [
    "We can then simulate. First do small simulations to make sure that your design is roughly on target, and then when you find that it is the case, make more precisely designs... Once the simulation is complete, we can run the LOM analysis, looking at the convergences to determine if the simulation was acceptable"
   ]
  },
  {
   "cell_type": "code",
   "execution_count": null,
   "id": "75e33494",
   "metadata": {},
   "outputs": [],
   "source": [
    "# Simulation\n",
    "q0_q3d.analyze_setup(\"LOM_Sim\")"
   ]
  },
  {
   "cell_type": "code",
   "execution_count": null,
   "id": "00fc4467",
   "metadata": {},
   "outputs": [],
   "source": [
    "# lumped_oscillator_vs_passes(Lj, Cj ~ 2 fF, N- total number of connectionPads, fr(readout frequency),\n",
    "# [fb1, fb2, ..., fbn] - list of the bus frequencies, maxPass - how many passes did Ansys 3QD take)\n",
    "q0_lom = q0_q3d.lumped_oscillator_vs_passes(12, 2, 3, 6.8, [30, 5.8], 11)"
   ]
  },
  {
   "cell_type": "markdown",
   "id": "d592cf67",
   "metadata": {},
   "source": [
    "From the result, we plot the convergence to see if our qubit converge, but Q#D only converges the Capacitance matrix, and that doesn't mean that the total quantum parameters converged"
   ]
  },
  {
   "cell_type": "code",
   "execution_count": null,
   "id": "bcccf241",
   "metadata": {},
   "outputs": [],
   "source": [
    "q0_q3d.plot_convergence_main(q0_lom);\n",
    "q0_q3d.plot_convergence_chi(q0_lom)"
   ]
  },
  {
   "cell_type": "markdown",
   "id": "d17597d9",
   "metadata": {},
   "source": [
    "The quantum parameters didn't make us happy, so we will edit the setup, for that we increase the number of passes and decreased the percentage error"
   ]
  },
  {
   "cell_type": "code",
   "execution_count": null,
   "id": "fab432aa",
   "metadata": {},
   "outputs": [],
   "source": [
    "q0_q3d.edit_q3d_setup(Dict(name='LOM_Sim', max_passes= 22, percent_error= 0.02))"
   ]
  },
  {
   "cell_type": "code",
   "execution_count": null,
   "id": "93a671d7",
   "metadata": {},
   "outputs": [],
   "source": [
    "q0_q3d.analyze_setup(\"LOM_Sim\")"
   ]
  },
  {
   "cell_type": "code",
   "execution_count": null,
   "id": "8e257f37",
   "metadata": {},
   "outputs": [],
   "source": [
    "q0_lom = q0_q3d.lumped_oscillator_vs_passes(15.5, 2, 3, 6.8, [30, 5.8], 21)"
   ]
  },
  {
   "cell_type": "code",
   "execution_count": null,
   "id": "49d1af5a",
   "metadata": {},
   "outputs": [],
   "source": [
    "q0_q3d.plot_convergence_main(q0_lom);\n",
    "q0_q3d.plot_convergence_chi(q0_lom)"
   ]
  },
  {
   "cell_type": "markdown",
   "id": "7a6805e0",
   "metadata": {},
   "source": [
    "The Convergence is flat, and that what makes us happy, this will ensure that our parameters are accurate and we can tune now"
   ]
  },
  {
   "cell_type": "markdown",
   "id": "cce6c316",
   "metadata": {},
   "source": [
    "The first two things that we should tune is the qubit frequency and qubit anharmonicity\n",
    "Example of editing some parameters"
   ]
  },
  {
   "cell_type": "code",
   "execution_count": null,
   "id": "85724c76",
   "metadata": {},
   "outputs": [],
   "source": [
    "q_0.options.pad_gap = '28um'\n",
    "q_0.options.connection_pads.readout.pad_gap = '20um'\n",
    "q_0.options.connection_pads.readout.pad_width = '100um'\n",
    "q_0.options.connection_pads.bus02.pad_width = '130um'\n",
    "\n",
    "gui.rebuild()"
   ]
  },
  {
   "cell_type": "code",
   "execution_count": null,
   "id": "1121a4ce",
   "metadata": {},
   "outputs": [],
   "source": [
    "# I clean the simulation in render\n",
    "q0_q3d.clean_active_design()"
   ]
  },
  {
   "cell_type": "code",
   "execution_count": null,
   "id": "da348d9b",
   "metadata": {},
   "outputs": [],
   "source": [
    "q0_q3.render_design(['Q_0'],[('Q_0','readout'),('Q_0','bus_01'),('Q_0','bus_02')])"
   ]
  },
  {
   "cell_type": "code",
   "execution_count": null,
   "id": "1972d392",
   "metadata": {},
   "outputs": [],
   "source": [
    "q0_q3d.analyze_setup(\"LOM_Sim\")"
   ]
  },
  {
   "cell_type": "code",
   "execution_count": null,
   "id": "db1c21ea",
   "metadata": {},
   "outputs": [],
   "source": [
    "q0_lom = q0_q3d.lumped_oscillator_vs_passes(11.9, 2, 3, 6.8, [30, 5.8], 22)"
   ]
  },
  {
   "cell_type": "markdown",
   "id": "b3b9efd5",
   "metadata": {},
   "source": [
    "We fopund that we need a Lj = 14.9 nH, We conclude by disconnecting the render instance from Ansys to avoid having open COM ports left over (causing Ansys to be unable to close properly)"
   ]
  },
  {
   "cell_type": "code",
   "execution_count": null,
   "id": "c9298520",
   "metadata": {},
   "outputs": [],
   "source": [
    "q_0.options.hfss_inductance = \"14.9nH\"\n",
    "\n",
    "gui.rebuild()"
   ]
  },
  {
   "cell_type": "code",
   "execution_count": null,
   "id": "7ab0b057",
   "metadata": {},
   "outputs": [],
   "source": [
    "q0_q3d.disconnect_ansys()"
   ]
  },
  {
   "cell_type": "markdown",
   "id": "56506b24",
   "metadata": {},
   "source": [
    "# HFSS Simulation"
   ]
  },
  {
   "cell_type": "markdown",
   "id": "464e94c8",
   "metadata": {},
   "source": [
    "We want to tune the bus resonators"
   ]
  },
  {
   "cell_type": "code",
   "execution_count": 46,
   "id": "aa45c32a",
   "metadata": {},
   "outputs": [],
   "source": [
    "bus_02_hfss = design.renderers.hfss"
   ]
  },
  {
   "cell_type": "code",
   "execution_count": null,
   "id": "a52df5e7",
   "metadata": {},
   "outputs": [],
   "source": [
    "bus_02_hfss.connect_ansys()"
   ]
  },
  {
   "cell_type": "code",
   "execution_count": null,
   "id": "f6b0a717",
   "metadata": {},
   "outputs": [],
   "source": [
    "bus_02_hfss.activate_eigenmode_design(\"Resonator_Tuning\")"
   ]
  },
  {
   "cell_type": "code",
   "execution_count": 47,
   "id": "f837e284",
   "metadata": {},
   "outputs": [
    {
     "name": "stdout",
     "output_type": "stream",
     "text": [
      "\u001b[1;31mSignature:\u001b[0m\n",
      "\u001b[0mbus_02_hfss\u001b[0m\u001b[1;33m.\u001b[0m\u001b[0madd_eigenmode_setup\u001b[0m\u001b[1;33m(\u001b[0m\u001b[1;33m\n",
      "\u001b[0m    \u001b[0mname\u001b[0m\u001b[1;33m:\u001b[0m \u001b[0mstr\u001b[0m \u001b[1;33m=\u001b[0m \u001b[1;32mNone\u001b[0m\u001b[1;33m,\u001b[0m\u001b[1;33m\n",
      "\u001b[0m    \u001b[0mmin_freq_ghz\u001b[0m\u001b[1;33m:\u001b[0m \u001b[0mint\u001b[0m \u001b[1;33m=\u001b[0m \u001b[1;32mNone\u001b[0m\u001b[1;33m,\u001b[0m\u001b[1;33m\n",
      "\u001b[0m    \u001b[0mn_modes\u001b[0m\u001b[1;33m:\u001b[0m \u001b[0mint\u001b[0m \u001b[1;33m=\u001b[0m \u001b[1;32mNone\u001b[0m\u001b[1;33m,\u001b[0m\u001b[1;33m\n",
      "\u001b[0m    \u001b[0mmax_delta_f\u001b[0m\u001b[1;33m:\u001b[0m \u001b[0mfloat\u001b[0m \u001b[1;33m=\u001b[0m \u001b[1;32mNone\u001b[0m\u001b[1;33m,\u001b[0m\u001b[1;33m\n",
      "\u001b[0m    \u001b[0mmax_passes\u001b[0m\u001b[1;33m:\u001b[0m \u001b[0mint\u001b[0m \u001b[1;33m=\u001b[0m \u001b[1;32mNone\u001b[0m\u001b[1;33m,\u001b[0m\u001b[1;33m\n",
      "\u001b[0m    \u001b[0mmin_passes\u001b[0m\u001b[1;33m:\u001b[0m \u001b[0mint\u001b[0m \u001b[1;33m=\u001b[0m \u001b[1;32mNone\u001b[0m\u001b[1;33m,\u001b[0m\u001b[1;33m\n",
      "\u001b[0m    \u001b[0mmin_converged\u001b[0m\u001b[1;33m:\u001b[0m \u001b[0mint\u001b[0m \u001b[1;33m=\u001b[0m \u001b[1;32mNone\u001b[0m\u001b[1;33m,\u001b[0m\u001b[1;33m\n",
      "\u001b[0m    \u001b[0mpct_refinement\u001b[0m\u001b[1;33m:\u001b[0m \u001b[0mint\u001b[0m \u001b[1;33m=\u001b[0m \u001b[1;32mNone\u001b[0m\u001b[1;33m,\u001b[0m\u001b[1;33m\n",
      "\u001b[0m    \u001b[0mbasis_order\u001b[0m\u001b[1;33m:\u001b[0m \u001b[0mint\u001b[0m \u001b[1;33m=\u001b[0m \u001b[1;32mNone\u001b[0m\u001b[1;33m,\u001b[0m\u001b[1;33m\n",
      "\u001b[0m    \u001b[1;33m*\u001b[0m\u001b[0margs\u001b[0m\u001b[1;33m,\u001b[0m\u001b[1;33m\n",
      "\u001b[0m    \u001b[1;33m**\u001b[0m\u001b[0mkwargs\u001b[0m\u001b[1;33m,\u001b[0m\u001b[1;33m\n",
      "\u001b[0m\u001b[1;33m)\u001b[0m\u001b[1;33m\u001b[0m\u001b[1;33m\u001b[0m\u001b[0m\n",
      "\u001b[1;31mDocstring:\u001b[0m\n",
      "Create a solution setup in Ansys HFSS Eigenmode.  If user does not\n",
      "provide arguments, they will be obtained from hfss_options dict.\n",
      "\n",
      "Args:\n",
      "    name (str, optional): Name of eigenmode setup. Defaults to \"Setup\".\n",
      "    min_freq_ghz (int, optional): Minimum frequency in GHz. Defaults to 1.\n",
      "    n_modes (int, optional): Number of modes. Defaults to 1.\n",
      "    max_delta_f (float, optional): Maximum difference in freq between consecutive passes. Defaults to 0.5.\n",
      "    max_passes (int, optional): Maximum number of passes. Defaults to 10.\n",
      "    min_passes (int, optional): Minimum number of passes. Defaults to 1.\n",
      "    min_converged (int, optional): Minimum number of converged passes. Defaults to 1.\n",
      "    pct_refinement (int, optional): Percent refinement. Defaults to 30.\n",
      "    basis_order (int, optional): Basis order. Defaults to -1.\n",
      "\u001b[1;31mFile:\u001b[0m      c:\\users\\mohamad\\github\\qiskit_metal\\qiskit-metal\\qiskit_metal\\renderers\\renderer_ansys\\hfss_renderer.py\n",
      "\u001b[1;31mType:\u001b[0m      method\n"
     ]
    }
   ],
   "source": [
    "# check what options I have available\n",
    "?bus_02_hfss.add_eigenmode_setup"
   ]
  },
  {
   "cell_type": "code",
   "execution_count": 48,
   "id": "12c8735b",
   "metadata": {},
   "outputs": [],
   "source": [
    "bus_02_hfss.add_eigenmode_setup(name=\"Resonator_Sim\", n_modes=2, max_passes=14, min_converged=2)"
   ]
  },
  {
   "cell_type": "code",
   "execution_count": null,
   "id": "00d00cac",
   "metadata": {},
   "outputs": [],
   "source": [
    "# Activate it\n",
    "bus_02_hfss.activate_eigenmode_setup(\"Resonator_Sim\")"
   ]
  },
  {
   "cell_type": "code",
   "execution_count": 49,
   "id": "4c3c42d9",
   "metadata": {},
   "outputs": [
    {
     "name": "stdout",
     "output_type": "stream",
     "text": [
      "\u001b[1;31mSignature:\u001b[0m\n",
      "\u001b[0mbus_02_hfss\u001b[0m\u001b[1;33m.\u001b[0m\u001b[0mrender_design\u001b[0m\u001b[1;33m(\u001b[0m\u001b[1;33m\n",
      "\u001b[0m    \u001b[0mselection\u001b[0m\u001b[1;33m:\u001b[0m \u001b[0mtyping\u001b[0m\u001b[1;33m.\u001b[0m\u001b[0mOptional\u001b[0m\u001b[1;33m[\u001b[0m\u001b[0mlist\u001b[0m\u001b[1;33m]\u001b[0m \u001b[1;33m=\u001b[0m \u001b[1;32mNone\u001b[0m\u001b[1;33m,\u001b[0m\u001b[1;33m\n",
      "\u001b[0m    \u001b[0mopen_pins\u001b[0m\u001b[1;33m:\u001b[0m \u001b[0mtyping\u001b[0m\u001b[1;33m.\u001b[0m\u001b[0mOptional\u001b[0m\u001b[1;33m[\u001b[0m\u001b[0mlist\u001b[0m\u001b[1;33m]\u001b[0m \u001b[1;33m=\u001b[0m \u001b[1;32mNone\u001b[0m\u001b[1;33m,\u001b[0m\u001b[1;33m\n",
      "\u001b[0m    \u001b[0mport_list\u001b[0m\u001b[1;33m:\u001b[0m \u001b[0mtyping\u001b[0m\u001b[1;33m.\u001b[0m\u001b[0mOptional\u001b[0m\u001b[1;33m[\u001b[0m\u001b[0mlist\u001b[0m\u001b[1;33m]\u001b[0m \u001b[1;33m=\u001b[0m \u001b[1;32mNone\u001b[0m\u001b[1;33m,\u001b[0m\u001b[1;33m\n",
      "\u001b[0m    \u001b[0mjj_to_port\u001b[0m\u001b[1;33m:\u001b[0m \u001b[0mtyping\u001b[0m\u001b[1;33m.\u001b[0m\u001b[0mOptional\u001b[0m\u001b[1;33m[\u001b[0m\u001b[0mlist\u001b[0m\u001b[1;33m]\u001b[0m \u001b[1;33m=\u001b[0m \u001b[1;32mNone\u001b[0m\u001b[1;33m,\u001b[0m\u001b[1;33m\n",
      "\u001b[0m    \u001b[0mignored_jjs\u001b[0m\u001b[1;33m:\u001b[0m \u001b[0mtyping\u001b[0m\u001b[1;33m.\u001b[0m\u001b[0mOptional\u001b[0m\u001b[1;33m[\u001b[0m\u001b[0mlist\u001b[0m\u001b[1;33m]\u001b[0m \u001b[1;33m=\u001b[0m \u001b[1;32mNone\u001b[0m\u001b[1;33m,\u001b[0m\u001b[1;33m\n",
      "\u001b[0m    \u001b[0mbox_plus_buffer\u001b[0m\u001b[1;33m:\u001b[0m \u001b[0mbool\u001b[0m \u001b[1;33m=\u001b[0m \u001b[1;32mTrue\u001b[0m\u001b[1;33m,\u001b[0m\u001b[1;33m\n",
      "\u001b[0m\u001b[1;33m)\u001b[0m\u001b[1;33m\u001b[0m\u001b[1;33m\u001b[0m\u001b[0m\n",
      "\u001b[1;31mDocstring:\u001b[0m\n",
      "Initiate rendering of components in design contained in selection,\n",
      "assuming they're valid. Components are rendered before the chips they\n",
      "reside on, and subtraction of negative shapes is performed at the very\n",
      "end. Add the metalize() method here to turn objects in\n",
      "self.assign_perfE (see init in QAnsysRenderer class) into perfect\n",
      "electrical conductors. Create lumped ports as needed.\n",
      "\n",
      "First obtain a list of IDs of components to render and a corresponding\n",
      "case, denoted by self.qcomp_ids and self.case, respectively. If\n",
      "self.case == 1, all components in QDesign are to be rendered.  If\n",
      "self.case == 0, a strict subset of components in QDesign are to be\n",
      "rendered. Otherwise, if self.case == 2, one or more component names in\n",
      "selection cannot be found in QDesign.\n",
      "\n",
      "Among the components selected for export, there may or may not be\n",
      "unused (unconnected) pins. The second parameter, open_pins, contains\n",
      "tuples of the form (component_name, pin_name) that specify exactly\n",
      "which pins should be open rather than shorted during the simulation.\n",
      "Both the component and pin name must be specified because the latter\n",
      "could be shared by multiple components. All pins in this list are\n",
      "rendered with an additional endcap in the form of a rectangular\n",
      "cutout, to be subtracted from its respective plane.\n",
      "\n",
      "In driven modal solutions, the Ansys design must include one or more\n",
      "ports. This is done by adding all port designations and their\n",
      "respective impedances in Ohms as (qcomp, pin, impedance) to port_list.\n",
      "Note that an open endcap must separate the two sides of each pin before\n",
      "inserting a lumped port in between, so behind the scenes all pins in\n",
      "port_list are also added to open_pins. Practically, however, port_list\n",
      "and open_pins are inputted as mutually exclusive lists.\n",
      "\n",
      "Also in driven modal solutions, one may want to render junctions as\n",
      "lumped ports and/or inductors, or omit them altogether. To do so,\n",
      "tuples of the form (component_name, element_name, impedance, draw_ind)\n",
      "are added to the list jj_to_port. For example,\n",
      "('Q1', 'rect_jj', 70, True) indicates that rect_jj of component Q1 is\n",
      "to be rendered as both a lumped port with an impedance of 70 Ohms as\n",
      "well as an inductor whose properties are given in default_options.\n",
      "Replacing the last entry of this 4-element tuple with False would\n",
      "indicate that only the port is to be drawn, not the inductor.\n",
      "Alternatively for driven modal solutions, one may want to disregard\n",
      "select junctions in the Metal design altogether to simulate the\n",
      "capacitive effect while keeping the qubit in an \"off\" state. Such\n",
      "junctions are specified in the form (component_name, element_name)\n",
      "in the list ignored_jjs.\n",
      "\n",
      "The final parameter, box_plus_buffer, determines how the chip is drawn.\n",
      "When set to True, it takes the minimum rectangular bounding box of all\n",
      "rendered components and adds a buffer of x_buffer_width_mm and\n",
      "y_buffer_width_mm horizontally and vertically, respectively, to the\n",
      "chip size. The center of the chip lies at the midpoint x/y coordinates\n",
      "of the minimum rectangular bounding box and may change depending on\n",
      "which components are rendered and how they're positioned. If\n",
      "box_plus_buffer is False, however, the chip position and dimensions\n",
      "are taken from the chip info dictionary found in self.design,\n",
      "irrespective of what's being rendered. While this latter option is\n",
      "faster because it doesn't require calculating a bounding box, it runs\n",
      "the risk of rendered components being too close to the edge of the chip\n",
      "or even falling outside its boundaries.\n",
      "\n",
      "Args:\n",
      "    selection (Union[list, None], optional): List of components to\n",
      "                                render. Defaults to None.\n",
      "    open_pins (Union[list, None], optional): List of tuples of pins\n",
      "                                that are open. Defaults to None.\n",
      "    port_list (Union[list, None], optional): List of tuples of pins to\n",
      "                                be rendered as ports. Defaults to None.\n",
      "    jj_to_port (Union[list, None], optional): List of tuples of jj's to\n",
      "                                be rendered as ports. Defaults to None.\n",
      "    ignored_jjs (Union[list, None], optional): List of tuples of jj's\n",
      "                                that shouldn't be rendered.\n",
      "                                Defaults to None.\n",
      "    box_plus_buffer (bool): Either calculate a bounding box based on\n",
      "                                the location of rendered geometries\n",
      "                                or use chip size from design class.\n",
      "\u001b[1;31mFile:\u001b[0m      c:\\users\\mohamad\\github\\qiskit_metal\\qiskit-metal\\qiskit_metal\\renderers\\renderer_ansys\\hfss_renderer.py\n",
      "\u001b[1;31mType:\u001b[0m      method\n"
     ]
    }
   ],
   "source": [
    "?bus_02_hfss.render_design"
   ]
  },
  {
   "cell_type": "code",
   "execution_count": null,
   "id": "6bf1251e",
   "metadata": {},
   "outputs": [],
   "source": [
    "# we should also render Q0 and Q2 because they connect to the bus resonator\n",
    "bus_02_hfss.render_design(selection=['Bus_02', 'Q_0', 'Q_2'], ignored_jjs=[('Q_0', 'rect_jj'), ('Q_2', 'rect_jj')], box_plus_buffer= False)\n",
    "\n",
    "# the boc buffer is false so we can simulate full chip"
   ]
  },
  {
   "cell_type": "code",
   "execution_count": null,
   "id": "c3d9481a",
   "metadata": {},
   "outputs": [],
   "source": [
    "# simulate\n",
    "bus_02_hfss.analyze_setup(\"Resonator_Sim\")"
   ]
  },
  {
   "cell_type": "code",
   "execution_count": null,
   "id": "5afcc6d7",
   "metadata": {},
   "outputs": [],
   "source": [
    "# get the resonance frequency\n",
    "bus_02_hfss.pinfo.setup.get_solutions().eigenmodes()"
   ]
  },
  {
   "cell_type": "markdown",
   "id": "66f9b173",
   "metadata": {},
   "source": [
    "We got two solutions which are 5.6 GHz and 11.17 GHz, we can see the E feild, to check if there is any interference with other components"
   ]
  },
  {
   "cell_type": "code",
   "execution_count": null,
   "id": "4a8de4f8",
   "metadata": {},
   "outputs": [],
   "source": [
    "bus_02_hfss.modeler._modeler.ShowWindow()"
   ]
  },
  {
   "cell_type": "code",
   "execution_count": null,
   "id": "b7e62ffa",
   "metadata": {},
   "outputs": [],
   "source": [
    "bus_02_hfss.plot_ansys_fields('main')"
   ]
  },
  {
   "cell_type": "code",
   "execution_count": null,
   "id": "6734e69c",
   "metadata": {},
   "outputs": [],
   "source": [
    "bus_02_hfss.save_screenshot()"
   ]
  },
  {
   "cell_type": "markdown",
   "id": "953089f3",
   "metadata": {},
   "source": [
    "This frequency is so low due to the coupling, so we should strength that by changing the length of the bus"
   ]
  },
  {
   "cell_type": "code",
   "execution_count": null,
   "id": "f7a9a92f",
   "metadata": {},
   "outputs": [],
   "source": [
    "bus_02.options.total_length = '9.8mm'\n",
    "\n",
    "gui.rebuild()"
   ]
  },
  {
   "cell_type": "code",
   "execution_count": null,
   "id": "04eaa48d",
   "metadata": {},
   "outputs": [],
   "source": [
    "bus_02_hfss.clean_active_design()"
   ]
  },
  {
   "cell_type": "code",
   "execution_count": null,
   "id": "72d1f300",
   "metadata": {},
   "outputs": [],
   "source": [
    "bus_02_hfss.render_design(selection=['Bus_02', 'Q_0', 'Q_2'])"
   ]
  },
  {
   "cell_type": "code",
   "execution_count": null,
   "id": "ff05d1a6",
   "metadata": {},
   "outputs": [],
   "source": [
    "bus_02_hfss.pinfo.setup.n_modes = 3"
   ]
  },
  {
   "cell_type": "code",
   "execution_count": null,
   "id": "9684b297",
   "metadata": {},
   "outputs": [],
   "source": [
    "bus_02_hfss.analyze_setup(\"Resonator_Sim\")"
   ]
  },
  {
   "cell_type": "code",
   "execution_count": null,
   "id": "7d63f79f",
   "metadata": {},
   "outputs": [],
   "source": [
    "# now we see the results of our sim\n",
    "bus_02_hfss.modeler._modeler.ShowWindow()\n",
    "bus_02_hfss.plot_ansys_fields('main')\n",
    "bus_02_hfss.save_screenshot()"
   ]
  },
  {
   "cell_type": "markdown",
   "id": "582b1883",
   "metadata": {},
   "source": [
    "We didn't get the target resonance frequencies, so what we can doo we apply a sweep to the length of the resonator and find the optimum"
   ]
  },
  {
   "cell_type": "code",
   "execution_count": null,
   "id": "4d3515f5",
   "metadata": {},
   "outputs": [],
   "source": [
    "from qiskit_metal.analyses.sweep_options.sweeping import Sweeping"
   ]
  },
  {
   "cell_type": "code",
   "execution_count": null,
   "id": "daceb250",
   "metadata": {},
   "outputs": [],
   "source": [
    "sweep = Sweeping(design)"
   ]
  },
  {
   "cell_type": "code",
   "execution_count": null,
   "id": "496b184a",
   "metadata": {},
   "outputs": [],
   "source": [
    "?sweep.sweep_one_option_get_eigenmode_solution_data"
   ]
  },
  {
   "cell_type": "code",
   "execution_count": null,
   "id": "6ab275dd",
   "metadata": {},
   "outputs": [],
   "source": [
    "em_setup_args = Dict(\n",
    "    min_freq_ghz = 3,\n",
    "    n_modes = 3\n",
    "    max_passes = 17,\n",
    "    max_delta_f = 0.1\n",
    ")\n",
    "\n",
    "all_sweeps, return_code = sweep.sweep_one_option_get_eigenmode_solution_data(\n",
    "    bus_02.name,\n",
    "    'total_length',\n",
    "    ['9.75mm', '9.65mm', '9.55mm'],\n",
    "    ['Bus_02', 'Q_0', 'Q_2'],\n",
    "    [],\n",
    "    design_name = \"GetEigenModeSolution\",\n",
    "    setup_args=em_setup_args\n",
    ")"
   ]
  },
  {
   "cell_type": "markdown",
   "id": "1c26c481",
   "metadata": {},
   "source": [
    "The optimum length was found to be 9.6 mm through the sweep and now we want to change the length to that value"
   ]
  },
  {
   "cell_type": "code",
   "execution_count": 30,
   "id": "dd19acb0",
   "metadata": {},
   "outputs": [],
   "source": [
    "bus_02.options.total_length = '9.6mm'"
   ]
  },
  {
   "cell_type": "code",
   "execution_count": null,
   "id": "7c0f4ac4",
   "metadata": {},
   "outputs": [],
   "source": [
    "bus_02_hfss.disconnect_ansys()"
   ]
  },
  {
   "cell_type": "markdown",
   "id": "94f0e923",
   "metadata": {},
   "source": [
    "# Part 2 - EPR, Readout and GDS"
   ]
  },
  {
   "cell_type": "markdown",
   "id": "c077dd25",
   "metadata": {},
   "source": [
    "### Energy Participation Ratio (EPR) Analysis (https://arxiv.org/abs/2010.00620)"
   ]
  },
  {
   "cell_type": "markdown",
   "id": "4c7977f4",
   "metadata": {},
   "source": [
    "We can look at the three mode system of qubits 0 and 1, and bus_01 as a whole, working off some of the previous tuning we have already accomplished. \n",
    "\n",
    "We will first update qubit 1 and bus_01 assuming previous analysis had already been accomplished."
   ]
  },
  {
   "cell_type": "code",
   "execution_count": 25,
   "id": "373d6d06",
   "metadata": {},
   "outputs": [
    {
     "name": "stderr",
     "output_type": "stream",
     "text": [
      "WARNING:py.warnings:c:\\Users\\mohamad\\anaconda3\\envs\\metal22\\lib\\site-packages\\pandas\\core\\dtypes\\cast.py:122: ShapelyDeprecationWarning: The array interface is deprecated and will no longer work in Shapely 2.0. Convert the '.coords' to a numpy array instead.\n",
      "  arr = construct_1d_object_array_from_listlike(values)\n",
      "\n",
      "WARNING:py.warnings:c:\\Users\\mohamad\\anaconda3\\envs\\metal22\\lib\\site-packages\\pandas\\core\\dtypes\\cast.py:122: ShapelyDeprecationWarning: The array interface is deprecated and will no longer work in Shapely 2.0. Convert the '.coords' to a numpy array instead.\n",
      "  arr = construct_1d_object_array_from_listlike(values)\n",
      "\n",
      "WARNING:py.warnings:c:\\Users\\mohamad\\anaconda3\\envs\\metal22\\lib\\site-packages\\pandas\\core\\dtypes\\cast.py:122: ShapelyDeprecationWarning: The array interface is deprecated and will no longer work in Shapely 2.0. Convert the '.coords' to a numpy array instead.\n",
      "  arr = construct_1d_object_array_from_listlike(values)\n",
      "\n",
      "WARNING:py.warnings:c:\\Users\\mohamad\\anaconda3\\envs\\metal22\\lib\\site-packages\\pandas\\core\\dtypes\\cast.py:122: ShapelyDeprecationWarning: The array interface is deprecated and will no longer work in Shapely 2.0. Convert the '.coords' to a numpy array instead.\n",
      "  arr = construct_1d_object_array_from_listlike(values)\n",
      "\n",
      "WARNING:py.warnings:c:\\Users\\mohamad\\anaconda3\\envs\\metal22\\lib\\site-packages\\pandas\\core\\dtypes\\cast.py:122: ShapelyDeprecationWarning: The array interface is deprecated and will no longer work in Shapely 2.0. Convert the '.coords' to a numpy array instead.\n",
      "  arr = construct_1d_object_array_from_listlike(values)\n",
      "\n",
      "WARNING:py.warnings:c:\\Users\\mohamad\\anaconda3\\envs\\metal22\\lib\\site-packages\\pandas\\core\\dtypes\\cast.py:122: ShapelyDeprecationWarning: The array interface is deprecated and will no longer work in Shapely 2.0. Convert the '.coords' to a numpy array instead.\n",
      "  arr = construct_1d_object_array_from_listlike(values)\n",
      "\n",
      "WARNING:py.warnings:c:\\Users\\mohamad\\anaconda3\\envs\\metal22\\lib\\site-packages\\pandas\\core\\dtypes\\cast.py:122: ShapelyDeprecationWarning: The array interface is deprecated and will no longer work in Shapely 2.0. Convert the '.coords' to a numpy array instead.\n",
      "  arr = construct_1d_object_array_from_listlike(values)\n",
      "\n",
      "WARNING:py.warnings:c:\\Users\\mohamad\\anaconda3\\envs\\metal22\\lib\\site-packages\\pandas\\core\\dtypes\\cast.py:122: ShapelyDeprecationWarning: The array interface is deprecated and will no longer work in Shapely 2.0. Convert the '.coords' to a numpy array instead.\n",
      "  arr = construct_1d_object_array_from_listlike(values)\n",
      "\n",
      "WARNING:py.warnings:c:\\Users\\mohamad\\anaconda3\\envs\\metal22\\lib\\site-packages\\pandas\\core\\dtypes\\cast.py:122: ShapelyDeprecationWarning: The array interface is deprecated and will no longer work in Shapely 2.0. Convert the '.coords' to a numpy array instead.\n",
      "  arr = construct_1d_object_array_from_listlike(values)\n",
      "\n",
      "WARNING:py.warnings:c:\\Users\\mohamad\\anaconda3\\envs\\metal22\\lib\\site-packages\\pandas\\core\\dtypes\\cast.py:122: ShapelyDeprecationWarning: The array interface is deprecated and will no longer work in Shapely 2.0. Convert the '.coords' to a numpy array instead.\n",
      "  arr = construct_1d_object_array_from_listlike(values)\n",
      "\n",
      "WARNING:py.warnings:c:\\Users\\mohamad\\anaconda3\\envs\\metal22\\lib\\site-packages\\pandas\\core\\dtypes\\cast.py:122: ShapelyDeprecationWarning: The array interface is deprecated and will no longer work in Shapely 2.0. Convert the '.coords' to a numpy array instead.\n",
      "  arr = construct_1d_object_array_from_listlike(values)\n",
      "\n",
      "WARNING:py.warnings:c:\\Users\\mohamad\\anaconda3\\envs\\metal22\\lib\\site-packages\\pandas\\core\\dtypes\\cast.py:122: ShapelyDeprecationWarning: The array interface is deprecated and will no longer work in Shapely 2.0. Convert the '.coords' to a numpy array instead.\n",
      "  arr = construct_1d_object_array_from_listlike(values)\n",
      "\n",
      "WARNING:py.warnings:c:\\Users\\mohamad\\anaconda3\\envs\\metal22\\lib\\site-packages\\pandas\\core\\dtypes\\cast.py:122: ShapelyDeprecationWarning: The array interface is deprecated and will no longer work in Shapely 2.0. Convert the '.coords' to a numpy array instead.\n",
      "  arr = construct_1d_object_array_from_listlike(values)\n",
      "\n",
      "WARNING:py.warnings:c:\\Users\\mohamad\\anaconda3\\envs\\metal22\\lib\\site-packages\\pandas\\core\\dtypes\\cast.py:122: ShapelyDeprecationWarning: The array interface is deprecated and will no longer work in Shapely 2.0. Convert the '.coords' to a numpy array instead.\n",
      "  arr = construct_1d_object_array_from_listlike(values)\n",
      "\n",
      "11:49AM 53s ERROR [__getitem__]: \n",
      "Warning: User tried to access a variable in the parse options that is not there!\n",
      " Component name = `Q_1`\n",
      " Option name    = `connection_pads.bus_12.cpw_width`\n",
      "11:49AM 53s ERROR [__getitem__]: \n",
      "Warning: User tried to access a variable in the parse options that is not there!\n",
      " Component name = `Q_1`\n",
      " Option name    = `connection_pads.bus_12.cpw_extend`\n",
      "11:49AM 53s ERROR [__getitem__]: \n",
      "Warning: User tried to access a variable in the parse options that is not there!\n",
      " Component name = `Q_1`\n",
      " Option name    = `connection_pads.bus_12.pad_height`\n",
      "11:49AM 53s ERROR [__getitem__]: \n",
      "Warning: User tried to access a variable in the parse options that is not there!\n",
      " Component name = `Q_1`\n",
      " Option name    = `connection_pads.bus_12.pad_cpw_shift`\n",
      "11:49AM 53s ERROR [__getitem__]: \n",
      "Warning: User tried to access a variable in the parse options that is not there!\n",
      " Component name = `Q_1`\n",
      " Option name    = `connection_pads.bus_12.pocket_rise`\n",
      "11:49AM 53s ERROR [__getitem__]: \n",
      "Warning: User tried to access a variable in the parse options that is not there!\n",
      " Component name = `Q_1`\n",
      " Option name    = `connection_pads.bus_12.pocket_extent`\n",
      "11:49AM 53s ERROR [__getitem__]: \n",
      "Warning: User tried to access a variable in the parse options that is not there!\n",
      " Component name = `Q_1`\n",
      " Option name    = `connection_pads.bus_12.loc_W`\n",
      "11:49AM 53s ERROR [rebuild]: ERROR in building component name=Q_1, error=float() argument must be a string or a real number, not 'NoneType'\n"
     ]
    },
    {
     "ename": "TypeError",
     "evalue": "float() argument must be a string or a real number, not 'NoneType'",
     "output_type": "error",
     "traceback": [
      "\u001b[1;31m---------------------------------------------------------------------------\u001b[0m",
      "\u001b[1;31mTypeError\u001b[0m                                 Traceback (most recent call last)",
      "\u001b[1;32mc:\\Users\\mohamad\\github\\qiskit_metal\\qiskit-metal\\QIS_MET_E02.ipynb Cell 107\u001b[0m in \u001b[0;36m<cell line: 7>\u001b[1;34m()\u001b[0m\n\u001b[0;32m      <a href='vscode-notebook-cell:/c%3A/Users/mohamad/github/qiskit_metal/qiskit-metal/QIS_MET_E02.ipynb#Y211sZmlsZQ%3D%3D?line=4'>5</a>\u001b[0m q_1\u001b[39m.\u001b[39moptions\u001b[39m.\u001b[39mhfss_inductance \u001b[39m=\u001b[39m \u001b[39m'\u001b[39m\u001b[39m13.9nH\u001b[39m\u001b[39m'\u001b[39m\n\u001b[0;32m      <a href='vscode-notebook-cell:/c%3A/Users/mohamad/github/qiskit_metal/qiskit-metal/QIS_MET_E02.ipynb#Y211sZmlsZQ%3D%3D?line=5'>6</a>\u001b[0m bus_01\u001b[39m.\u001b[39moptions\u001b[39m.\u001b[39mtotal_length \u001b[39m=\u001b[39m \u001b[39m'\u001b[39m\u001b[39m9.55mm\u001b[39m\u001b[39m'\u001b[39m\n\u001b[1;32m----> <a href='vscode-notebook-cell:/c%3A/Users/mohamad/github/qiskit_metal/qiskit-metal/QIS_MET_E02.ipynb#Y211sZmlsZQ%3D%3D?line=6'>7</a>\u001b[0m gui\u001b[39m.\u001b[39;49mrebuild()\n",
      "File \u001b[1;32mc:\\Users\\mohamad\\github\\qiskit_metal\\qiskit-metal\\qiskit_metal\\_gui\\main_window.py:725\u001b[0m, in \u001b[0;36mMetalGUI.rebuild\u001b[1;34m(self, autoscale)\u001b[0m\n\u001b[0;32m    720\u001b[0m \u001b[39mdef\u001b[39;00m \u001b[39mrebuild\u001b[39m(\u001b[39mself\u001b[39m, autoscale: \u001b[39mbool\u001b[39m \u001b[39m=\u001b[39m \u001b[39mFalse\u001b[39;00m):\n\u001b[0;32m    721\u001b[0m     \u001b[39m\"\"\"\u001b[39;00m\n\u001b[0;32m    722\u001b[0m \u001b[39m    Rebuild all components in the design from scratch and refresh the gui.\u001b[39;00m\n\u001b[0;32m    723\u001b[0m \u001b[39m    \"\"\"\u001b[39;00m\n\u001b[1;32m--> 725\u001b[0m     \u001b[39mself\u001b[39;49m\u001b[39m.\u001b[39;49mdesign\u001b[39m.\u001b[39;49mrebuild()\n\u001b[0;32m    726\u001b[0m     \u001b[39mself\u001b[39m\u001b[39m.\u001b[39mrefresh()\n\u001b[0;32m    727\u001b[0m     \u001b[39mif\u001b[39;00m autoscale:\n",
      "File \u001b[1;32mc:\\Users\\mohamad\\github\\qiskit_metal\\qiskit-metal\\qiskit_metal\\designs\\design_base.py:469\u001b[0m, in \u001b[0;36mQDesign.rebuild\u001b[1;34m(self)\u001b[0m\n\u001b[0;32m    467\u001b[0m \u001b[39m\"\"\"Remakes all components with their current parameters.\"\"\"\u001b[39;00m\n\u001b[0;32m    468\u001b[0m \u001b[39mfor\u001b[39;00m _, obj \u001b[39min\u001b[39;00m \u001b[39mself\u001b[39m\u001b[39m.\u001b[39m_components\u001b[39m.\u001b[39mitems():  \u001b[39m# pylint: disable=unused-variable\u001b[39;00m\n\u001b[1;32m--> 469\u001b[0m     obj\u001b[39m.\u001b[39;49mrebuild()\n",
      "File \u001b[1;32mc:\\Users\\mohamad\\github\\qiskit_metal\\qiskit-metal\\qiskit_metal\\qlibrary\\core\\base.py:724\u001b[0m, in \u001b[0;36mQComponent.rebuild\u001b[1;34m(self)\u001b[0m\n\u001b[0;32m    719\u001b[0m \u001b[39mself\u001b[39m\u001b[39m.\u001b[39mlogger\u001b[39m.\u001b[39merror(\n\u001b[0;32m    720\u001b[0m     \u001b[39mf\u001b[39m\u001b[39m'\u001b[39m\u001b[39mERROR in building component name=\u001b[39m\u001b[39m{\u001b[39;00m\u001b[39mself\u001b[39m\u001b[39m.\u001b[39mname\u001b[39m}\u001b[39;00m\u001b[39m, error=\u001b[39m\u001b[39m{\u001b[39;00merror\u001b[39m}\u001b[39;00m\u001b[39m'\u001b[39m)\n\u001b[0;32m    721\u001b[0m \u001b[39mself\u001b[39m\u001b[39m.\u001b[39mdesign\u001b[39m.\u001b[39mbuild_logs\u001b[39m.\u001b[39madd_error(\n\u001b[0;32m    722\u001b[0m     \u001b[39mf\u001b[39m\u001b[39m\"\u001b[39m\u001b[39m{\u001b[39;00m\u001b[39mstr\u001b[39m(datetime\u001b[39m.\u001b[39mnow())\u001b[39m}\u001b[39;00m\u001b[39m -- Component: \u001b[39m\u001b[39m{\u001b[39;00m\u001b[39mself\u001b[39m\u001b[39m.\u001b[39mname\u001b[39m}\u001b[39;00m\u001b[39m failed with error\u001b[39m\u001b[39m\\n\u001b[39;00m\u001b[39m: \u001b[39m\u001b[39m{\u001b[39;00merror\u001b[39m}\u001b[39;00m\u001b[39m\"\u001b[39m\n\u001b[0;32m    723\u001b[0m )\n\u001b[1;32m--> 724\u001b[0m \u001b[39mraise\u001b[39;00m error\n",
      "File \u001b[1;32mc:\\Users\\mohamad\\github\\qiskit_metal\\qiskit-metal\\qiskit_metal\\qlibrary\\core\\base.py:710\u001b[0m, in \u001b[0;36mQComponent.rebuild\u001b[1;34m(self)\u001b[0m\n\u001b[0;32m    707\u001b[0m     \u001b[39m# pylint: disable=protected-access\u001b[39;00m\n\u001b[0;32m    708\u001b[0m     \u001b[39mself\u001b[39m\u001b[39m.\u001b[39mdesign\u001b[39m.\u001b[39m_delete_all_pins_for_component(\u001b[39mself\u001b[39m\u001b[39m.\u001b[39mid)\n\u001b[1;32m--> 710\u001b[0m \u001b[39mself\u001b[39;49m\u001b[39m.\u001b[39;49mmake()\n\u001b[0;32m    711\u001b[0m \u001b[39mself\u001b[39m\u001b[39m.\u001b[39m_made \u001b[39m=\u001b[39m \u001b[39mTrue\u001b[39;00m\n\u001b[0;32m    712\u001b[0m \u001b[39mself\u001b[39m\u001b[39m.\u001b[39mstatus \u001b[39m=\u001b[39m \u001b[39m'\u001b[39m\u001b[39mgood\u001b[39m\u001b[39m'\u001b[39m\n",
      "File \u001b[1;32mc:\\Users\\mohamad\\github\\qiskit_metal\\qiskit-metal\\qiskit_metal\\qlibrary\\qubits\\transmon_pocket_6.py:155\u001b[0m, in \u001b[0;36mTransmonPocket6.make\u001b[1;34m(self)\u001b[0m\n\u001b[0;32m    146\u001b[0m \u001b[39m\"\"\"Define the way the options are turned into QGeometry.\u001b[39;00m\n\u001b[0;32m    147\u001b[0m \n\u001b[0;32m    148\u001b[0m \u001b[39mThe make function implements the logic that creates the geoemtry\u001b[39;00m\n\u001b[1;32m   (...)\u001b[0m\n\u001b[0;32m    152\u001b[0m \u001b[39minformation, such as layer, subtract, etc.\u001b[39;00m\n\u001b[0;32m    153\u001b[0m \u001b[39m\"\"\"\u001b[39;00m\n\u001b[0;32m    154\u001b[0m \u001b[39mself\u001b[39m\u001b[39m.\u001b[39mmake_pocket()\n\u001b[1;32m--> 155\u001b[0m \u001b[39mself\u001b[39;49m\u001b[39m.\u001b[39;49mmake_connection_pads()\n",
      "File \u001b[1;32mc:\\Users\\mohamad\\github\\qiskit_metal\\qiskit-metal\\qiskit_metal\\qlibrary\\qubits\\transmon_pocket_6.py:200\u001b[0m, in \u001b[0;36mTransmonPocket6.make_connection_pads\u001b[1;34m(self)\u001b[0m\n\u001b[0;32m    198\u001b[0m \u001b[39m\"\"\"Makes standard transmon in a pocket.\"\"\"\u001b[39;00m\n\u001b[0;32m    199\u001b[0m \u001b[39mfor\u001b[39;00m name \u001b[39min\u001b[39;00m \u001b[39mself\u001b[39m\u001b[39m.\u001b[39moptions\u001b[39m.\u001b[39mconnection_pads:\n\u001b[1;32m--> 200\u001b[0m     \u001b[39mself\u001b[39;49m\u001b[39m.\u001b[39;49mmake_connection_pad(name)\n",
      "File \u001b[1;32mc:\\Users\\mohamad\\github\\qiskit_metal\\qiskit-metal\\qiskit_metal\\qlibrary\\qubits\\transmon_pocket_6.py:222\u001b[0m, in \u001b[0;36mTransmonPocket6.make_connection_pad\u001b[1;34m(self, name)\u001b[0m\n\u001b[0;32m    219\u001b[0m pocket_rise \u001b[39m=\u001b[39m pc\u001b[39m.\u001b[39mpocket_rise\n\u001b[0;32m    220\u001b[0m pocket_extent \u001b[39m=\u001b[39m pc\u001b[39m.\u001b[39mpocket_extent\n\u001b[1;32m--> 222\u001b[0m loc_W \u001b[39m=\u001b[39m \u001b[39mfloat\u001b[39;49m(pc\u001b[39m.\u001b[39;49mloc_W)\n\u001b[0;32m    223\u001b[0m loc_W, loc_H \u001b[39m=\u001b[39m \u001b[39mfloat\u001b[39m(pc\u001b[39m.\u001b[39mloc_W), \u001b[39mfloat\u001b[39m(pc\u001b[39m.\u001b[39mloc_H)\n\u001b[0;32m    224\u001b[0m \u001b[39mif\u001b[39;00m \u001b[39mfloat\u001b[39m(loc_W) \u001b[39mnot\u001b[39;00m \u001b[39min\u001b[39;00m [\u001b[39m-\u001b[39m\u001b[39m1.\u001b[39m, \u001b[39m+\u001b[39m\u001b[39m1.\u001b[39m, \u001b[39m0\u001b[39m] \u001b[39mor\u001b[39;00m \u001b[39mfloat\u001b[39m(loc_H) \u001b[39mnot\u001b[39;00m \u001b[39min\u001b[39;00m [\u001b[39m-\u001b[39m\u001b[39m1.\u001b[39m, \u001b[39m+\u001b[39m\u001b[39m1.\u001b[39m]:\n",
      "\u001b[1;31mTypeError\u001b[0m: float() argument must be a string or a real number, not 'NoneType'"
     ]
    }
   ],
   "source": [
    "q_1.options.pad_gap = '28um'\n",
    "q_1.options.connection_pads.readout.pad_gap = '20um'\n",
    "q_1.options.connection_pads.readout.pad_width = '100um'\n",
    "q_1.options.connection_pads.bus_12.pad_width = '130um'\n",
    "q_1.options.hfss_inductance = '13.9nH'\n",
    "bus_01.options.total_length = '9.55mm'\n",
    "gui.rebuild()"
   ]
  },
  {
   "cell_type": "code",
   "execution_count": 33,
   "id": "8a75681a",
   "metadata": {},
   "outputs": [],
   "source": [
    "bus_01_hfss = design.renderers.hfss"
   ]
  },
  {
   "cell_type": "code",
   "execution_count": null,
   "id": "8873c4ef",
   "metadata": {},
   "outputs": [],
   "source": [
    "bus_01_hfss.connect_ansys()"
   ]
  },
  {
   "cell_type": "code",
   "execution_count": null,
   "id": "5bc3b0d2",
   "metadata": {},
   "outputs": [],
   "source": [
    "bus_01_hfss.activate_eigenmode_design('EPR_Q_01')"
   ]
  },
  {
   "cell_type": "markdown",
   "id": "48a6f918",
   "metadata": {},
   "source": [
    "We will look at two modes because we have two qubits, and the bus doesn't have any relevant mode\n",
    "We start with a guess for the passes"
   ]
  },
  {
   "cell_type": "code",
   "execution_count": null,
   "id": "3f9ff891",
   "metadata": {},
   "outputs": [],
   "source": [
    "bus_01_hfss.add_eigenmode_setup(name='EPR_Q_01', n_modes=2, max_passes=18, min_converged=2, max_delta_f=0.1)"
   ]
  },
  {
   "cell_type": "code",
   "execution_count": null,
   "id": "72360fa2",
   "metadata": {},
   "outputs": [],
   "source": [
    "bus_01_hfss.activate_eigenmode_setup('EPR_Sim')"
   ]
  },
  {
   "cell_type": "code",
   "execution_count": null,
   "id": "290c8410",
   "metadata": {},
   "outputs": [],
   "source": [
    "pinfo = bus_01_hfss.pinfo\n",
    "pinfo.design.set_variable('Lj1', q_0.options.hfss_inductance)\n",
    "pinfo.design.set_variable('Cj1', '0 fF')\n",
    "pinfo.design.set_variable('Lj2', q_1.options.hfss_inductance)\n",
    "pinfo.design.set_variable('Cj2', '0 fF')"
   ]
  },
  {
   "cell_type": "code",
   "execution_count": null,
   "id": "fd5e3b65",
   "metadata": {},
   "outputs": [],
   "source": [
    "bus_01_hfss.render_design(selection=['Bus01', 'Q_0', 'Q_1'])"
   ]
  },
  {
   "cell_type": "code",
   "execution_count": null,
   "id": "e2595d61",
   "metadata": {},
   "outputs": [],
   "source": [
    "bus_01_hfss.analyze_setup('EPR_Sim')"
   ]
  },
  {
   "cell_type": "markdown",
   "id": "11dd199c",
   "metadata": {},
   "source": [
    "Plot convergence"
   ]
  },
  {
   "cell_type": "code",
   "execution_count": null,
   "id": "ce83da82",
   "metadata": {},
   "outputs": [],
   "source": [
    "bus_01_hfss.plot_convergences"
   ]
  },
  {
   "cell_type": "markdown",
   "id": "3fba7959",
   "metadata": {},
   "source": [
    "Although these modes appear off, keep in mind that these are the classical modes with out the quantum effects. We do see that the two qubit modes are separated by roughly the desired amount (~200 MHz), which is what we were targeting. We could also again consider looking at the E-fields to confirm the modes of interest are for the correct components.\n",
    "\n",
    "Being happy with the convergence (although this hasn't converged, we will pretend it has for the sake of the tutorial), we can start to look at the analysis. We want to remove the default EPR setup, and add in that which matches our simulation."
   ]
  },
  {
   "cell_type": "code",
   "execution_count": null,
   "id": "89afb67d",
   "metadata": {},
   "outputs": [],
   "source": [
    "import pyEPR as epr\n",
    "eprd = epr.DistributedAnalysis(bus_01_hfss.pinfo)"
   ]
  },
  {
   "cell_type": "code",
   "execution_count": null,
   "id": "ece382f3",
   "metadata": {},
   "outputs": [],
   "source": [
    "pinfo.junctions['jj1'] = {\n",
    "    'Lj_variable': 'Lj1', 'rect': 'JJ_rect_Lj_Q_0_rect_jj', \n",
    "    'line': 'JJ_Lj_Q_0_rect_jj_', 'Cj_variable': 'Cj1'\n",
    "}\n",
    "pinfo.junctions['jj2'] = {\n",
    "    'Lj_variable': 'Lj2', 'rect': 'JJ_rect_Lj_Q_1_rect_jj', \n",
    "    'line': 'JJ_Lj_Q_1_rect_jj_', 'Cj_variable': 'Cj2'\n",
    "}\n",
    "pinfo.validate_junction_info()\n",
    "\n",
    "pinfo.dissipative['dielectrics_bulk'] = ['main']"
   ]
  },
  {
   "cell_type": "markdown",
   "id": "d39afd45",
   "metadata": {},
   "source": [
    "We can first take a quickly look at the field distributions, such as the amount of the elevctric field present in the substrate"
   ]
  },
  {
   "cell_type": "code",
   "execution_count": null,
   "id": "be55b2bf",
   "metadata": {},
   "outputs": [],
   "source": [
    "E_elect = eprd.calc_energy_electric()\n",
    "E_elect_substrate = eprd.calc_energy_electric(None, 'main')\n",
    "E_mag = eprd.calc_energy_magnetic()\n",
    "\n",
    "print(f\"\"\"\n",
    "E_elec_all            = {E_elect}\n",
    "E_elect_substrate     = {E_elect_substrate}\n",
    "EPR of substrate      = {E_elect_substrate/E_elect*100 :.1f}%\n",
    "\n",
    "E_mag_all             = {E_mag}\n",
    "E_mag % of E_elec_all = {E_mag/E_elect*100 :.1f}%\n",
    "\"\"\")"
   ]
  },
  {
   "cell_type": "markdown",
   "id": "89638c9c",
   "metadata": {},
   "source": [
    "We can run the EPR analysis"
   ]
  },
  {
   "cell_type": "code",
   "execution_count": null,
   "id": "0f77838f",
   "metadata": {},
   "outputs": [],
   "source": [
    "eprd.do_EPR_analysis()"
   ]
  },
  {
   "cell_type": "code",
   "execution_count": null,
   "id": "7cb20357",
   "metadata": {},
   "outputs": [],
   "source": [
    "epra = epr.QuantumAnalysis(eprd.data_filename)\n",
    "epra.analyze_all_variations(cos_trunc=8, fock_trunc=7)"
   ]
  },
  {
   "cell_type": "code",
   "execution_count": null,
   "id": "c3cca3c7",
   "metadata": {},
   "outputs": [],
   "source": [
    "swp_variable = \"Lj1\" #  suppose we sweep on optometric analysis vs. inductance Lj_alice\n",
    "epra.plot_hamiltonian_results(swp_variable=swp_variable)\n",
    "epra.report_results(swp_variable=swp_variable, numeric=True)"
   ]
  },
  {
   "cell_type": "code",
   "execution_count": null,
   "id": "a01aedb0",
   "metadata": {},
   "outputs": [],
   "source": [
    "bus_01_hfss.disconnect_ansys()"
   ]
  },
  {
   "cell_type": "markdown",
   "id": "c2120ec8",
   "metadata": {},
   "source": [
    "### Readout tuning and analysis"
   ]
  },
  {
   "cell_type": "markdown",
   "id": "d88ff93f",
   "metadata": {},
   "source": [
    "Two potential approaches that we could consider for tuning of our redout resonators. First, we could follow a similar path as we did previously with the bus tuning, simply render the readout resonators to tune their frequency via eigenmode solutions. Then we could simulate the capacitive couplers in Q3D to extract their capacitance matrix if we know what the capacitance we are aiming for is.\n",
    "\n",
    "Persuming we already did the frequencz tuning, lets jump to looking at sweeping the capacitor finger lengths and extracting the capacitive matrix"
   ]
  },
  {
   "cell_type": "code",
   "execution_count": 27,
   "id": "e999af4d",
   "metadata": {},
   "outputs": [],
   "source": [
    "cap_readout_q_0_q3d = design.renderers.q3d"
   ]
  },
  {
   "cell_type": "code",
   "execution_count": null,
   "id": "3b83bb34",
   "metadata": {},
   "outputs": [],
   "source": [
    "cap_readout_q_0_q3d.connect_ansys()"
   ]
  },
  {
   "cell_type": "code",
   "execution_count": 25,
   "id": "6e8a6135",
   "metadata": {},
   "outputs": [],
   "source": [
    "q3d_setup_args = Dict(\n",
    "    freq_ghz=6.8,\n",
    "    max_passes=15,\n",
    "    min_passes=2,\n",
    "    percent_error=0.25\n",
    ")"
   ]
  },
  {
   "cell_type": "code",
   "execution_count": null,
   "id": "4fbd5d31",
   "metadata": {},
   "outputs": [],
   "source": [
    "# sweep the interdigitated capacitor finger length\n",
    "# open all three pins\n",
    "# get the capacitance matricies of each sweep\n",
    "all_sweeps, return_code = sweep.sweep_one_option_get_capacitance_matrix(\n",
    "    cap_readout_q_0.name,\n",
    "    'finger_length',\n",
    "    ['15um', '20um', '25um'],\n",
    "    ['Cap_Readout_Q_0'],\n",
    "    [('Cap_Readout_Q_0', 'prime_start'), ('Cap_Readout_Q_0', 'prime_end'), ('Cap_Readout_Q_0', 'second_end')],\n",
    "    setup_args = q3d_setup_args,\n",
    "    design_name = 'GetCapacitance'\n",
    ")"
   ]
  },
  {
   "cell_type": "code",
   "execution_count": null,
   "id": "cd836f25",
   "metadata": {},
   "outputs": [],
   "source": [
    "all_sweeps"
   ]
  },
  {
   "cell_type": "markdown",
   "id": "8d850011",
   "metadata": {},
   "source": [
    "From this sweep we can determine what finger length we may need for a desired capacitive coupling, such as a desired value of *7.5fF* would be *~22um* for the *finger_length*"
   ]
  },
  {
   "cell_type": "markdown",
   "id": "51d8ab95",
   "metadata": {},
   "source": [
    "Alternatively, we could setup a driven simulation, and consider the *S31* from the input port to the qubit of interest. This allows for tuning of the readout resonator frequency and the external quality factor more accurately. To do so, we will want to setup a driven render to the full readout chain for qubit 0, setting qubit 0 junction to be an internal port, and adding ports to the ends of the readout transmission line (resulting in a 3 port simulation). It should be noted, this can be a rather time consuming simulation requiring a fair amount of memory"
   ]
  },
  {
   "cell_type": "code",
   "execution_count": 26,
   "id": "c08a0a1a",
   "metadata": {},
   "outputs": [],
   "source": [
    "readout_q_0_hfss = design.renderers.hfss"
   ]
  },
  {
   "cell_type": "code",
   "execution_count": null,
   "id": "1446f8fe",
   "metadata": {},
   "outputs": [],
   "source": [
    "readout_q_0_hfss.connect_ansys()\n",
    "readout_q_0_hfss.add_drivenmodal_design('Readout_Q_0')"
   ]
  },
  {
   "cell_type": "code",
   "execution_count": null,
   "id": "14b5b150",
   "metadata": {},
   "outputs": [],
   "source": [
    "readout_q_0_hfss.add_drivenmodal_setup(name='ReadoutSim', freq_ghz=6.8, max_passes=16, min_converged=2, max_delta_s=0.005, basis_order=-1)"
   ]
  },
  {
   "cell_type": "code",
   "execution_count": null,
   "id": "4c4df022",
   "metadata": {},
   "outputs": [],
   "source": [
    "readout_q_0_hfss.activate_drivenmodal_setup('ReadoutSim')"
   ]
  },
  {
   "cell_type": "code",
   "execution_count": null,
   "id": "410b3b75",
   "metadata": {},
   "outputs": [],
   "source": [
    "# adding a lot of elements\n",
    "render_list = ['Q_0', 'Readout_0', 'TL_Readout_Q_0', 'Cap_readout_Q_0', 'TL_Readout_Q_01', ]\n",
    "\n",
    "# we will not add the launchers, however we will define a 50 ohm empidance\n",
    "port_list = [('TL_Readout_Q_0', 'end', 50), ('TL_Readout_Q_1', 'end', 50)]\n",
    "\n",
    "# replacing the junction with a 50 ohm port\n",
    "jj_to_port_list = [('Q_0', 'rect_jj', 50, True)]"
   ]
  },
  {
   "cell_type": "code",
   "execution_count": null,
   "id": "f61ff623",
   "metadata": {},
   "outputs": [],
   "source": [
    "readout_q_0_hfss.rendere_design(selection= render_list, open_pins=[], port_list=port_list, jj_to_port=jj_to_port_list)"
   ]
  },
  {
   "cell_type": "code",
   "execution_count": null,
   "id": "d7439a87",
   "metadata": {},
   "outputs": [],
   "source": [
    "readout_q_0_hfss.add_sweep(setup_name=\"ReadoutSim\", start_ghz=6, stop_ghz=8, count=2001, name='ReadoutSweep', type='Onterpolating')"
   ]
  },
  {
   "cell_type": "code",
   "execution_count": null,
   "id": "5184c352",
   "metadata": {},
   "outputs": [],
   "source": [
    "readout_q_0_hfss.analyze_sweep('ReadoutSweep', 'ReadoutSim')"
   ]
  },
  {
   "cell_type": "code",
   "execution_count": null,
   "id": "899c5529",
   "metadata": {},
   "outputs": [],
   "source": [
    "readout_q_0_hfss.plot_params(['S23']);"
   ]
  },
  {
   "cell_type": "markdown",
   "id": "ef817eeb",
   "metadata": {},
   "source": [
    "from the simulation result, we can see what the readout resonator for qubit 0's frequency is. Further, we can use the sweep to extract what the external quality factor is by changing *readout_0.options.total_length* and *cap_readout_q_0.options.finger_length*, we can see shift the frequency and external quality factor to be desired value"
   ]
  },
  {
   "cell_type": "code",
   "execution_count": null,
   "id": "e0fdd404",
   "metadata": {},
   "outputs": [],
   "source": [
    "readout_q_0_hfss.disconnect_ansys()"
   ]
  },
  {
   "cell_type": "markdown",
   "id": "40c0233e",
   "metadata": {},
   "source": [
    "### GDS Render"
   ]
  },
  {
   "cell_type": "markdown",
   "id": "8209b0f9",
   "metadata": {},
   "source": [
    "Once we have succesfully tuned all aspects of the chip to the values we were aiming for, we can export (or render) the layout to a GDS File to the fabrication purposes. To do so, we will make an instance of the GDS renderer, modify some options, such as cheesing, make sure we are importing the correct reference file for the junction e-beam layout, and then finally render."
   ]
  },
  {
   "cell_type": "code",
   "execution_count": 27,
   "id": "0dd7278b",
   "metadata": {},
   "outputs": [
    {
     "data": {
      "text/plain": [
       "{'short_segments_to_not_fillet': 'True',\n",
       " 'check_short_segments_by_scaling_fillet': '2.0',\n",
       " 'gds_unit': 0.001,\n",
       " 'ground_plane': 'True',\n",
       " 'negative_mask': {'main': []},\n",
       " 'fabricate': 'False',\n",
       " 'corners': 'circular bend',\n",
       " 'tolerance': '0.00001',\n",
       " 'precision': '0.000000001',\n",
       " 'width_LineString': '10um',\n",
       " 'path_filename': '../resources/Fake_Junctions.GDS',\n",
       " 'junction_pad_overlap': '5um',\n",
       " 'max_points': '199',\n",
       " 'cheese': {'datatype': '100',\n",
       "  'shape': '0',\n",
       "  'cheese_0_x': '25um',\n",
       "  'cheese_0_y': '25um',\n",
       "  'cheese_1_radius': '100um',\n",
       "  'view_in_file': {'main': {1: True}},\n",
       "  'delta_x': '100um',\n",
       "  'delta_y': '100um',\n",
       "  'edge_nocheese': '200um'},\n",
       " 'no_cheese': {'datatype': '99',\n",
       "  'buffer': '25um',\n",
       "  'cap_style': '2',\n",
       "  'join_style': '2',\n",
       "  'view_in_file': {'main': {1: True}}},\n",
       " 'bounding_box_scale_x': '1.2',\n",
       " 'bounding_box_scale_y': '1.2'}"
      ]
     },
     "execution_count": 27,
     "metadata": {},
     "output_type": "execute_result"
    }
   ],
   "source": [
    "mt_gds = design.renderers.gds\n",
    "\n",
    "mt_gds.options"
   ]
  },
  {
   "cell_type": "code",
   "execution_count": 28,
   "id": "66103264",
   "metadata": {},
   "outputs": [],
   "source": [
    "# cheesing is related to vortex pinning sites\n",
    "mt_gds.options.no_cheese.buffer = '40um'\n",
    "mt_gds.options.max_points = 255\n",
    "mt_gds.options.cheese.cheese_0_x = '3um'\n",
    "mt_gds.options.cheese.cheese_0_y = '3um'\n",
    "mt_gds.options.cheese.view_in_files = {'main': {1:True}}"
   ]
  },
  {
   "cell_type": "code",
   "execution_count": 29,
   "id": "333e2839",
   "metadata": {},
   "outputs": [
    {
     "name": "stderr",
     "output_type": "stream",
     "text": [
      "01:10PM 06s WARNING [_import_junctions_to_one_cell]: Not able to find file:\"../resources/Fake_Junctions.GDS\".  Not used to replace junction. Checked directory:\"c:\\Users\\mohamad\\github\\qiskit_metal\\resources\".\n"
     ]
    },
    {
     "data": {
      "text/plain": [
       "1"
      ]
     },
     "execution_count": 29,
     "metadata": {},
     "output_type": "execute_result"
    }
   ],
   "source": [
    "mt_gds.export_to_gds(\"MetalTutorial.gds\")"
   ]
  },
  {
   "cell_type": "code",
   "execution_count": null,
   "id": "57c08228",
   "metadata": {},
   "outputs": [],
   "source": []
  }
 ],
 "metadata": {
  "kernelspec": {
   "display_name": "Python 3.10.5 ('metal22')",
   "language": "python",
   "name": "python3"
  },
  "language_info": {
   "codemirror_mode": {
    "name": "ipython",
    "version": 3
   },
   "file_extension": ".py",
   "mimetype": "text/x-python",
   "name": "python",
   "nbconvert_exporter": "python",
   "pygments_lexer": "ipython3",
   "version": "3.10.5"
  },
  "vscode": {
   "interpreter": {
    "hash": "f6d36c2f509a16dbf559eb3481fe9198457a40d350099f0e97a2fe5ec37c72fc"
   }
  }
 },
 "nbformat": 4,
 "nbformat_minor": 5
}
