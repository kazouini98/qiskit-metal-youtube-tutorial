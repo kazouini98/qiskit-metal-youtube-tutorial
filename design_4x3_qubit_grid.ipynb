{
 "cells": [
  {
   "cell_type": "code",
   "execution_count": 51,
   "metadata": {},
   "outputs": [],
   "source": [
    "import numpy as np\n",
    "from collections import OrderedDict\n",
    "\n",
    "import qiskit_metal as metal\n",
    "from qiskit_metal import designs, draw\n",
    "from qiskit_metal import MetalGUI, Dict, open_docs"
   ]
  },
  {
   "cell_type": "code",
   "execution_count": 52,
   "metadata": {},
   "outputs": [],
   "source": [
    "# Creating the chip\n",
    "design = designs.DesignPlanar()\n",
    "gui = MetalGUI(design)\n",
    "\n",
    "# allowing overwrite\n",
    "design.overwrite_enabled = True"
   ]
  },
  {
   "cell_type": "markdown",
   "metadata": {},
   "source": [
    "# Construct"
   ]
  },
  {
   "cell_type": "code",
   "execution_count": 53,
   "metadata": {},
   "outputs": [],
   "source": [
    "# importing the qubit\n",
    "from qiskit_metal.qlibrary.qubits.transmon_pocket import TransmonPocket\n",
    "\n",
    "# importing the meander resonator\n",
    "from qiskit_metal.qlibrary.tlines.meandered import RouteMeander"
   ]
  },
  {
   "cell_type": "code",
   "execution_count": 54,
   "metadata": {},
   "outputs": [],
   "source": [
    "# assigning the grid size\n",
    "n_x = 4\n",
    "n_y = 3"
   ]
  },
  {
   "cell_type": "code",
   "execution_count": 55,
   "metadata": {},
   "outputs": [],
   "source": [
    "# changing the chip size\n",
    "design.chips.main.size.size_x = str((n_x+1)*3)+'mm'\n",
    "design.chips.main.size.size_x = str((n_y+1)*3)+'mm'\n",
    "\n",
    "design.chips.main.size.center_x = str((n_x-1)*1.5)+'mm'\n",
    "design.chips.main.size.center_y = str((n_y-1)*1.5)+'mm'"
   ]
  },
  {
   "cell_type": "code",
   "execution_count": null,
   "metadata": {},
   "outputs": [],
   "source": [
    "# to draw the qubits we will use two for loops\n",
    "for x in range(n_x):\n",
    "    for y in range(n_y):\n",
    "        options = dict(\n",
    "            pos_x=str(x*3000)+'um',\n",
    "            pos_y=str(y*3000 + (x%2)*1500)+'um',\n",
    "            orientation='-90',\n",
    "            connection_pads= dict(\n",
    "                b0 = dict(loc_W=-1, loc_H=-1, pad_width='75um'),\n",
    "                b1 = dict(loc_W=-1, loc_H=+1, pad_width='120um'),\n",
    "                b2 = dict(loc_W=+1, loc_H=-1, pad_width='120um'),\n",
    "                b3 = dict(loc_W=+1, loc_H=+1, pad_width='90um')\n",
    "            )\n",
    "        )\n",
    "\n",
    "        obj = TransmonPocket(design, 'Q'+str(x)+'_'+str(y), options)\n",
    "\n",
    "gui.rebuild()\n",
    "gui.autoscale()"
   ]
  },
  {
   "cell_type": "code",
   "execution_count": null,
   "metadata": {},
   "outputs": [],
   "source": [
    "# connecting the qubits\n",
    "for x in range(n_x):\n",
    "    for y in range(n_y):\n",
    "        if y<(n_y-1):\n",
    "            options = dict(\n",
    "                total_length=str(7+(y%2)*0.5)+'mm',\n",
    "                fillet='99um',\n",
    "                lead= dict(\n",
    "                    start_straight='0.5mm',\n",
    "                    end_straight='0.25mm'\n",
    "                ),\n",
    "                meander=dict(asymmetry='-700um'),\n",
    "                pin_inputs=dict(\n",
    "                    start_pin=dict(\n",
    "                        component='Q'+str(x)+'_'+str(y),\n",
    "                        pin='b0'\n",
    "                    ),\n",
    "                    end_pin=dict(\n",
    "                        component='Q'+str(x)+'_'+str(y+1),\n",
    "                        pin='b3'\n",
    "                    )\n",
    "                )\n",
    "            )\n",
    "            connectorAD = RouteMeander(design, 'CU'+str(x)+'_'+str(y),options)\n",
    "        \n",
    "        if x<(n_x-1) and (not(x%2 and y==(n_y-1))):\n",
    "            options = dict(\n",
    "                total_length=str(6+(y%2)*0.5)+'mm',\n",
    "                fillet='99um',\n",
    "                lead= dict(\n",
    "                    start_straight='0.3mm',\n",
    "                    end_straight='0.25mm'\n",
    "                ),\n",
    "                meander=dict(asymmetry='-200um'),\n",
    "                pin_inputs=dict(\n",
    "                    start_pin=dict(\n",
    "                        component='Q'+str(x)+'_'+str(y),\n",
    "                        pin='b1'\n",
    "                    ),\n",
    "                    end_pin=dict(\n",
    "                        component='Q'+str(x+1)+'_'+str(y+(x%2)),\n",
    "                        pin='b2'\n",
    "                    )\n",
    "                )\n",
    "            )\n",
    "            connectorBC = RouteMeander(design,'CS'+str(x)+'_'+str(y), options)\n",
    "\n",
    "gui.rebuild()\n",
    "gui.autoscale()"
   ]
  },
  {
   "cell_type": "markdown",
   "metadata": {},
   "source": [
    "# Analyze"
   ]
  },
  {
   "cell_type": "code",
   "execution_count": 58,
   "metadata": {},
   "outputs": [],
   "source": [
    "from qiskit_metal.analyses.quantization import LOManalysis\n",
    "c1 = LOManalysis(design, 'q3d')"
   ]
  },
  {
   "cell_type": "code",
   "execution_count": null,
   "metadata": {},
   "outputs": [],
   "source": [
    "c1.sim.setup"
   ]
  },
  {
   "cell_type": "code",
   "execution_count": null,
   "metadata": {},
   "outputs": [],
   "source": [
    "# Changing name of setup and increase passes\n",
    "c1.sim.setup.name = \"LOM\"\n",
    "c1.sim.setup.max_passes = 14\n",
    "\n",
    "c1.sim.setup"
   ]
  },
  {
   "cell_type": "code",
   "execution_count": null,
   "metadata": {},
   "outputs": [],
   "source": [
    "# simulating only one qubit\n",
    "c1.sim.run(components=['Q0_0'], open_terminations=[('Q0_0', 'b0'), ('Q0_0', 'b1'), ('Q0_0', 'b2'), ('Q0_0', 'b3')])"
   ]
  },
  {
   "cell_type": "code",
   "execution_count": null,
   "metadata": {},
   "outputs": [],
   "source": [
    "# we use the result of the simulation to complete the LOM analysis\n",
    "c1.setup.junctions = Dict({'Lj': 12.31, 'Cj': 2})\n",
    "c1.setup.freq_readout = 6.6\n",
    "c1.setup.freq_bus = [6.0, 6.2,6.4]\n",
    "\n",
    "c1.run_lom()"
   ]
  },
  {
   "cell_type": "code",
   "execution_count": null,
   "metadata": {},
   "outputs": [],
   "source": [
    "# Finally we close the simulation\n",
    "c1.sim.close()"
   ]
  },
  {
   "cell_type": "markdown",
   "metadata": {},
   "source": [
    "# GDS"
   ]
  },
  {
   "cell_type": "code",
   "execution_count": null,
   "metadata": {},
   "outputs": [],
   "source": [
    "chip_gds = design.renderers.gds\n",
    "chip_gds.options"
   ]
  },
  {
   "cell_type": "code",
   "execution_count": 60,
   "metadata": {},
   "outputs": [],
   "source": [
    "chip_gds.options['no_cheese']['buffer'] = '50um'\n",
    "chip_gds.options['path_filename'] = '../../resources/Fake_Junctions.GDS'"
   ]
  },
  {
   "cell_type": "code",
   "execution_count": null,
   "metadata": {},
   "outputs": [],
   "source": [
    "chip_gds.export_to_gds(f\"{n_x}x{n_y}_Chip.gds\")"
   ]
  }
 ],
 "metadata": {
  "kernelspec": {
   "display_name": "Python 3.10.5 ('metal22')",
   "language": "python",
   "name": "python3"
  },
  "language_info": {
   "codemirror_mode": {
    "name": "ipython",
    "version": 3
   },
   "file_extension": ".py",
   "mimetype": "text/x-python",
   "name": "python",
   "nbconvert_exporter": "python",
   "pygments_lexer": "ipython3",
   "version": "3.10.5"
  },
  "orig_nbformat": 4,
  "vscode": {
   "interpreter": {
    "hash": "f6d36c2f509a16dbf559eb3481fe9198457a40d350099f0e97a2fe5ec37c72fc"
   }
  }
 },
 "nbformat": 4,
 "nbformat_minor": 2
}
