{
 "cells": [
  {
   "cell_type": "markdown",
   "id": "ba10bad3",
   "metadata": {},
   "source": [
    "# Using and Creating Design Components"
   ]
  },
  {
   "cell_type": "code",
   "execution_count": 1,
   "id": "8ac544e5",
   "metadata": {},
   "outputs": [],
   "source": [
    "%load_ext autoreload\n",
    "%autoreload 2\n",
    "import qiskit_metal as metal\n",
    "from qiskit_metal import designs, draw\n",
    "from qiskit_metal import MetalGUI, Dict"
   ]
  },
  {
   "cell_type": "markdown",
   "id": "c4e5fe55",
   "metadata": {},
   "source": [
    "Create a design and open the GUI"
   ]
  },
  {
   "cell_type": "code",
   "execution_count": 2,
   "id": "72bab6af",
   "metadata": {},
   "outputs": [],
   "source": [
    "design = designs.DesignPlanar()\n",
    "design.overwrite_enabled = True\n",
    "gui = MetalGUI(design)"
   ]
  },
  {
   "cell_type": "markdown",
   "id": "e0ce1ddc",
   "metadata": {},
   "source": [
    "### One Sample qcomponent"
   ]
  },
  {
   "cell_type": "code",
   "execution_count": 3,
   "id": "955b8157",
   "metadata": {},
   "outputs": [
    {
     "name": "stderr",
     "output_type": "stream",
     "text": [
      "WARNING:py.warnings:c:\\Users\\mohamad\\anaconda3\\envs\\metal22\\lib\\site-packages\\pandas\\core\\dtypes\\cast.py:122: ShapelyDeprecationWarning: The array interface is deprecated and will no longer work in Shapely 2.0. Convert the '.coords' to a numpy array instead.\n",
      "  arr = construct_1d_object_array_from_listlike(values)\n",
      "\n",
      "WARNING:py.warnings:c:\\Users\\mohamad\\anaconda3\\envs\\metal22\\lib\\site-packages\\pandas\\core\\dtypes\\cast.py:122: ShapelyDeprecationWarning: The array interface is deprecated and will no longer work in Shapely 2.0. Convert the '.coords' to a numpy array instead.\n",
      "  arr = construct_1d_object_array_from_listlike(values)\n",
      "\n",
      "WARNING:py.warnings:c:\\Users\\mohamad\\anaconda3\\envs\\metal22\\lib\\site-packages\\pandas\\core\\dtypes\\cast.py:122: ShapelyDeprecationWarning: The array interface is deprecated and will no longer work in Shapely 2.0. Convert the '.coords' to a numpy array instead.\n",
      "  arr = construct_1d_object_array_from_listlike(values)\n",
      "\n",
      "WARNING:py.warnings:c:\\Users\\mohamad\\anaconda3\\envs\\metal22\\lib\\site-packages\\pandas\\core\\dtypes\\cast.py:122: ShapelyDeprecationWarning: The array interface is deprecated and will no longer work in Shapely 2.0. Convert the '.coords' to a numpy array instead.\n",
      "  arr = construct_1d_object_array_from_listlike(values)\n",
      "\n",
      "WARNING:py.warnings:c:\\Users\\mohamad\\anaconda3\\envs\\metal22\\lib\\site-packages\\pandas\\core\\dtypes\\cast.py:122: ShapelyDeprecationWarning: The array interface is deprecated and will no longer work in Shapely 2.0. Convert the '.coords' to a numpy array instead.\n",
      "  arr = construct_1d_object_array_from_listlike(values)\n",
      "\n",
      "WARNING:py.warnings:c:\\Users\\mohamad\\anaconda3\\envs\\metal22\\lib\\site-packages\\pandas\\core\\dtypes\\cast.py:122: ShapelyDeprecationWarning: The array interface is deprecated and will no longer work in Shapely 2.0. Convert the '.coords' to a numpy array instead.\n",
      "  arr = construct_1d_object_array_from_listlike(values)\n",
      "\n",
      "WARNING:py.warnings:c:\\Users\\mohamad\\anaconda3\\envs\\metal22\\lib\\site-packages\\pandas\\core\\dtypes\\cast.py:122: ShapelyDeprecationWarning: The array interface is deprecated and will no longer work in Shapely 2.0. Convert the '.coords' to a numpy array instead.\n",
      "  arr = construct_1d_object_array_from_listlike(values)\n",
      "\n",
      "WARNING:py.warnings:c:\\Users\\mohamad\\anaconda3\\envs\\metal22\\lib\\site-packages\\pandas\\core\\dtypes\\cast.py:122: ShapelyDeprecationWarning: The array interface is deprecated and will no longer work in Shapely 2.0. Convert the '.coords' to a numpy array instead.\n",
      "  arr = construct_1d_object_array_from_listlike(values)\n",
      "\n",
      "WARNING:py.warnings:c:\\Users\\mohamad\\anaconda3\\envs\\metal22\\lib\\site-packages\\pandas\\core\\dtypes\\cast.py:122: ShapelyDeprecationWarning: The array interface is deprecated and will no longer work in Shapely 2.0. Convert the '.coords' to a numpy array instead.\n",
      "  arr = construct_1d_object_array_from_listlike(values)\n",
      "\n",
      "WARNING:py.warnings:c:\\Users\\mohamad\\anaconda3\\envs\\metal22\\lib\\site-packages\\pandas\\core\\dtypes\\cast.py:122: ShapelyDeprecationWarning: The array interface is deprecated and will no longer work in Shapely 2.0. Convert the '.coords' to a numpy array instead.\n",
      "  arr = construct_1d_object_array_from_listlike(values)\n",
      "\n",
      "WARNING:py.warnings:c:\\Users\\mohamad\\anaconda3\\envs\\metal22\\lib\\site-packages\\pandas\\core\\dtypes\\cast.py:122: ShapelyDeprecationWarning: The array interface is deprecated and will no longer work in Shapely 2.0. Convert the '.coords' to a numpy array instead.\n",
      "  arr = construct_1d_object_array_from_listlike(values)\n",
      "\n",
      "WARNING:py.warnings:c:\\Users\\mohamad\\anaconda3\\envs\\metal22\\lib\\site-packages\\pandas\\core\\dtypes\\cast.py:122: ShapelyDeprecationWarning: The array interface is deprecated and will no longer work in Shapely 2.0. Convert the '.coords' to a numpy array instead.\n",
      "  arr = construct_1d_object_array_from_listlike(values)\n",
      "\n",
      "WARNING:py.warnings:c:\\Users\\mohamad\\anaconda3\\envs\\metal22\\lib\\site-packages\\pandas\\core\\dtypes\\cast.py:122: ShapelyDeprecationWarning: The array interface is deprecated and will no longer work in Shapely 2.0. Convert the '.coords' to a numpy array instead.\n",
      "  arr = construct_1d_object_array_from_listlike(values)\n",
      "\n",
      "WARNING:py.warnings:c:\\Users\\mohamad\\anaconda3\\envs\\metal22\\lib\\site-packages\\pandas\\core\\dtypes\\cast.py:122: ShapelyDeprecationWarning: The array interface is deprecated and will no longer work in Shapely 2.0. Convert the '.coords' to a numpy array instead.\n",
      "  arr = construct_1d_object_array_from_listlike(values)\n",
      "\n",
      "WARNING:py.warnings:c:\\Users\\mohamad\\anaconda3\\envs\\metal22\\lib\\site-packages\\pandas\\core\\dtypes\\cast.py:122: ShapelyDeprecationWarning: The array interface is deprecated and will no longer work in Shapely 2.0. Convert the '.coords' to a numpy array instead.\n",
      "  arr = construct_1d_object_array_from_listlike(values)\n",
      "\n",
      "WARNING:py.warnings:c:\\Users\\mohamad\\anaconda3\\envs\\metal22\\lib\\site-packages\\pandas\\core\\dtypes\\cast.py:122: ShapelyDeprecationWarning: The array interface is deprecated and will no longer work in Shapely 2.0. Convert the '.coords' to a numpy array instead.\n",
      "  arr = construct_1d_object_array_from_listlike(values)\n",
      "\n",
      "WARNING:py.warnings:c:\\Users\\mohamad\\anaconda3\\envs\\metal22\\lib\\site-packages\\pandas\\core\\dtypes\\cast.py:122: ShapelyDeprecationWarning: The array interface is deprecated and will no longer work in Shapely 2.0. Convert the '.coords' to a numpy array instead.\n",
      "  arr = construct_1d_object_array_from_listlike(values)\n",
      "\n",
      "WARNING:py.warnings:c:\\Users\\mohamad\\anaconda3\\envs\\metal22\\lib\\site-packages\\pandas\\core\\dtypes\\cast.py:122: ShapelyDeprecationWarning: The array interface is deprecated and will no longer work in Shapely 2.0. Convert the '.coords' to a numpy array instead.\n",
      "  arr = construct_1d_object_array_from_listlike(values)\n",
      "\n"
     ]
    }
   ],
   "source": [
    "from qiskit_metal.qlibrary.qubits.transmon_pocket import TransmonPocket\n",
    "\n",
    "q1options = dict(\n",
    "    connection_pads=dict( # pin connectors\n",
    "        a = dict(loc_W=+1,loc_H=+1),\n",
    "        b = dict(loc_W=-1,loc_H=+1),\n",
    "        c = dict(loc_W=+1,loc_H=-1),\n",
    "        d = dict(loc_W=-1,loc_H=-1)\n",
    "    )\n",
    ")\n",
    "\n",
    "q1 = TransmonPocket(design, options = q1options) # tells to plot the transmon in specific design, and with specific options\n",
    "\n",
    "gui.rebuild()  # update the GUI\n",
    "gui.autoscale()  # autoscale the GUI"
   ]
  },
  {
   "cell_type": "markdown",
   "id": "96a86ce5",
   "metadata": {},
   "source": [
    "The QComponent interface (default_options) is \"extended\" with options defined by the renderers, based on their need for simulation/analysis"
   ]
  },
  {
   "cell_type": "code",
   "execution_count": 4,
   "id": "053d07af",
   "metadata": {},
   "outputs": [
    {
     "data": {
      "text/plain": [
       "{'pad_gap': '30um',\n",
       " 'inductor_width': '20um',\n",
       " 'pad_width': '455um',\n",
       " 'pad_height': '90um',\n",
       " 'pocket_width': '650um',\n",
       " 'pocket_height': '650um',\n",
       " '_default_connection_pads': {'pad_gap': '15um',\n",
       "  'pad_width': '125um',\n",
       "  'pad_height': '30um',\n",
       "  'pad_cpw_shift': '5um',\n",
       "  'pad_cpw_extent': '25um',\n",
       "  'cpw_width': 'cpw_width',\n",
       "  'cpw_gap': 'cpw_gap',\n",
       "  'cpw_extend': '100um',\n",
       "  'pocket_extent': '5um',\n",
       "  'pocket_rise': '65um',\n",
       "  'loc_W': '+1',\n",
       "  'loc_H': '+1'}}"
      ]
     },
     "execution_count": 4,
     "metadata": {},
     "output_type": "execute_result"
    }
   ],
   "source": [
    "q1.default_options"
   ]
  },
  {
   "cell_type": "code",
   "execution_count": 5,
   "id": "6f35dcbc",
   "metadata": {},
   "outputs": [
    {
     "data": {
      "text/plain": [
       "{'pos_x': '0.0um',\n",
       " 'pos_y': '0.0um',\n",
       " 'orientation': '0.0',\n",
       " 'chip': 'main',\n",
       " 'layer': '1',\n",
       " 'connection_pads': {'a': {'pad_gap': '15um',\n",
       "   'pad_width': '125um',\n",
       "   'pad_height': '30um',\n",
       "   'pad_cpw_shift': '5um',\n",
       "   'pad_cpw_extent': '25um',\n",
       "   'cpw_width': 'cpw_width',\n",
       "   'cpw_gap': 'cpw_gap',\n",
       "   'cpw_extend': '100um',\n",
       "   'pocket_extent': '5um',\n",
       "   'pocket_rise': '65um',\n",
       "   'loc_W': 1,\n",
       "   'loc_H': 1},\n",
       "  'b': {'pad_gap': '15um',\n",
       "   'pad_width': '125um',\n",
       "   'pad_height': '30um',\n",
       "   'pad_cpw_shift': '5um',\n",
       "   'pad_cpw_extent': '25um',\n",
       "   'cpw_width': 'cpw_width',\n",
       "   'cpw_gap': 'cpw_gap',\n",
       "   'cpw_extend': '100um',\n",
       "   'pocket_extent': '5um',\n",
       "   'pocket_rise': '65um',\n",
       "   'loc_W': -1,\n",
       "   'loc_H': 1},\n",
       "  'c': {'pad_gap': '15um',\n",
       "   'pad_width': '125um',\n",
       "   'pad_height': '30um',\n",
       "   'pad_cpw_shift': '5um',\n",
       "   'pad_cpw_extent': '25um',\n",
       "   'cpw_width': 'cpw_width',\n",
       "   'cpw_gap': 'cpw_gap',\n",
       "   'cpw_extend': '100um',\n",
       "   'pocket_extent': '5um',\n",
       "   'pocket_rise': '65um',\n",
       "   'loc_W': 1,\n",
       "   'loc_H': -1},\n",
       "  'd': {'pad_gap': '15um',\n",
       "   'pad_width': '125um',\n",
       "   'pad_height': '30um',\n",
       "   'pad_cpw_shift': '5um',\n",
       "   'pad_cpw_extent': '25um',\n",
       "   'cpw_width': 'cpw_width',\n",
       "   'cpw_gap': 'cpw_gap',\n",
       "   'cpw_extend': '100um',\n",
       "   'pocket_extent': '5um',\n",
       "   'pocket_rise': '65um',\n",
       "   'loc_W': -1,\n",
       "   'loc_H': -1}},\n",
       " 'pad_gap': '30um',\n",
       " 'inductor_width': '20um',\n",
       " 'pad_width': '455um',\n",
       " 'pad_height': '90um',\n",
       " 'pocket_width': '650um',\n",
       " 'pocket_height': '650um',\n",
       " 'hfss_wire_bonds': False,\n",
       " 'q3d_wire_bonds': False,\n",
       " 'hfss_inductance': '10nH',\n",
       " 'hfss_capacitance': 0,\n",
       " 'hfss_resistance': 0,\n",
       " 'hfss_mesh_kw_jj': 7e-06,\n",
       " 'q3d_inductance': '10nH',\n",
       " 'q3d_capacitance': 0,\n",
       " 'q3d_resistance': 0,\n",
       " 'q3d_mesh_kw_jj': 7e-06,\n",
       " 'gds_cell_name': 'my_other_junction'}"
      ]
     },
     "execution_count": 5,
     "metadata": {},
     "output_type": "execute_result"
    }
   ],
   "source": [
    "# longer list of functions (default + renderers options)\n",
    "q1.options"
   ]
  },
  {
   "cell_type": "code",
   "execution_count": 6,
   "id": "127f6b90",
   "metadata": {},
   "outputs": [
    {
     "name": "stderr",
     "output_type": "stream",
     "text": [
      "WARNING:py.warnings:c:\\Users\\mohamad\\anaconda3\\envs\\metal22\\lib\\site-packages\\pandas\\core\\dtypes\\cast.py:122: ShapelyDeprecationWarning: The array interface is deprecated and will no longer work in Shapely 2.0. Convert the '.coords' to a numpy array instead.\n",
      "  arr = construct_1d_object_array_from_listlike(values)\n",
      "\n",
      "WARNING:py.warnings:c:\\Users\\mohamad\\anaconda3\\envs\\metal22\\lib\\site-packages\\pandas\\core\\dtypes\\cast.py:122: ShapelyDeprecationWarning: The array interface is deprecated and will no longer work in Shapely 2.0. Convert the '.coords' to a numpy array instead.\n",
      "  arr = construct_1d_object_array_from_listlike(values)\n",
      "\n",
      "WARNING:py.warnings:c:\\Users\\mohamad\\anaconda3\\envs\\metal22\\lib\\site-packages\\pandas\\core\\dtypes\\cast.py:122: ShapelyDeprecationWarning: The array interface is deprecated and will no longer work in Shapely 2.0. Convert the '.coords' to a numpy array instead.\n",
      "  arr = construct_1d_object_array_from_listlike(values)\n",
      "\n",
      "WARNING:py.warnings:c:\\Users\\mohamad\\anaconda3\\envs\\metal22\\lib\\site-packages\\pandas\\core\\dtypes\\cast.py:122: ShapelyDeprecationWarning: The array interface is deprecated and will no longer work in Shapely 2.0. Convert the '.coords' to a numpy array instead.\n",
      "  arr = construct_1d_object_array_from_listlike(values)\n",
      "\n",
      "WARNING:py.warnings:c:\\Users\\mohamad\\anaconda3\\envs\\metal22\\lib\\site-packages\\pandas\\core\\dtypes\\cast.py:122: ShapelyDeprecationWarning: The array interface is deprecated and will no longer work in Shapely 2.0. Convert the '.coords' to a numpy array instead.\n",
      "  arr = construct_1d_object_array_from_listlike(values)\n",
      "\n",
      "WARNING:py.warnings:c:\\Users\\mohamad\\anaconda3\\envs\\metal22\\lib\\site-packages\\pandas\\core\\dtypes\\cast.py:122: ShapelyDeprecationWarning: The array interface is deprecated and will no longer work in Shapely 2.0. Convert the '.coords' to a numpy array instead.\n",
      "  arr = construct_1d_object_array_from_listlike(values)\n",
      "\n",
      "WARNING:py.warnings:c:\\Users\\mohamad\\anaconda3\\envs\\metal22\\lib\\site-packages\\pandas\\core\\dtypes\\cast.py:122: ShapelyDeprecationWarning: The array interface is deprecated and will no longer work in Shapely 2.0. Convert the '.coords' to a numpy array instead.\n",
      "  arr = construct_1d_object_array_from_listlike(values)\n",
      "\n",
      "WARNING:py.warnings:c:\\Users\\mohamad\\anaconda3\\envs\\metal22\\lib\\site-packages\\pandas\\core\\dtypes\\cast.py:122: ShapelyDeprecationWarning: The array interface is deprecated and will no longer work in Shapely 2.0. Convert the '.coords' to a numpy array instead.\n",
      "  arr = construct_1d_object_array_from_listlike(values)\n",
      "\n",
      "WARNING:py.warnings:c:\\Users\\mohamad\\anaconda3\\envs\\metal22\\lib\\site-packages\\pandas\\core\\dtypes\\cast.py:122: ShapelyDeprecationWarning: The array interface is deprecated and will no longer work in Shapely 2.0. Convert the '.coords' to a numpy array instead.\n",
      "  arr = construct_1d_object_array_from_listlike(values)\n",
      "\n"
     ]
    }
   ],
   "source": [
    "# rename the qubit\n",
    "design.rename_component(q1.id, \"Q1\")\n",
    "\n",
    "gui.rebuild()\n",
    "gui.autoscale()"
   ]
  },
  {
   "cell_type": "markdown",
   "id": "041552de",
   "metadata": {},
   "source": [
    "## Example connecting QComponents - Nets"
   ]
  },
  {
   "cell_type": "markdown",
   "id": "cf392257",
   "metadata": {},
   "source": [
    "Let's move the Qbit to the left and create an identical one to the right"
   ]
  },
  {
   "cell_type": "code",
   "execution_count": 7,
   "id": "f11a0a01",
   "metadata": {},
   "outputs": [],
   "source": [
    "q1.options.pos_x='-1.5mm'"
   ]
  },
  {
   "cell_type": "code",
   "execution_count": 8,
   "id": "e9ed836f",
   "metadata": {},
   "outputs": [
    {
     "name": "stderr",
     "output_type": "stream",
     "text": [
      "WARNING:py.warnings:c:\\Users\\mohamad\\anaconda3\\envs\\metal22\\lib\\site-packages\\pandas\\core\\dtypes\\cast.py:122: ShapelyDeprecationWarning: The array interface is deprecated and will no longer work in Shapely 2.0. Convert the '.coords' to a numpy array instead.\n",
      "  arr = construct_1d_object_array_from_listlike(values)\n",
      "\n",
      "WARNING:py.warnings:c:\\Users\\mohamad\\anaconda3\\envs\\metal22\\lib\\site-packages\\pandas\\core\\dtypes\\cast.py:122: ShapelyDeprecationWarning: The array interface is deprecated and will no longer work in Shapely 2.0. Convert the '.coords' to a numpy array instead.\n",
      "  arr = construct_1d_object_array_from_listlike(values)\n",
      "\n",
      "WARNING:py.warnings:c:\\Users\\mohamad\\anaconda3\\envs\\metal22\\lib\\site-packages\\pandas\\core\\dtypes\\cast.py:122: ShapelyDeprecationWarning: The array interface is deprecated and will no longer work in Shapely 2.0. Convert the '.coords' to a numpy array instead.\n",
      "  arr = construct_1d_object_array_from_listlike(values)\n",
      "\n",
      "WARNING:py.warnings:c:\\Users\\mohamad\\anaconda3\\envs\\metal22\\lib\\site-packages\\pandas\\core\\dtypes\\cast.py:122: ShapelyDeprecationWarning: The array interface is deprecated and will no longer work in Shapely 2.0. Convert the '.coords' to a numpy array instead.\n",
      "  arr = construct_1d_object_array_from_listlike(values)\n",
      "\n",
      "WARNING:py.warnings:c:\\Users\\mohamad\\anaconda3\\envs\\metal22\\lib\\site-packages\\pandas\\core\\dtypes\\cast.py:122: ShapelyDeprecationWarning: The array interface is deprecated and will no longer work in Shapely 2.0. Convert the '.coords' to a numpy array instead.\n",
      "  arr = construct_1d_object_array_from_listlike(values)\n",
      "\n",
      "WARNING:py.warnings:c:\\Users\\mohamad\\anaconda3\\envs\\metal22\\lib\\site-packages\\pandas\\core\\dtypes\\cast.py:122: ShapelyDeprecationWarning: The array interface is deprecated and will no longer work in Shapely 2.0. Convert the '.coords' to a numpy array instead.\n",
      "  arr = construct_1d_object_array_from_listlike(values)\n",
      "\n",
      "WARNING:py.warnings:c:\\Users\\mohamad\\anaconda3\\envs\\metal22\\lib\\site-packages\\pandas\\core\\dtypes\\cast.py:122: ShapelyDeprecationWarning: The array interface is deprecated and will no longer work in Shapely 2.0. Convert the '.coords' to a numpy array instead.\n",
      "  arr = construct_1d_object_array_from_listlike(values)\n",
      "\n",
      "WARNING:py.warnings:c:\\Users\\mohamad\\anaconda3\\envs\\metal22\\lib\\site-packages\\pandas\\core\\dtypes\\cast.py:122: ShapelyDeprecationWarning: The array interface is deprecated and will no longer work in Shapely 2.0. Convert the '.coords' to a numpy array instead.\n",
      "  arr = construct_1d_object_array_from_listlike(values)\n",
      "\n",
      "WARNING:py.warnings:c:\\Users\\mohamad\\anaconda3\\envs\\metal22\\lib\\site-packages\\pandas\\core\\dtypes\\cast.py:122: ShapelyDeprecationWarning: The array interface is deprecated and will no longer work in Shapely 2.0. Convert the '.coords' to a numpy array instead.\n",
      "  arr = construct_1d_object_array_from_listlike(values)\n",
      "\n",
      "WARNING:py.warnings:c:\\Users\\mohamad\\anaconda3\\envs\\metal22\\lib\\site-packages\\pandas\\core\\dtypes\\cast.py:122: ShapelyDeprecationWarning: The array interface is deprecated and will no longer work in Shapely 2.0. Convert the '.coords' to a numpy array instead.\n",
      "  arr = construct_1d_object_array_from_listlike(values)\n",
      "\n",
      "WARNING:py.warnings:c:\\Users\\mohamad\\anaconda3\\envs\\metal22\\lib\\site-packages\\pandas\\core\\dtypes\\cast.py:122: ShapelyDeprecationWarning: The array interface is deprecated and will no longer work in Shapely 2.0. Convert the '.coords' to a numpy array instead.\n",
      "  arr = construct_1d_object_array_from_listlike(values)\n",
      "\n",
      "WARNING:py.warnings:c:\\Users\\mohamad\\anaconda3\\envs\\metal22\\lib\\site-packages\\pandas\\core\\dtypes\\cast.py:122: ShapelyDeprecationWarning: The array interface is deprecated and will no longer work in Shapely 2.0. Convert the '.coords' to a numpy array instead.\n",
      "  arr = construct_1d_object_array_from_listlike(values)\n",
      "\n",
      "WARNING:py.warnings:c:\\Users\\mohamad\\anaconda3\\envs\\metal22\\lib\\site-packages\\pandas\\core\\dtypes\\cast.py:122: ShapelyDeprecationWarning: The array interface is deprecated and will no longer work in Shapely 2.0. Convert the '.coords' to a numpy array instead.\n",
      "  arr = construct_1d_object_array_from_listlike(values)\n",
      "\n",
      "WARNING:py.warnings:c:\\Users\\mohamad\\anaconda3\\envs\\metal22\\lib\\site-packages\\pandas\\core\\dtypes\\cast.py:122: ShapelyDeprecationWarning: The array interface is deprecated and will no longer work in Shapely 2.0. Convert the '.coords' to a numpy array instead.\n",
      "  arr = construct_1d_object_array_from_listlike(values)\n",
      "\n",
      "WARNING:py.warnings:c:\\Users\\mohamad\\anaconda3\\envs\\metal22\\lib\\site-packages\\pandas\\core\\dtypes\\cast.py:122: ShapelyDeprecationWarning: The array interface is deprecated and will no longer work in Shapely 2.0. Convert the '.coords' to a numpy array instead.\n",
      "  arr = construct_1d_object_array_from_listlike(values)\n",
      "\n",
      "WARNING:py.warnings:c:\\Users\\mohamad\\anaconda3\\envs\\metal22\\lib\\site-packages\\pandas\\core\\dtypes\\cast.py:122: ShapelyDeprecationWarning: The array interface is deprecated and will no longer work in Shapely 2.0. Convert the '.coords' to a numpy array instead.\n",
      "  arr = construct_1d_object_array_from_listlike(values)\n",
      "\n",
      "WARNING:py.warnings:c:\\Users\\mohamad\\anaconda3\\envs\\metal22\\lib\\site-packages\\pandas\\core\\dtypes\\cast.py:122: ShapelyDeprecationWarning: The array interface is deprecated and will no longer work in Shapely 2.0. Convert the '.coords' to a numpy array instead.\n",
      "  arr = construct_1d_object_array_from_listlike(values)\n",
      "\n",
      "WARNING:py.warnings:c:\\Users\\mohamad\\anaconda3\\envs\\metal22\\lib\\site-packages\\pandas\\core\\dtypes\\cast.py:122: ShapelyDeprecationWarning: The array interface is deprecated and will no longer work in Shapely 2.0. Convert the '.coords' to a numpy array instead.\n",
      "  arr = construct_1d_object_array_from_listlike(values)\n",
      "\n",
      "WARNING:py.warnings:c:\\Users\\mohamad\\anaconda3\\envs\\metal22\\lib\\site-packages\\pandas\\core\\dtypes\\cast.py:122: ShapelyDeprecationWarning: The array interface is deprecated and will no longer work in Shapely 2.0. Convert the '.coords' to a numpy array instead.\n",
      "  arr = construct_1d_object_array_from_listlike(values)\n",
      "\n",
      "WARNING:py.warnings:c:\\Users\\mohamad\\anaconda3\\envs\\metal22\\lib\\site-packages\\pandas\\core\\dtypes\\cast.py:122: ShapelyDeprecationWarning: The array interface is deprecated and will no longer work in Shapely 2.0. Convert the '.coords' to a numpy array instead.\n",
      "  arr = construct_1d_object_array_from_listlike(values)\n",
      "\n",
      "WARNING:py.warnings:c:\\Users\\mohamad\\anaconda3\\envs\\metal22\\lib\\site-packages\\pandas\\core\\dtypes\\cast.py:122: ShapelyDeprecationWarning: The array interface is deprecated and will no longer work in Shapely 2.0. Convert the '.coords' to a numpy array instead.\n",
      "  arr = construct_1d_object_array_from_listlike(values)\n",
      "\n",
      "WARNING:py.warnings:c:\\Users\\mohamad\\anaconda3\\envs\\metal22\\lib\\site-packages\\pandas\\core\\dtypes\\cast.py:122: ShapelyDeprecationWarning: The array interface is deprecated and will no longer work in Shapely 2.0. Convert the '.coords' to a numpy array instead.\n",
      "  arr = construct_1d_object_array_from_listlike(values)\n",
      "\n",
      "WARNING:py.warnings:c:\\Users\\mohamad\\anaconda3\\envs\\metal22\\lib\\site-packages\\pandas\\core\\dtypes\\cast.py:122: ShapelyDeprecationWarning: The array interface is deprecated and will no longer work in Shapely 2.0. Convert the '.coords' to a numpy array instead.\n",
      "  arr = construct_1d_object_array_from_listlike(values)\n",
      "\n",
      "WARNING:py.warnings:c:\\Users\\mohamad\\anaconda3\\envs\\metal22\\lib\\site-packages\\pandas\\core\\dtypes\\cast.py:122: ShapelyDeprecationWarning: The array interface is deprecated and will no longer work in Shapely 2.0. Convert the '.coords' to a numpy array instead.\n",
      "  arr = construct_1d_object_array_from_listlike(values)\n",
      "\n",
      "WARNING:py.warnings:c:\\Users\\mohamad\\anaconda3\\envs\\metal22\\lib\\site-packages\\pandas\\core\\dtypes\\cast.py:122: ShapelyDeprecationWarning: The array interface is deprecated and will no longer work in Shapely 2.0. Convert the '.coords' to a numpy array instead.\n",
      "  arr = construct_1d_object_array_from_listlike(values)\n",
      "\n",
      "WARNING:py.warnings:c:\\Users\\mohamad\\anaconda3\\envs\\metal22\\lib\\site-packages\\pandas\\core\\dtypes\\cast.py:122: ShapelyDeprecationWarning: The array interface is deprecated and will no longer work in Shapely 2.0. Convert the '.coords' to a numpy array instead.\n",
      "  arr = construct_1d_object_array_from_listlike(values)\n",
      "\n",
      "WARNING:py.warnings:c:\\Users\\mohamad\\anaconda3\\envs\\metal22\\lib\\site-packages\\pandas\\core\\dtypes\\cast.py:122: ShapelyDeprecationWarning: The array interface is deprecated and will no longer work in Shapely 2.0. Convert the '.coords' to a numpy array instead.\n",
      "  arr = construct_1d_object_array_from_listlike(values)\n",
      "\n"
     ]
    }
   ],
   "source": [
    "# We copied an identical qubit to the first one and changed its name\n",
    "q2 = design.copy_qcomponent(q1, 'Q2')\n",
    "# changing the position of the qubit\n",
    "q2.options.pos_x='1.5mm'\n",
    "\n",
    "gui.rebuild()\n",
    "gui.autoscale()"
   ]
  },
  {
   "cell_type": "markdown",
   "id": "bf94f7d6",
   "metadata": {},
   "source": [
    "Now we connect Q1:a to Q2:b using a meandered transmission line.\n",
    "Transmission lines inherit from QRoute, which is the QComponent capable of creating nets"
   ]
  },
  {
   "cell_type": "code",
   "execution_count": 9,
   "id": "62fc9f15",
   "metadata": {},
   "outputs": [
    {
     "name": "stderr",
     "output_type": "stream",
     "text": [
      "WARNING:py.warnings:c:\\Users\\mohamad\\anaconda3\\envs\\metal22\\lib\\site-packages\\pandas\\core\\dtypes\\cast.py:122: ShapelyDeprecationWarning: The array interface is deprecated and will no longer work in Shapely 2.0. Convert the '.coords' to a numpy array instead.\n",
      "  arr = construct_1d_object_array_from_listlike(values)\n",
      "\n",
      "WARNING:py.warnings:c:\\Users\\mohamad\\anaconda3\\envs\\metal22\\lib\\site-packages\\pandas\\core\\dtypes\\cast.py:122: ShapelyDeprecationWarning: The array interface is deprecated and will no longer work in Shapely 2.0. Convert the '.coords' to a numpy array instead.\n",
      "  arr = construct_1d_object_array_from_listlike(values)\n",
      "\n",
      "WARNING:py.warnings:c:\\Users\\mohamad\\anaconda3\\envs\\metal22\\lib\\site-packages\\pandas\\core\\dtypes\\cast.py:122: ShapelyDeprecationWarning: The array interface is deprecated and will no longer work in Shapely 2.0. Convert the '.coords' to a numpy array instead.\n",
      "  arr = construct_1d_object_array_from_listlike(values)\n",
      "\n",
      "WARNING:py.warnings:c:\\Users\\mohamad\\anaconda3\\envs\\metal22\\lib\\site-packages\\pandas\\core\\dtypes\\cast.py:122: ShapelyDeprecationWarning: The array interface is deprecated and will no longer work in Shapely 2.0. Convert the '.coords' to a numpy array instead.\n",
      "  arr = construct_1d_object_array_from_listlike(values)\n",
      "\n",
      "WARNING:py.warnings:c:\\Users\\mohamad\\anaconda3\\envs\\metal22\\lib\\site-packages\\pandas\\core\\dtypes\\cast.py:122: ShapelyDeprecationWarning: The array interface is deprecated and will no longer work in Shapely 2.0. Convert the '.coords' to a numpy array instead.\n",
      "  arr = construct_1d_object_array_from_listlike(values)\n",
      "\n",
      "WARNING:py.warnings:c:\\Users\\mohamad\\anaconda3\\envs\\metal22\\lib\\site-packages\\pandas\\core\\dtypes\\cast.py:122: ShapelyDeprecationWarning: The array interface is deprecated and will no longer work in Shapely 2.0. Convert the '.coords' to a numpy array instead.\n",
      "  arr = construct_1d_object_array_from_listlike(values)\n",
      "\n",
      "WARNING:py.warnings:c:\\Users\\mohamad\\anaconda3\\envs\\metal22\\lib\\site-packages\\pandas\\core\\dtypes\\cast.py:122: ShapelyDeprecationWarning: The array interface is deprecated and will no longer work in Shapely 2.0. Convert the '.coords' to a numpy array instead.\n",
      "  arr = construct_1d_object_array_from_listlike(values)\n",
      "\n",
      "WARNING:py.warnings:c:\\Users\\mohamad\\anaconda3\\envs\\metal22\\lib\\site-packages\\pandas\\core\\dtypes\\cast.py:122: ShapelyDeprecationWarning: The array interface is deprecated and will no longer work in Shapely 2.0. Convert the '.coords' to a numpy array instead.\n",
      "  arr = construct_1d_object_array_from_listlike(values)\n",
      "\n",
      "WARNING:py.warnings:c:\\Users\\mohamad\\anaconda3\\envs\\metal22\\lib\\site-packages\\pandas\\core\\dtypes\\cast.py:122: ShapelyDeprecationWarning: The array interface is deprecated and will no longer work in Shapely 2.0. Convert the '.coords' to a numpy array instead.\n",
      "  arr = construct_1d_object_array_from_listlike(values)\n",
      "\n",
      "WARNING:py.warnings:c:\\Users\\mohamad\\anaconda3\\envs\\metal22\\lib\\site-packages\\pandas\\core\\dtypes\\cast.py:122: ShapelyDeprecationWarning: The array interface is deprecated and will no longer work in Shapely 2.0. Convert the '.coords' to a numpy array instead.\n",
      "  arr = construct_1d_object_array_from_listlike(values)\n",
      "\n",
      "WARNING:py.warnings:c:\\Users\\mohamad\\anaconda3\\envs\\metal22\\lib\\site-packages\\pandas\\core\\dtypes\\cast.py:122: ShapelyDeprecationWarning: The array interface is deprecated and will no longer work in Shapely 2.0. Convert the '.coords' to a numpy array instead.\n",
      "  arr = construct_1d_object_array_from_listlike(values)\n",
      "\n",
      "WARNING:py.warnings:c:\\Users\\mohamad\\anaconda3\\envs\\metal22\\lib\\site-packages\\pandas\\core\\dtypes\\cast.py:122: ShapelyDeprecationWarning: The array interface is deprecated and will no longer work in Shapely 2.0. Convert the '.coords' to a numpy array instead.\n",
      "  arr = construct_1d_object_array_from_listlike(values)\n",
      "\n",
      "WARNING:py.warnings:c:\\Users\\mohamad\\anaconda3\\envs\\metal22\\lib\\site-packages\\pandas\\core\\dtypes\\cast.py:122: ShapelyDeprecationWarning: The array interface is deprecated and will no longer work in Shapely 2.0. Convert the '.coords' to a numpy array instead.\n",
      "  arr = construct_1d_object_array_from_listlike(values)\n",
      "\n",
      "WARNING:py.warnings:c:\\Users\\mohamad\\anaconda3\\envs\\metal22\\lib\\site-packages\\pandas\\core\\dtypes\\cast.py:122: ShapelyDeprecationWarning: The array interface is deprecated and will no longer work in Shapely 2.0. Convert the '.coords' to a numpy array instead.\n",
      "  arr = construct_1d_object_array_from_listlike(values)\n",
      "\n",
      "WARNING:py.warnings:c:\\Users\\mohamad\\anaconda3\\envs\\metal22\\lib\\site-packages\\pandas\\core\\dtypes\\cast.py:122: ShapelyDeprecationWarning: The array interface is deprecated and will no longer work in Shapely 2.0. Convert the '.coords' to a numpy array instead.\n",
      "  arr = construct_1d_object_array_from_listlike(values)\n",
      "\n",
      "WARNING:py.warnings:c:\\Users\\mohamad\\anaconda3\\envs\\metal22\\lib\\site-packages\\pandas\\core\\dtypes\\cast.py:122: ShapelyDeprecationWarning: The array interface is deprecated and will no longer work in Shapely 2.0. Convert the '.coords' to a numpy array instead.\n",
      "  arr = construct_1d_object_array_from_listlike(values)\n",
      "\n",
      "WARNING:py.warnings:c:\\Users\\mohamad\\anaconda3\\envs\\metal22\\lib\\site-packages\\pandas\\core\\dtypes\\cast.py:122: ShapelyDeprecationWarning: The array interface is deprecated and will no longer work in Shapely 2.0. Convert the '.coords' to a numpy array instead.\n",
      "  arr = construct_1d_object_array_from_listlike(values)\n",
      "\n",
      "WARNING:py.warnings:c:\\Users\\mohamad\\anaconda3\\envs\\metal22\\lib\\site-packages\\pandas\\core\\dtypes\\cast.py:122: ShapelyDeprecationWarning: The array interface is deprecated and will no longer work in Shapely 2.0. Convert the '.coords' to a numpy array instead.\n",
      "  arr = construct_1d_object_array_from_listlike(values)\n",
      "\n",
      "WARNING:py.warnings:c:\\Users\\mohamad\\anaconda3\\envs\\metal22\\lib\\site-packages\\pandas\\core\\dtypes\\cast.py:122: ShapelyDeprecationWarning: The array interface is deprecated and will no longer work in Shapely 2.0. Convert the '.coords' to a numpy array instead.\n",
      "  arr = construct_1d_object_array_from_listlike(values)\n",
      "\n",
      "WARNING:py.warnings:c:\\Users\\mohamad\\anaconda3\\envs\\metal22\\lib\\site-packages\\pandas\\core\\dtypes\\cast.py:122: ShapelyDeprecationWarning: The array interface is deprecated and will no longer work in Shapely 2.0. Convert the '.coords' to a numpy array instead.\n",
      "  arr = construct_1d_object_array_from_listlike(values)\n",
      "\n",
      "WARNING:py.warnings:c:\\Users\\mohamad\\anaconda3\\envs\\metal22\\lib\\site-packages\\pandas\\core\\dtypes\\cast.py:122: ShapelyDeprecationWarning: The array interface is deprecated and will no longer work in Shapely 2.0. Convert the '.coords' to a numpy array instead.\n",
      "  arr = construct_1d_object_array_from_listlike(values)\n",
      "\n",
      "WARNING:py.warnings:c:\\Users\\mohamad\\anaconda3\\envs\\metal22\\lib\\site-packages\\pandas\\core\\dtypes\\cast.py:122: ShapelyDeprecationWarning: The array interface is deprecated and will no longer work in Shapely 2.0. Convert the '.coords' to a numpy array instead.\n",
      "  arr = construct_1d_object_array_from_listlike(values)\n",
      "\n"
     ]
    }
   ],
   "source": [
    "from qiskit_metal.qlibrary.tlines.meandered import RouteMeander\n",
    "\n",
    "options = Dict(\n",
    "    total_length = '8mm',\n",
    "    pin_inputs = Dict(\n",
    "        start_pin = Dict(\n",
    "            component = \"Q1\",\n",
    "            pin = \"a\"\n",
    "        ),\n",
    "        end_pin = Dict(\n",
    "            component = \"Q2\",\n",
    "            pin = \"b\"\n",
    "        )\n",
    "    )\n",
    ")\n",
    "\n",
    "cpw = RouteMeander(design, options=options)\n",
    "\n",
    "gui.rebuild()\n",
    "gui.autoscale()"
   ]
  },
  {
   "cell_type": "markdown",
   "id": "041d53cb",
   "metadata": {},
   "source": [
    "We created a meander connection between the two qubits but it has a rectangular shape, and of course we will not keep it like that"
   ]
  },
  {
   "cell_type": "code",
   "execution_count": 10,
   "id": "c703cbbe",
   "metadata": {},
   "outputs": [
    {
     "name": "stderr",
     "output_type": "stream",
     "text": [
      "WARNING:py.warnings:c:\\Users\\mohamad\\anaconda3\\envs\\metal22\\lib\\site-packages\\pandas\\core\\dtypes\\cast.py:122: ShapelyDeprecationWarning: The array interface is deprecated and will no longer work in Shapely 2.0. Convert the '.coords' to a numpy array instead.\n",
      "  arr = construct_1d_object_array_from_listlike(values)\n",
      "\n",
      "WARNING:py.warnings:c:\\Users\\mohamad\\anaconda3\\envs\\metal22\\lib\\site-packages\\pandas\\core\\dtypes\\cast.py:122: ShapelyDeprecationWarning: The array interface is deprecated and will no longer work in Shapely 2.0. Convert the '.coords' to a numpy array instead.\n",
      "  arr = construct_1d_object_array_from_listlike(values)\n",
      "\n",
      "WARNING:py.warnings:c:\\Users\\mohamad\\anaconda3\\envs\\metal22\\lib\\site-packages\\pandas\\core\\dtypes\\cast.py:122: ShapelyDeprecationWarning: The array interface is deprecated and will no longer work in Shapely 2.0. Convert the '.coords' to a numpy array instead.\n",
      "  arr = construct_1d_object_array_from_listlike(values)\n",
      "\n",
      "WARNING:py.warnings:c:\\Users\\mohamad\\anaconda3\\envs\\metal22\\lib\\site-packages\\pandas\\core\\dtypes\\cast.py:122: ShapelyDeprecationWarning: The array interface is deprecated and will no longer work in Shapely 2.0. Convert the '.coords' to a numpy array instead.\n",
      "  arr = construct_1d_object_array_from_listlike(values)\n",
      "\n",
      "WARNING:py.warnings:c:\\Users\\mohamad\\anaconda3\\envs\\metal22\\lib\\site-packages\\pandas\\core\\dtypes\\cast.py:122: ShapelyDeprecationWarning: The array interface is deprecated and will no longer work in Shapely 2.0. Convert the '.coords' to a numpy array instead.\n",
      "  arr = construct_1d_object_array_from_listlike(values)\n",
      "\n",
      "WARNING:py.warnings:c:\\Users\\mohamad\\anaconda3\\envs\\metal22\\lib\\site-packages\\pandas\\core\\dtypes\\cast.py:122: ShapelyDeprecationWarning: The array interface is deprecated and will no longer work in Shapely 2.0. Convert the '.coords' to a numpy array instead.\n",
      "  arr = construct_1d_object_array_from_listlike(values)\n",
      "\n",
      "WARNING:py.warnings:c:\\Users\\mohamad\\anaconda3\\envs\\metal22\\lib\\site-packages\\pandas\\core\\dtypes\\cast.py:122: ShapelyDeprecationWarning: The array interface is deprecated and will no longer work in Shapely 2.0. Convert the '.coords' to a numpy array instead.\n",
      "  arr = construct_1d_object_array_from_listlike(values)\n",
      "\n",
      "WARNING:py.warnings:c:\\Users\\mohamad\\anaconda3\\envs\\metal22\\lib\\site-packages\\pandas\\core\\dtypes\\cast.py:122: ShapelyDeprecationWarning: The array interface is deprecated and will no longer work in Shapely 2.0. Convert the '.coords' to a numpy array instead.\n",
      "  arr = construct_1d_object_array_from_listlike(values)\n",
      "\n",
      "WARNING:py.warnings:c:\\Users\\mohamad\\anaconda3\\envs\\metal22\\lib\\site-packages\\pandas\\core\\dtypes\\cast.py:122: ShapelyDeprecationWarning: The array interface is deprecated and will no longer work in Shapely 2.0. Convert the '.coords' to a numpy array instead.\n",
      "  arr = construct_1d_object_array_from_listlike(values)\n",
      "\n",
      "WARNING:py.warnings:c:\\Users\\mohamad\\anaconda3\\envs\\metal22\\lib\\site-packages\\pandas\\core\\dtypes\\cast.py:122: ShapelyDeprecationWarning: The array interface is deprecated and will no longer work in Shapely 2.0. Convert the '.coords' to a numpy array instead.\n",
      "  arr = construct_1d_object_array_from_listlike(values)\n",
      "\n",
      "WARNING:py.warnings:c:\\Users\\mohamad\\anaconda3\\envs\\metal22\\lib\\site-packages\\pandas\\core\\dtypes\\cast.py:122: ShapelyDeprecationWarning: The array interface is deprecated and will no longer work in Shapely 2.0. Convert the '.coords' to a numpy array instead.\n",
      "  arr = construct_1d_object_array_from_listlike(values)\n",
      "\n",
      "WARNING:py.warnings:c:\\Users\\mohamad\\anaconda3\\envs\\metal22\\lib\\site-packages\\pandas\\core\\dtypes\\cast.py:122: ShapelyDeprecationWarning: The array interface is deprecated and will no longer work in Shapely 2.0. Convert the '.coords' to a numpy array instead.\n",
      "  arr = construct_1d_object_array_from_listlike(values)\n",
      "\n",
      "WARNING:py.warnings:c:\\Users\\mohamad\\anaconda3\\envs\\metal22\\lib\\site-packages\\pandas\\core\\dtypes\\cast.py:122: ShapelyDeprecationWarning: The array interface is deprecated and will no longer work in Shapely 2.0. Convert the '.coords' to a numpy array instead.\n",
      "  arr = construct_1d_object_array_from_listlike(values)\n",
      "\n",
      "WARNING:py.warnings:c:\\Users\\mohamad\\anaconda3\\envs\\metal22\\lib\\site-packages\\pandas\\core\\dtypes\\cast.py:122: ShapelyDeprecationWarning: The array interface is deprecated and will no longer work in Shapely 2.0. Convert the '.coords' to a numpy array instead.\n",
      "  arr = construct_1d_object_array_from_listlike(values)\n",
      "\n",
      "WARNING:py.warnings:c:\\Users\\mohamad\\anaconda3\\envs\\metal22\\lib\\site-packages\\pandas\\core\\dtypes\\cast.py:122: ShapelyDeprecationWarning: The array interface is deprecated and will no longer work in Shapely 2.0. Convert the '.coords' to a numpy array instead.\n",
      "  arr = construct_1d_object_array_from_listlike(values)\n",
      "\n",
      "WARNING:py.warnings:c:\\Users\\mohamad\\anaconda3\\envs\\metal22\\lib\\site-packages\\pandas\\core\\dtypes\\cast.py:122: ShapelyDeprecationWarning: The array interface is deprecated and will no longer work in Shapely 2.0. Convert the '.coords' to a numpy array instead.\n",
      "  arr = construct_1d_object_array_from_listlike(values)\n",
      "\n",
      "WARNING:py.warnings:c:\\Users\\mohamad\\anaconda3\\envs\\metal22\\lib\\site-packages\\pandas\\core\\dtypes\\cast.py:122: ShapelyDeprecationWarning: The array interface is deprecated and will no longer work in Shapely 2.0. Convert the '.coords' to a numpy array instead.\n",
      "  arr = construct_1d_object_array_from_listlike(values)\n",
      "\n",
      "WARNING:py.warnings:c:\\Users\\mohamad\\anaconda3\\envs\\metal22\\lib\\site-packages\\pandas\\core\\dtypes\\cast.py:122: ShapelyDeprecationWarning: The array interface is deprecated and will no longer work in Shapely 2.0. Convert the '.coords' to a numpy array instead.\n",
      "  arr = construct_1d_object_array_from_listlike(values)\n",
      "\n",
      "WARNING:py.warnings:c:\\Users\\mohamad\\anaconda3\\envs\\metal22\\lib\\site-packages\\pandas\\core\\dtypes\\cast.py:122: ShapelyDeprecationWarning: The array interface is deprecated and will no longer work in Shapely 2.0. Convert the '.coords' to a numpy array instead.\n",
      "  arr = construct_1d_object_array_from_listlike(values)\n",
      "\n",
      "WARNING:py.warnings:c:\\Users\\mohamad\\anaconda3\\envs\\metal22\\lib\\site-packages\\pandas\\core\\dtypes\\cast.py:122: ShapelyDeprecationWarning: The array interface is deprecated and will no longer work in Shapely 2.0. Convert the '.coords' to a numpy array instead.\n",
      "  arr = construct_1d_object_array_from_listlike(values)\n",
      "\n"
     ]
    }
   ],
   "source": [
    "# Fillet option will make the meander smoothly\n",
    "cpw.options.fillet = '90um'\n",
    "# define the straight start length\n",
    "cpw.options.lead.start_straight = '90um'\n",
    "\n",
    "gui.rebuild()\n",
    "gui.autoscale()"
   ]
  },
  {
   "cell_type": "markdown",
   "id": "86a423cf",
   "metadata": {},
   "source": [
    "Observe the connections created from this design"
   ]
  },
  {
   "cell_type": "code",
   "execution_count": 11,
   "id": "8a0aaf59",
   "metadata": {},
   "outputs": [
    {
     "data": {
      "text/html": [
       "<div>\n",
       "<style scoped>\n",
       "    .dataframe tbody tr th:only-of-type {\n",
       "        vertical-align: middle;\n",
       "    }\n",
       "\n",
       "    .dataframe tbody tr th {\n",
       "        vertical-align: top;\n",
       "    }\n",
       "\n",
       "    .dataframe thead th {\n",
       "        text-align: right;\n",
       "    }\n",
       "</style>\n",
       "<table border=\"1\" class=\"dataframe\">\n",
       "  <thead>\n",
       "    <tr style=\"text-align: right;\">\n",
       "      <th></th>\n",
       "      <th>net_id</th>\n",
       "      <th>component_id</th>\n",
       "      <th>pin_name</th>\n",
       "    </tr>\n",
       "  </thead>\n",
       "  <tbody>\n",
       "    <tr>\n",
       "      <th>0</th>\n",
       "      <td>5</td>\n",
       "      <td>1</td>\n",
       "      <td>a</td>\n",
       "    </tr>\n",
       "    <tr>\n",
       "      <th>1</th>\n",
       "      <td>5</td>\n",
       "      <td>3</td>\n",
       "      <td>start</td>\n",
       "    </tr>\n",
       "    <tr>\n",
       "      <th>2</th>\n",
       "      <td>6</td>\n",
       "      <td>2</td>\n",
       "      <td>b</td>\n",
       "    </tr>\n",
       "    <tr>\n",
       "      <th>3</th>\n",
       "      <td>6</td>\n",
       "      <td>3</td>\n",
       "      <td>end</td>\n",
       "    </tr>\n",
       "  </tbody>\n",
       "</table>\n",
       "</div>"
      ],
      "text/plain": [
       "  net_id component_id pin_name\n",
       "0      5            1        a\n",
       "1      5            3    start\n",
       "2      6            2        b\n",
       "3      6            3      end"
      ]
     },
     "execution_count": 11,
     "metadata": {},
     "output_type": "execute_result"
    }
   ],
   "source": [
    "# Gives you an intuition about the connections\n",
    "design.net_info"
   ]
  },
  {
   "cell_type": "markdown",
   "id": "ed1e8596",
   "metadata": {},
   "source": [
    "# Create component from scratch"
   ]
  },
  {
   "cell_type": "markdown",
   "id": "7059d0c7",
   "metadata": {},
   "source": [
    "Eliminate the cpw and Q2 components to free up space. We will use it to connect a custom QComponent."
   ]
  },
  {
   "cell_type": "code",
   "execution_count": 12,
   "id": "9875ab7e",
   "metadata": {},
   "outputs": [],
   "source": [
    "# two diferent ways to delete\n",
    "design.delete_component('Q2')\n",
    "cpw.delete()"
   ]
  },
  {
   "cell_type": "code",
   "execution_count": 13,
   "id": "75301a38",
   "metadata": {},
   "outputs": [
    {
     "data": {
      "text/html": [
       "<div>\n",
       "<style scoped>\n",
       "    .dataframe tbody tr th:only-of-type {\n",
       "        vertical-align: middle;\n",
       "    }\n",
       "\n",
       "    .dataframe tbody tr th {\n",
       "        vertical-align: top;\n",
       "    }\n",
       "\n",
       "    .dataframe thead th {\n",
       "        text-align: right;\n",
       "    }\n",
       "</style>\n",
       "<table border=\"1\" class=\"dataframe\">\n",
       "  <thead>\n",
       "    <tr style=\"text-align: right;\">\n",
       "      <th></th>\n",
       "      <th>net_id</th>\n",
       "      <th>component_id</th>\n",
       "      <th>pin_name</th>\n",
       "    </tr>\n",
       "  </thead>\n",
       "  <tbody>\n",
       "  </tbody>\n",
       "</table>\n",
       "</div>"
      ],
      "text/plain": [
       "Empty DataFrame\n",
       "Columns: [net_id, component_id, pin_name]\n",
       "Index: []"
      ]
     },
     "execution_count": 13,
     "metadata": {},
     "output_type": "execute_result"
    }
   ],
   "source": [
    "design.net_info"
   ]
  },
  {
   "cell_type": "code",
   "execution_count": 14,
   "id": "296dff38",
   "metadata": {},
   "outputs": [
    {
     "name": "stderr",
     "output_type": "stream",
     "text": [
      "WARNING:py.warnings:c:\\Users\\mohamad\\anaconda3\\envs\\metal22\\lib\\site-packages\\pandas\\core\\dtypes\\cast.py:122: ShapelyDeprecationWarning: The array interface is deprecated and will no longer work in Shapely 2.0. Convert the '.coords' to a numpy array instead.\n",
      "  arr = construct_1d_object_array_from_listlike(values)\n",
      "\n",
      "WARNING:py.warnings:c:\\Users\\mohamad\\anaconda3\\envs\\metal22\\lib\\site-packages\\pandas\\core\\dtypes\\cast.py:122: ShapelyDeprecationWarning: The array interface is deprecated and will no longer work in Shapely 2.0. Convert the '.coords' to a numpy array instead.\n",
      "  arr = construct_1d_object_array_from_listlike(values)\n",
      "\n",
      "WARNING:py.warnings:c:\\Users\\mohamad\\anaconda3\\envs\\metal22\\lib\\site-packages\\pandas\\core\\dtypes\\cast.py:122: ShapelyDeprecationWarning: The array interface is deprecated and will no longer work in Shapely 2.0. Convert the '.coords' to a numpy array instead.\n",
      "  arr = construct_1d_object_array_from_listlike(values)\n",
      "\n",
      "WARNING:py.warnings:c:\\Users\\mohamad\\anaconda3\\envs\\metal22\\lib\\site-packages\\pandas\\core\\dtypes\\cast.py:122: ShapelyDeprecationWarning: The array interface is deprecated and will no longer work in Shapely 2.0. Convert the '.coords' to a numpy array instead.\n",
      "  arr = construct_1d_object_array_from_listlike(values)\n",
      "\n",
      "WARNING:py.warnings:c:\\Users\\mohamad\\anaconda3\\envs\\metal22\\lib\\site-packages\\pandas\\core\\dtypes\\cast.py:122: ShapelyDeprecationWarning: The array interface is deprecated and will no longer work in Shapely 2.0. Convert the '.coords' to a numpy array instead.\n",
      "  arr = construct_1d_object_array_from_listlike(values)\n",
      "\n",
      "WARNING:py.warnings:c:\\Users\\mohamad\\anaconda3\\envs\\metal22\\lib\\site-packages\\pandas\\core\\dtypes\\cast.py:122: ShapelyDeprecationWarning: The array interface is deprecated and will no longer work in Shapely 2.0. Convert the '.coords' to a numpy array instead.\n",
      "  arr = construct_1d_object_array_from_listlike(values)\n",
      "\n",
      "WARNING:py.warnings:c:\\Users\\mohamad\\anaconda3\\envs\\metal22\\lib\\site-packages\\pandas\\core\\dtypes\\cast.py:122: ShapelyDeprecationWarning: The array interface is deprecated and will no longer work in Shapely 2.0. Convert the '.coords' to a numpy array instead.\n",
      "  arr = construct_1d_object_array_from_listlike(values)\n",
      "\n",
      "WARNING:py.warnings:c:\\Users\\mohamad\\anaconda3\\envs\\metal22\\lib\\site-packages\\pandas\\core\\dtypes\\cast.py:122: ShapelyDeprecationWarning: The array interface is deprecated and will no longer work in Shapely 2.0. Convert the '.coords' to a numpy array instead.\n",
      "  arr = construct_1d_object_array_from_listlike(values)\n",
      "\n",
      "WARNING:py.warnings:c:\\Users\\mohamad\\anaconda3\\envs\\metal22\\lib\\site-packages\\pandas\\core\\dtypes\\cast.py:122: ShapelyDeprecationWarning: The array interface is deprecated and will no longer work in Shapely 2.0. Convert the '.coords' to a numpy array instead.\n",
      "  arr = construct_1d_object_array_from_listlike(values)\n",
      "\n"
     ]
    }
   ],
   "source": [
    "gui.rebuild()\n",
    "gui.autoscale()"
   ]
  },
  {
   "cell_type": "markdown",
   "id": "c6c1c4f3",
   "metadata": {},
   "source": [
    "The file my429_qcomponents.py contains sample classes of incremental complexity. Let's start simple, a fixed rectangle with pins"
   ]
  },
  {
   "cell_type": "code",
   "execution_count": 18,
   "id": "35fb9bfc",
   "metadata": {},
   "outputs": [
    {
     "name": "stderr",
     "output_type": "stream",
     "text": [
      "04:47PM 50s WARNING [__init__]: Pin a of component Q1 is already in use. None has not been built. Please check your pin_input values.\n",
      "WARNING:py.warnings:c:\\Users\\mohamad\\anaconda3\\envs\\metal22\\lib\\site-packages\\pandas\\core\\dtypes\\cast.py:122: ShapelyDeprecationWarning: The array interface is deprecated and will no longer work in Shapely 2.0. Convert the '.coords' to a numpy array instead.\n",
      "  arr = construct_1d_object_array_from_listlike(values)\n",
      "\n",
      "WARNING:py.warnings:c:\\Users\\mohamad\\anaconda3\\envs\\metal22\\lib\\site-packages\\pandas\\core\\dtypes\\cast.py:122: ShapelyDeprecationWarning: The array interface is deprecated and will no longer work in Shapely 2.0. Convert the '.coords' to a numpy array instead.\n",
      "  arr = construct_1d_object_array_from_listlike(values)\n",
      "\n",
      "WARNING:py.warnings:c:\\Users\\mohamad\\anaconda3\\envs\\metal22\\lib\\site-packages\\pandas\\core\\dtypes\\cast.py:122: ShapelyDeprecationWarning: The array interface is deprecated and will no longer work in Shapely 2.0. Convert the '.coords' to a numpy array instead.\n",
      "  arr = construct_1d_object_array_from_listlike(values)\n",
      "\n",
      "WARNING:py.warnings:c:\\Users\\mohamad\\anaconda3\\envs\\metal22\\lib\\site-packages\\pandas\\core\\dtypes\\cast.py:122: ShapelyDeprecationWarning: The array interface is deprecated and will no longer work in Shapely 2.0. Convert the '.coords' to a numpy array instead.\n",
      "  arr = construct_1d_object_array_from_listlike(values)\n",
      "\n",
      "WARNING:py.warnings:c:\\Users\\mohamad\\anaconda3\\envs\\metal22\\lib\\site-packages\\pandas\\core\\dtypes\\cast.py:122: ShapelyDeprecationWarning: The array interface is deprecated and will no longer work in Shapely 2.0. Convert the '.coords' to a numpy array instead.\n",
      "  arr = construct_1d_object_array_from_listlike(values)\n",
      "\n",
      "WARNING:py.warnings:c:\\Users\\mohamad\\anaconda3\\envs\\metal22\\lib\\site-packages\\pandas\\core\\dtypes\\cast.py:122: ShapelyDeprecationWarning: The array interface is deprecated and will no longer work in Shapely 2.0. Convert the '.coords' to a numpy array instead.\n",
      "  arr = construct_1d_object_array_from_listlike(values)\n",
      "\n",
      "WARNING:py.warnings:c:\\Users\\mohamad\\anaconda3\\envs\\metal22\\lib\\site-packages\\pandas\\core\\dtypes\\cast.py:122: ShapelyDeprecationWarning: The array interface is deprecated and will no longer work in Shapely 2.0. Convert the '.coords' to a numpy array instead.\n",
      "  arr = construct_1d_object_array_from_listlike(values)\n",
      "\n",
      "WARNING:py.warnings:c:\\Users\\mohamad\\anaconda3\\envs\\metal22\\lib\\site-packages\\pandas\\core\\dtypes\\cast.py:122: ShapelyDeprecationWarning: The array interface is deprecated and will no longer work in Shapely 2.0. Convert the '.coords' to a numpy array instead.\n",
      "  arr = construct_1d_object_array_from_listlike(values)\n",
      "\n",
      "WARNING:py.warnings:c:\\Users\\mohamad\\anaconda3\\envs\\metal22\\lib\\site-packages\\pandas\\core\\dtypes\\cast.py:122: ShapelyDeprecationWarning: The array interface is deprecated and will no longer work in Shapely 2.0. Convert the '.coords' to a numpy array instead.\n",
      "  arr = construct_1d_object_array_from_listlike(values)\n",
      "\n",
      "WARNING:py.warnings:c:\\Users\\mohamad\\anaconda3\\envs\\metal22\\lib\\site-packages\\pandas\\core\\dtypes\\cast.py:122: ShapelyDeprecationWarning: The array interface is deprecated and will no longer work in Shapely 2.0. Convert the '.coords' to a numpy array instead.\n",
      "  arr = construct_1d_object_array_from_listlike(values)\n",
      "\n",
      "WARNING:py.warnings:c:\\Users\\mohamad\\anaconda3\\envs\\metal22\\lib\\site-packages\\pandas\\core\\dtypes\\cast.py:122: ShapelyDeprecationWarning: The array interface is deprecated and will no longer work in Shapely 2.0. Convert the '.coords' to a numpy array instead.\n",
      "  arr = construct_1d_object_array_from_listlike(values)\n",
      "\n"
     ]
    }
   ],
   "source": [
    "from components import MyQComponent2\n",
    "\n",
    "opt_myqc = Dict(width='1mm', height='0.01mm', pos_x='0.1mm')\n",
    "MyQC = MyQComponent2(design, 'myQC', options=opt_myqc)\n",
    "\n",
    "# options of cpw\n",
    "options = Dict(\n",
    "    total_length = '4mm',\n",
    "    pin_inputs = Dict(\n",
    "        start_pin = Dict(\n",
    "            component = 'Q1',\n",
    "            pin= 'a'\n",
    "        ),\n",
    "        end_pin = Dict(\n",
    "            component = MyQC.name,\n",
    "            pin = 'in'\n",
    "        )\n",
    "    ),\n",
    "    fillet = '90um',\n",
    "    lead = Dict(\n",
    "        start_straight = '90um'\n",
    "    )\n",
    ")\n",
    "# build cpw\n",
    "cpw = RouteMeander(design, options=options)\n",
    "\n",
    "\n",
    "gui.rebuild()\n",
    "gui.autoscale()"
   ]
  },
  {
   "cell_type": "code",
   "execution_count": 19,
   "id": "c2169de9",
   "metadata": {},
   "outputs": [
    {
     "data": {
      "text/plain": [
       "{'pos_x': '0.1mm',\n",
       " 'pos_y': '0mm',\n",
       " 'orientation': '0.0',\n",
       " 'chip': 'main',\n",
       " 'layer': '1',\n",
       " 'width': '1mm',\n",
       " 'height': '0.01mm'}"
      ]
     },
     "execution_count": 19,
     "metadata": {},
     "output_type": "execute_result"
    }
   ],
   "source": [
    "MyQC.options"
   ]
  },
  {
   "cell_type": "markdown",
   "id": "cfe54534",
   "metadata": {},
   "source": [
    "this MyQC is still not aware of the renders and now we should edit it so it have the renders options, so we will code a new one"
   ]
  },
  {
   "cell_type": "code",
   "execution_count": 22,
   "id": "e5802ae7",
   "metadata": {},
   "outputs": [
    {
     "name": "stderr",
     "output_type": "stream",
     "text": [
      "05:27PM 18s INFO [delete_component]: Called delete_component None, but such a component is not in the design cache dictionary of components.\n",
      "05:27PM 18s INFO [delete_component]: Called delete_component myQC, but such a component is not in the design cache dictionary of components.\n"
     ]
    }
   ],
   "source": [
    "cpw.delete()\n",
    "MyQC.delete()\n"
   ]
  },
  {
   "cell_type": "code",
   "execution_count": 29,
   "id": "1da1c8d1",
   "metadata": {},
   "outputs": [
    {
     "name": "stderr",
     "output_type": "stream",
     "text": [
      "WARNING:py.warnings:c:\\Users\\mohamad\\anaconda3\\envs\\metal22\\lib\\site-packages\\pandas\\core\\dtypes\\cast.py:122: ShapelyDeprecationWarning: The array interface is deprecated and will no longer work in Shapely 2.0. Convert the '.coords' to a numpy array instead.\n",
      "  arr = construct_1d_object_array_from_listlike(values)\n",
      "\n",
      "WARNING:py.warnings:c:\\Users\\mohamad\\anaconda3\\envs\\metal22\\lib\\site-packages\\pandas\\core\\dtypes\\cast.py:122: ShapelyDeprecationWarning: The array interface is deprecated and will no longer work in Shapely 2.0. Convert the '.coords' to a numpy array instead.\n",
      "  arr = construct_1d_object_array_from_listlike(values)\n",
      "\n",
      "WARNING:py.warnings:c:\\Users\\mohamad\\anaconda3\\envs\\metal22\\lib\\site-packages\\pandas\\core\\dtypes\\cast.py:122: ShapelyDeprecationWarning: The array interface is deprecated and will no longer work in Shapely 2.0. Convert the '.coords' to a numpy array instead.\n",
      "  arr = construct_1d_object_array_from_listlike(values)\n",
      "\n",
      "WARNING:py.warnings:c:\\Users\\mohamad\\anaconda3\\envs\\metal22\\lib\\site-packages\\pandas\\core\\dtypes\\cast.py:122: ShapelyDeprecationWarning: The array interface is deprecated and will no longer work in Shapely 2.0. Convert the '.coords' to a numpy array instead.\n",
      "  arr = construct_1d_object_array_from_listlike(values)\n",
      "\n",
      "WARNING:py.warnings:c:\\Users\\mohamad\\anaconda3\\envs\\metal22\\lib\\site-packages\\pandas\\core\\dtypes\\cast.py:122: ShapelyDeprecationWarning: The array interface is deprecated and will no longer work in Shapely 2.0. Convert the '.coords' to a numpy array instead.\n",
      "  arr = construct_1d_object_array_from_listlike(values)\n",
      "\n",
      "WARNING:py.warnings:c:\\Users\\mohamad\\anaconda3\\envs\\metal22\\lib\\site-packages\\pandas\\core\\dtypes\\cast.py:122: ShapelyDeprecationWarning: The array interface is deprecated and will no longer work in Shapely 2.0. Convert the '.coords' to a numpy array instead.\n",
      "  arr = construct_1d_object_array_from_listlike(values)\n",
      "\n",
      "WARNING:py.warnings:c:\\Users\\mohamad\\anaconda3\\envs\\metal22\\lib\\site-packages\\pandas\\core\\dtypes\\cast.py:122: ShapelyDeprecationWarning: The array interface is deprecated and will no longer work in Shapely 2.0. Convert the '.coords' to a numpy array instead.\n",
      "  arr = construct_1d_object_array_from_listlike(values)\n",
      "\n",
      "WARNING:py.warnings:c:\\Users\\mohamad\\anaconda3\\envs\\metal22\\lib\\site-packages\\pandas\\core\\dtypes\\cast.py:122: ShapelyDeprecationWarning: The array interface is deprecated and will no longer work in Shapely 2.0. Convert the '.coords' to a numpy array instead.\n",
      "  arr = construct_1d_object_array_from_listlike(values)\n",
      "\n",
      "WARNING:py.warnings:c:\\Users\\mohamad\\anaconda3\\envs\\metal22\\lib\\site-packages\\pandas\\core\\dtypes\\cast.py:122: ShapelyDeprecationWarning: The array interface is deprecated and will no longer work in Shapely 2.0. Convert the '.coords' to a numpy array instead.\n",
      "  arr = construct_1d_object_array_from_listlike(values)\n",
      "\n",
      "WARNING:py.warnings:c:\\Users\\mohamad\\anaconda3\\envs\\metal22\\lib\\site-packages\\pandas\\core\\dtypes\\cast.py:122: ShapelyDeprecationWarning: The array interface is deprecated and will no longer work in Shapely 2.0. Convert the '.coords' to a numpy array instead.\n",
      "  arr = construct_1d_object_array_from_listlike(values)\n",
      "\n",
      "WARNING:py.warnings:c:\\Users\\mohamad\\anaconda3\\envs\\metal22\\lib\\site-packages\\pandas\\core\\dtypes\\cast.py:122: ShapelyDeprecationWarning: The array interface is deprecated and will no longer work in Shapely 2.0. Convert the '.coords' to a numpy array instead.\n",
      "  arr = construct_1d_object_array_from_listlike(values)\n",
      "\n",
      "WARNING:py.warnings:c:\\Users\\mohamad\\anaconda3\\envs\\metal22\\lib\\site-packages\\pandas\\core\\dtypes\\cast.py:122: ShapelyDeprecationWarning: The array interface is deprecated and will no longer work in Shapely 2.0. Convert the '.coords' to a numpy array instead.\n",
      "  arr = construct_1d_object_array_from_listlike(values)\n",
      "\n",
      "WARNING:py.warnings:c:\\Users\\mohamad\\anaconda3\\envs\\metal22\\lib\\site-packages\\pandas\\core\\dtypes\\cast.py:122: ShapelyDeprecationWarning: The array interface is deprecated and will no longer work in Shapely 2.0. Convert the '.coords' to a numpy array instead.\n",
      "  arr = construct_1d_object_array_from_listlike(values)\n",
      "\n",
      "WARNING:py.warnings:c:\\Users\\mohamad\\anaconda3\\envs\\metal22\\lib\\site-packages\\pandas\\core\\dtypes\\cast.py:122: ShapelyDeprecationWarning: The array interface is deprecated and will no longer work in Shapely 2.0. Convert the '.coords' to a numpy array instead.\n",
      "  arr = construct_1d_object_array_from_listlike(values)\n",
      "\n",
      "WARNING:py.warnings:c:\\Users\\mohamad\\anaconda3\\envs\\metal22\\lib\\site-packages\\pandas\\core\\dtypes\\cast.py:122: ShapelyDeprecationWarning: The array interface is deprecated and will no longer work in Shapely 2.0. Convert the '.coords' to a numpy array instead.\n",
      "  arr = construct_1d_object_array_from_listlike(values)\n",
      "\n",
      "WARNING:py.warnings:c:\\Users\\mohamad\\anaconda3\\envs\\metal22\\lib\\site-packages\\pandas\\core\\dtypes\\cast.py:122: ShapelyDeprecationWarning: The array interface is deprecated and will no longer work in Shapely 2.0. Convert the '.coords' to a numpy array instead.\n",
      "  arr = construct_1d_object_array_from_listlike(values)\n",
      "\n",
      "WARNING:py.warnings:c:\\Users\\mohamad\\anaconda3\\envs\\metal22\\lib\\site-packages\\pandas\\core\\dtypes\\cast.py:122: ShapelyDeprecationWarning: The array interface is deprecated and will no longer work in Shapely 2.0. Convert the '.coords' to a numpy array instead.\n",
      "  arr = construct_1d_object_array_from_listlike(values)\n",
      "\n"
     ]
    }
   ],
   "source": [
    "opt_myqc.gap = '8um'\n",
    "opt_myqc.height = '20um'\n",
    "from msilib.schema import Component\n",
    "from components import MyQComponent4\n",
    "\n",
    "myQC = MyQComponent4(design, options=opt_myqc)\n",
    "\n",
    "options = Dict(\n",
    "    total_length = '4mm',\n",
    "    pin_inputs = Dict(\n",
    "        start_pin = Dict(\n",
    "            component = 'Q1',\n",
    "            pin = 'a'\n",
    "        ),\n",
    "        end_pin = Dict(\n",
    "            component = myQC.name,\n",
    "            pin = 'in'   \n",
    "        )\n",
    "    ),\n",
    "    fillet= '90um',\n",
    "    lead= Dict(\n",
    "        start_straight = '90um'\n",
    "    )\n",
    ")\n",
    "\n",
    "cpw = RouteMeander(design, options=options)\n",
    "\n",
    "gui.rebuild()\n",
    "gui.autoscale()"
   ]
  },
  {
   "cell_type": "code",
   "execution_count": 27,
   "id": "2b651ccc",
   "metadata": {},
   "outputs": [
    {
     "data": {
      "text/plain": [
       "{'pos_x': '0.1mm',\n",
       " 'pos_y': '0mm',\n",
       " 'orientation': '0.0',\n",
       " 'chip': 'main',\n",
       " 'layer': '1',\n",
       " 'width': '1mm',\n",
       " 'height': '20um',\n",
       " 'gap': '8um',\n",
       " 'hfss_wire_bonds': False,\n",
       " 'q3d_wire_bonds': False}"
      ]
     },
     "execution_count": 27,
     "metadata": {},
     "output_type": "execute_result"
    }
   ],
   "source": [
    "myQC.options"
   ]
  },
  {
   "cell_type": "code",
   "execution_count": null,
   "id": "a90b83ba",
   "metadata": {},
   "outputs": [],
   "source": []
  }
 ],
 "metadata": {
  "kernelspec": {
   "display_name": "Python 3.10.5 ('metal22')",
   "language": "python",
   "name": "python3"
  },
  "language_info": {
   "codemirror_mode": {
    "name": "ipython",
    "version": 3
   },
   "file_extension": ".py",
   "mimetype": "text/x-python",
   "name": "python",
   "nbconvert_exporter": "python",
   "pygments_lexer": "ipython3",
   "version": "3.10.5"
  },
  "vscode": {
   "interpreter": {
    "hash": "f6d36c2f509a16dbf559eb3481fe9198457a40d350099f0e97a2fe5ec37c72fc"
   }
  }
 },
 "nbformat": 4,
 "nbformat_minor": 5
}
